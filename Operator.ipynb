{
 "cells": [
  {
   "cell_type": "code",
   "execution_count": 5,
   "id": "15297a70-d662-4d91-a7ec-d41d2d53fa0c",
   "metadata": {},
   "outputs": [
    {
     "name": "stdout",
     "output_type": "stream",
     "text": [
      "126\n",
      "-34\n",
      "3680\n",
      "0.575\n",
      "46\n"
     ]
    }
   ],
   "source": [
    "# In addition\n",
    "#In substaction\n",
    "#In Multiplication \n",
    "#In Division\n",
    "#in modulus\n",
    "a=46\n",
    "b=80\n",
    "print(a+b)\n",
    "print(a-b)\n",
    "print(a*b)\n",
    "print(a/b)\n",
    "print(a%b)"
   ]
  },
  {
   "cell_type": "code",
   "execution_count": 7,
   "id": "3a2fa170-c7c0-42fe-b79a-6b617298aae9",
   "metadata": {},
   "outputs": [
    {
     "name": "stdout",
     "output_type": "stream",
     "text": [
      "16\n"
     ]
    }
   ],
   "source": [
    "#in exponenet\n",
    "a=2**4\n",
    "print(a)"
   ]
  },
  {
   "cell_type": "code",
   "execution_count": 10,
   "id": "b385ddef-c64a-4a14-8a0f-59e3ab54c400",
   "metadata": {},
   "outputs": [
    {
     "data": {
      "text/plain": [
       "2"
      ]
     },
     "execution_count": 10,
     "metadata": {},
     "output_type": "execute_result"
    }
   ],
   "source": [
    "#in division flow\n",
    "a=8//4\n",
    "a"
   ]
  },
  {
   "cell_type": "code",
   "execution_count": 17,
   "id": "50fab1a8-2e79-4822-bfb1-2391d24dd7b5",
   "metadata": {},
   "outputs": [
    {
     "name": "stdout",
     "output_type": "stream",
     "text": [
      "91\n",
      "0.5384615384615384\n",
      "2\n"
     ]
    }
   ],
   "source": [
    "# in parenthesis \n",
    "a=(2+5)*(8+5)\n",
    "a1=(2+5)/(8+5)\n",
    "a2=(4+4)//(2+2)\n",
    "print(a)\n",
    "print(a1)\n",
    "print(a2)"
   ]
  },
  {
   "cell_type": "code",
   "execution_count": 19,
   "id": "96895fdc-2891-4a81-b3b4-e43440223d3f",
   "metadata": {},
   "outputs": [
    {
     "data": {
      "text/plain": [
       "17.0"
      ]
     },
     "execution_count": 19,
     "metadata": {},
     "output_type": "execute_result"
    }
   ],
   "source": [
    "#In BODMAS\n",
    "a=4\n",
    "b=6\n",
    "c=3\n",
    "a+(b/c)*b+a-c"
   ]
  },
  {
   "cell_type": "code",
   "execution_count": 20,
   "id": "9c280a2a-4010-4139-81c5-f9c9d34f8597",
   "metadata": {},
   "outputs": [
    {
     "data": {
      "text/plain": [
       "3.375"
      ]
     },
     "execution_count": 20,
     "metadata": {},
     "output_type": "execute_result"
    }
   ],
   "source": [
    "8/16*3/4+5-2\n"
   ]
  },
  {
   "cell_type": "code",
   "execution_count": 21,
   "id": "9d9bb50d-55e3-4143-ad8a-62c356fb5250",
   "metadata": {},
   "outputs": [
    {
     "name": "stdout",
     "output_type": "stream",
     "text": [
      "False\n",
      "False\n",
      "True\n",
      "False\n",
      "True\n",
      "True\n"
     ]
    }
   ],
   "source": [
    "#Comparision/Relational Operator\n",
    "s=40\n",
    "k=65\n",
    "print(s==k)\n",
    "print(s>k)\n",
    "print(s<k)\n",
    "print(s>=k)\n",
    "print(s<=k)\n",
    "print(s!=k)\n"
   ]
  },
  {
   "cell_type": "code",
   "execution_count": 25,
   "id": "64626024-558f-4ad3-a283-812b07ed1a56",
   "metadata": {},
   "outputs": [
    {
     "data": {
      "text/plain": [
       "False"
      ]
     },
     "execution_count": 25,
     "metadata": {},
     "output_type": "execute_result"
    }
   ],
   "source": [
    "a='Hiii'\n",
    "b='love'\n",
    "a==b\n"
   ]
  },
  {
   "cell_type": "code",
   "execution_count": 26,
   "id": "94f6285c-772e-41e8-8ced-3bfd7e3dc025",
   "metadata": {},
   "outputs": [
    {
     "data": {
      "text/plain": [
       "True"
      ]
     },
     "execution_count": 26,
     "metadata": {},
     "output_type": "execute_result"
    }
   ],
   "source": [
    "3!=5"
   ]
  },
  {
   "cell_type": "code",
   "execution_count": 27,
   "id": "092c4219-caa5-443d-b5e9-df8ba0f23c9e",
   "metadata": {},
   "outputs": [
    {
     "data": {
      "text/plain": [
       "'0b1010'"
      ]
     },
     "execution_count": 27,
     "metadata": {},
     "output_type": "execute_result"
    }
   ],
   "source": [
    "bin(10)"
   ]
  },
  {
   "cell_type": "code",
   "execution_count": 28,
   "id": "2e49f72f-a8c5-47fd-bba6-f8ef0781ea0e",
   "metadata": {},
   "outputs": [
    {
     "data": {
      "text/plain": [
       "14"
      ]
     },
     "execution_count": 28,
     "metadata": {},
     "output_type": "execute_result"
    }
   ],
   "source": [
    "0b01110"
   ]
  },
  {
   "cell_type": "code",
   "execution_count": 32,
   "id": "ae177af2-9fb3-439b-97a0-a441a2192dc3",
   "metadata": {},
   "outputs": [
    {
     "data": {
      "text/plain": [
       "12"
      ]
     },
     "execution_count": 32,
     "metadata": {},
     "output_type": "execute_result"
    }
   ],
   "source": [
    "0b1100"
   ]
  },
  {
   "cell_type": "code",
   "execution_count": 40,
   "id": "da3dc850-05cb-4a89-b74a-793522316629",
   "metadata": {},
   "outputs": [
    {
     "name": "stdout",
     "output_type": "stream",
     "text": [
      "7\n",
      "5\n"
     ]
    }
   ],
   "source": [
    "#Bitwise or\n",
    "a=7\n",
    "b=5\n",
    "print(a | b)\n",
    "print(a & b)"
   ]
  },
  {
   "cell_type": "code",
   "execution_count": 44,
   "id": "cffc91ab-7cef-4b92-9362-6a6dace94a1c",
   "metadata": {},
   "outputs": [
    {
     "data": {
      "text/plain": [
       "10"
      ]
     },
     "execution_count": 44,
     "metadata": {},
     "output_type": "execute_result"
    }
   ],
   "source": [
    "10|2\n"
   ]
  },
  {
   "cell_type": "code",
   "execution_count": 43,
   "id": "1a106d48-6abd-4db8-8d36-7b5da3096f44",
   "metadata": {},
   "outputs": [
    {
     "data": {
      "text/plain": [
       "0"
      ]
     },
     "execution_count": 43,
     "metadata": {},
     "output_type": "execute_result"
    }
   ],
   "source": [
    "8&5"
   ]
  },
  {
   "cell_type": "code",
   "execution_count": 46,
   "id": "971d3dc6-1ed7-4c33-a13d-c8d8028353fd",
   "metadata": {},
   "outputs": [
    {
     "data": {
      "text/plain": [
       "True"
      ]
     },
     "execution_count": 46,
     "metadata": {},
     "output_type": "execute_result"
    }
   ],
   "source": [
    "#logical operator \n",
    "(1>5)or(2<3)"
   ]
  },
  {
   "cell_type": "code",
   "execution_count": 49,
   "id": "058f67e7-c45f-4fe5-a987-6dd30a7dbb0f",
   "metadata": {},
   "outputs": [
    {
     "data": {
      "text/plain": [
       "True"
      ]
     },
     "execution_count": 49,
     "metadata": {},
     "output_type": "execute_result"
    }
   ],
   "source": [
    "(4==4) and (8==8) or (9!=9)"
   ]
  },
  {
   "cell_type": "code",
   "execution_count": 8,
   "id": "4d5ec238-d894-4f88-9547-d85e668552ce",
   "metadata": {},
   "outputs": [
    {
     "data": {
      "text/plain": [
       "76"
      ]
     },
     "execution_count": 8,
     "metadata": {},
     "output_type": "execute_result"
    }
   ],
   "source": [
    "#assignmet operator\n",
    "a45=76\n",
    "a45"
   ]
  },
  {
   "cell_type": "code",
   "execution_count": 9,
   "id": "10e40a4c-5ea9-4b94-bf75-bf3bb545e883",
   "metadata": {},
   "outputs": [
    {
     "name": "stdout",
     "output_type": "stream",
     "text": [
      "77\n"
     ]
    }
   ],
   "source": [
    "a45=a45+1\n",
    "print(a45)"
   ]
  },
  {
   "cell_type": "code",
   "execution_count": 12,
   "id": "e32f46c5-4a86-4a16-8990-963f123691a6",
   "metadata": {},
   "outputs": [
    {
     "data": {
      "text/plain": [
       "78"
      ]
     },
     "execution_count": 12,
     "metadata": {},
     "output_type": "execute_result"
    }
   ],
   "source": [
    "a45+=1\n",
    "a45"
   ]
  },
  {
   "cell_type": "code",
   "execution_count": 20,
   "id": "9073b71b-a3d0-4eac-9873-ab1e66a63f70",
   "metadata": {},
   "outputs": [
    {
     "data": {
      "text/plain": [
       "45"
      ]
     },
     "execution_count": 20,
     "metadata": {},
     "output_type": "execute_result"
    }
   ],
   "source": [
    "a=45\n",
    "a*=1\n",
    "a"
   ]
  },
  {
   "cell_type": "code",
   "execution_count": 21,
   "id": "97844b07-68f1-4f52-ae41-decd6ad330ff",
   "metadata": {},
   "outputs": [
    {
     "data": {
      "text/plain": [
       "69.0"
      ]
     },
     "execution_count": 21,
     "metadata": {},
     "output_type": "execute_result"
    }
   ],
   "source": [
    "a=69\n",
    "a/=1\n",
    "a"
   ]
  },
  {
   "cell_type": "code",
   "execution_count": 23,
   "id": "cd17c1c9-37e2-4ddb-b9ad-867852afc7be",
   "metadata": {},
   "outputs": [
    {
     "data": {
      "text/plain": [
       "0"
      ]
     },
     "execution_count": 23,
     "metadata": {},
     "output_type": "execute_result"
    }
   ],
   "source": [
    "a=45\n",
    "a%=1\n",
    "a"
   ]
  },
  {
   "cell_type": "code",
   "execution_count": 24,
   "id": "52d8a473-ad3d-4d2e-b798-55fe2b95aed4",
   "metadata": {},
   "outputs": [
    {
     "data": {
      "text/plain": [
       "48"
      ]
     },
     "execution_count": 24,
     "metadata": {},
     "output_type": "execute_result"
    }
   ],
   "source": [
    "a=48\n",
    "a**=1\n",
    "a"
   ]
  },
  {
   "cell_type": "code",
   "execution_count": 26,
   "id": "f8c00933-16d4-4b34-91af-e64bee7722bb",
   "metadata": {},
   "outputs": [
    {
     "name": "stdout",
     "output_type": "stream",
     "text": [
      "True\n"
     ]
    }
   ],
   "source": [
    "#identity operator \n",
    "a=\"kkk\"\n",
    "b=\"kkk\"\n",
    "print (a is b)"
   ]
  },
  {
   "cell_type": "code",
   "execution_count": 27,
   "id": "96eb281d-e710-479e-be9e-4eca6bd77494",
   "metadata": {},
   "outputs": [
    {
     "name": "stdout",
     "output_type": "stream",
     "text": [
      "True\n"
     ]
    }
   ],
   "source": [
    "a=7*8\n",
    "b=7*8\n",
    "print (a is b)"
   ]
  },
  {
   "cell_type": "code",
   "execution_count": 28,
   "id": "da5789b6-cf07-47c1-90d6-1edf45f9efc0",
   "metadata": {},
   "outputs": [
    {
     "name": "stdout",
     "output_type": "stream",
     "text": [
      "True\n"
     ]
    }
   ],
   "source": [
    "a=100\n",
    "b=57\n",
    "print(a is not b)"
   ]
  },
  {
   "cell_type": "code",
   "execution_count": 29,
   "id": "7ad7acea-6f8f-4561-a58b-190113ae5749",
   "metadata": {},
   "outputs": [
    {
     "data": {
      "text/plain": [
       "True"
      ]
     },
     "execution_count": 29,
     "metadata": {},
     "output_type": "execute_result"
    }
   ],
   "source": [
    "#Membership Operator\n",
    "a=\"Srabana\"\n",
    "'aba' in a\n"
   ]
  },
  {
   "cell_type": "code",
   "execution_count": 34,
   "id": "9b818bd0-67af-49c4-bd60-b7bde594bf9d",
   "metadata": {},
   "outputs": [
    {
     "data": {
      "text/plain": [
       "True"
      ]
     },
     "execution_count": 34,
     "metadata": {},
     "output_type": "execute_result"
    }
   ],
   "source": [
    "a=[4,8,5,90]\n",
    "4 in a\n"
   ]
  },
  {
   "cell_type": "code",
   "execution_count": 40,
   "id": "b7099f33-e657-4927-a401-9297d426615c",
   "metadata": {},
   "outputs": [
    {
     "data": {
      "text/plain": [
       "True"
      ]
     },
     "execution_count": 40,
     "metadata": {},
     "output_type": "execute_result"
    }
   ],
   "source": [
    "st = [4,89,78,24]\n",
    "56 not in st"
   ]
  },
  {
   "cell_type": "code",
   "execution_count": null,
   "id": "34e373d9-d962-4973-8e77-87ebc14ee9e1",
   "metadata": {},
   "outputs": [],
   "source": []
  }
 ],
 "metadata": {
  "kernelspec": {
   "display_name": "Python 3 (ipykernel)",
   "language": "python",
   "name": "python3"
  },
  "language_info": {
   "codemirror_mode": {
    "name": "ipython",
    "version": 3
   },
   "file_extension": ".py",
   "mimetype": "text/x-python",
   "name": "python",
   "nbconvert_exporter": "python",
   "pygments_lexer": "ipython3",
   "version": "3.11.7"
  }
 },
 "nbformat": 4,
 "nbformat_minor": 5
}
