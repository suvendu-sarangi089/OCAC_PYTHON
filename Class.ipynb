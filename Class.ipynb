{
 "cells": [
  {
   "cell_type": "markdown",
   "id": "b679a0ba-731d-4efe-8480-8d9844dd6731",
   "metadata": {},
   "source": [
    "# Python Classes/Objects"
   ]
  },
  {
   "cell_type": "code",
   "execution_count": 9,
   "id": "1875beae-7af6-4f8a-af30-6ae3639458bc",
   "metadata": {},
   "outputs": [],
   "source": [
    "#create an object\n",
    "class MyClass:\n",
    "    x=6"
   ]
  },
  {
   "cell_type": "code",
   "execution_count": 15,
   "id": "2ac24564-d3c6-40e8-a98c-319ecfee9e0c",
   "metadata": {},
   "outputs": [
    {
     "name": "stdout",
     "output_type": "stream",
     "text": [
      "6\n"
     ]
    }
   ],
   "source": [
    "#Now we can use the class Named MyClass to create object\n",
    "p1 = MyClass()\n",
    "print(p1.x)"
   ]
  },
  {
   "cell_type": "code",
   "execution_count": 17,
   "id": "58d2a5ec-9de9-47c3-ac7a-0fccb7a434af",
   "metadata": {},
   "outputs": [
    {
     "name": "stdout",
     "output_type": "stream",
     "text": [
      "6\n",
      "<class '__main__.MyClass'>\n"
     ]
    }
   ],
   "source": [
    "y=MyClass()\n",
    "print(y.x)\n",
    "print(type(y))"
   ]
  },
  {
   "cell_type": "code",
   "execution_count": 19,
   "id": "55cb3a14-cfcd-4e92-ac1f-bbd8b63abe78",
   "metadata": {},
   "outputs": [
    {
     "name": "stdout",
     "output_type": "stream",
     "text": [
      "Hello Bachho kese ho app\n"
     ]
    }
   ],
   "source": [
    "class Student:\n",
    "    def fun():\n",
    "        print(\"Hello Bachho kese ho app\")\n",
    "Student.fun()"
   ]
  },
  {
   "cell_type": "code",
   "execution_count": 22,
   "id": "214e7b11-8aa2-4315-ba52-8c30488a2ef6",
   "metadata": {},
   "outputs": [
    {
     "name": "stdout",
     "output_type": "stream",
     "text": [
      "Sam\n",
      "66\n"
     ]
    }
   ],
   "source": [
    "class Person:\n",
    "    def __init__(k, name, age):      #init() is used to initialised a instance variable\n",
    "        k.name=name\n",
    "        k.age=age\n",
    "l=Person(\"Sam\",66)\n",
    "print(l.name)\n",
    "print(l.age)"
   ]
  },
  {
   "cell_type": "code",
   "execution_count": 35,
   "id": "8f980e54-2619-42ee-9739-28bbf5fb32c2",
   "metadata": {},
   "outputs": [
    {
     "name": "stdout",
     "output_type": "stream",
     "text": [
      "Hello my name is Sam\n"
     ]
    }
   ],
   "source": [
    "class Person:\n",
    "    def __init__(k, name, age):   #k or self is used for reference variable\n",
    "        k.name=name\n",
    "        k.age=age\n",
    "    def myfun(k):\n",
    "        print(\"Hello my name is \"+k.name)\n",
    "        \n",
    "l=Person(\"Sam\",66)\n",
    "l.myfun()"
   ]
  },
  {
   "cell_type": "code",
   "execution_count": 37,
   "id": "bfbe7683-5436-416e-8c30-f64064de0252",
   "metadata": {},
   "outputs": [
    {
     "name": "stdout",
     "output_type": "stream",
     "text": [
      "Elon Musk\n",
      "I am Champ\n"
     ]
    }
   ],
   "source": [
    "class Student:\n",
    "    def __init__(self,name):\n",
    "        self.name = name\n",
    "elon = Student(name = \"Elon Musk\")\n",
    "champ = Student(name = \"I am Champ\")\n",
    "\n",
    "print(elon.name)\n",
    "print(champ.name)"
   ]
  },
  {
   "cell_type": "code",
   "execution_count": 49,
   "id": "515da6be-9648-4100-89b7-708fa1076e9f",
   "metadata": {},
   "outputs": [],
   "source": [
    "class Std:\n",
    "    Total = 500\n",
    "\n",
    "    def __init__(self,mark):                 #instance varisable\n",
    "        self.mark = mark\n",
    "        print(\"Initialized....\")\n",
    "    def findLoss(self):\n",
    "        return self.Total - self.mark\n",
    "    def findPercentage(self):\n",
    "        return (self.mark / self.Total) * 100"
   ]
  },
  {
   "cell_type": "code",
   "execution_count": 53,
   "id": "b771ec8f-c1c9-4ef7-9c91-e19e02dd2903",
   "metadata": {},
   "outputs": [
    {
     "name": "stdout",
     "output_type": "stream",
     "text": [
      "Initialized....\n",
      "Total Marks : 500\n",
      "Loss Marks: 42\n",
      "Percentage is  : 91.60000000000001\n",
      "Percentage is: 91.60%:\n"
     ]
    }
   ],
   "source": [
    "a = Std(mark=458)\n",
    "print(\"Total Marks :\",a.Total)\n",
    "print(\"Loss Marks:\",a.findLoss())\n",
    "print(\"Percentage is  :\",a.findPercentage())\n",
    "print(\"Percentage is: {:.2f}%:\".format (a.findPercentage()))\n"
   ]
  },
  {
   "cell_type": "code",
   "execution_count": 91,
   "id": "28201842-8d92-47a2-a854-a8a8950658a4",
   "metadata": {},
   "outputs": [],
   "source": [
    "class Tech:\n",
    "    total =600\n",
    "    def __init__(self,name,mark,gender):\n",
    "        self.name = name\n",
    "        self.mark = mark\n",
    "        self.gender = gender\n",
    "        print(\"Intialised......\")\n",
    "    def __len__(self):\n",
    "        return self.mark\n",
    "    def __str__(self):\n",
    "        return \"Name: %s | Mark: %s | Gender:%s\"%(self.name,self.mark,self.gender)\n",
    "    def __del__(self):\n",
    "        print('Student Database is Deleted')"
   ]
  },
  {
   "cell_type": "code",
   "execution_count": 93,
   "id": "284145a0-82e0-4c13-b2ee-f4057d4a0f51",
   "metadata": {},
   "outputs": [
    {
     "name": "stdout",
     "output_type": "stream",
     "text": [
      "Intialised......\n",
      "Intialised......\n"
     ]
    }
   ],
   "source": [
    "a= Tech('jaga','450','male')\n",
    "b=Tech('kajal',500,'female')"
   ]
  },
  {
   "cell_type": "code",
   "execution_count": 95,
   "id": "97f622ee-d921-477d-add6-736b1222d252",
   "metadata": {},
   "outputs": [
    {
     "name": "stdout",
     "output_type": "stream",
     "text": [
      "Name: jaga | Mark: 450 | Gender:male\n",
      "Name: kajal | Mark: 500 | Gender:female\n"
     ]
    }
   ],
   "source": [
    "print(a)\n",
    "print(b)"
   ]
  },
  {
   "cell_type": "code",
   "execution_count": 100,
   "id": "1502b85a-e090-4b93-9e02-dd878ccbfe31",
   "metadata": {},
   "outputs": [
    {
     "name": "stdout",
     "output_type": "stream",
     "text": [
      "marks: 500\n"
     ]
    }
   ],
   "source": [
    "print('marks:',len(b))"
   ]
  },
  {
   "cell_type": "markdown",
   "id": "52711003-3fb7-401a-b9e7-2446d7b1aeb3",
   "metadata": {},
   "source": [
    "# The self parameter :-"
   ]
  },
  {
   "cell_type": "code",
   "execution_count": 127,
   "id": "3731815e-9dae-44bd-b831-fef1a0a91f3d",
   "metadata": {},
   "outputs": [
    {
     "name": "stdout",
     "output_type": "stream",
     "text": [
      "Hello my name is Kajal and my age is  22\n"
     ]
    }
   ],
   "source": [
    "class Per:\n",
    "    def __init__(obj,name,age):\n",
    "        obj.name = name\n",
    "        obj.age = age\n",
    "    def myfun(ab):\n",
    "        print('Hello my name is '+ab.name ,\"and my age is \",ab.age)\n",
    "p2=Per('Kajal',22)\n",
    "p2.myfun()"
   ]
  },
  {
   "cell_type": "markdown",
   "id": "427d450a-aa82-4ca4-a853-bbb6a75bba1a",
   "metadata": {},
   "source": [
    "# delete objects "
   ]
  },
  {
   "cell_type": "code",
   "execution_count": 121,
   "id": "f3aac908-0867-483e-a1b3-b4ddf2f84b86",
   "metadata": {},
   "outputs": [
    {
     "ename": "NameError",
     "evalue": "name 'p2' is not defined",
     "output_type": "error",
     "traceback": [
      "\u001b[1;31m---------------------------------------------------------------------------\u001b[0m",
      "\u001b[1;31mNameError\u001b[0m                                 Traceback (most recent call last)",
      "Cell \u001b[1;32mIn[121], line 2\u001b[0m\n\u001b[0;32m      1\u001b[0m \u001b[38;5;28;01mdel\u001b[39;00m p2\n\u001b[1;32m----> 2\u001b[0m p2\u001b[38;5;241m.\u001b[39mmyfun()\n",
      "\u001b[1;31mNameError\u001b[0m: name 'p2' is not defined"
     ]
    }
   ],
   "source": [
    "del p2\n",
    "p2.myfun()"
   ]
  },
  {
   "cell_type": "markdown",
   "id": "d9192981-b59d-472a-98b3-34510418693e",
   "metadata": {},
   "source": [
    "# Pass Statement"
   ]
  },
  {
   "cell_type": "code",
   "execution_count": 132,
   "id": "5c60135a-e1ee-4c29-845e-c907eb92b480",
   "metadata": {},
   "outputs": [],
   "source": [
    "class Person:\n",
    "    pass             #here is use the statement is pass so there is no error then in this type we  use Pass Statement\n"
   ]
  },
  {
   "cell_type": "code",
   "execution_count": 134,
   "id": "71b88859-d930-4ac9-9a05-8d936355d6a7",
   "metadata": {},
   "outputs": [
    {
     "ename": "SyntaxError",
     "evalue": "incomplete input (2905879880.py, line 2)",
     "output_type": "error",
     "traceback": [
      "\u001b[1;36m  Cell \u001b[1;32mIn[134], line 2\u001b[1;36m\u001b[0m\n\u001b[1;33m    \u001b[0m\n\u001b[1;37m    ^\u001b[0m\n\u001b[1;31mSyntaxError\u001b[0m\u001b[1;31m:\u001b[0m incomplete input\n"
     ]
    }
   ],
   "source": [
    "class ka:                     #in this there is no body  part is available so it is incomplete \n",
    "    "
   ]
  },
  {
   "cell_type": "markdown",
   "id": "001e4b0c-d465-4707-b9a9-e19abba1f019",
   "metadata": {},
   "source": [
    "# create a Parent class "
   ]
  },
  {
   "cell_type": "code",
   "execution_count": 155,
   "id": "657ec067-4214-4c73-8bb8-4316293cea9a",
   "metadata": {},
   "outputs": [
    {
     "name": "stdout",
     "output_type": "stream",
     "text": [
      "John Doe\n"
     ]
    }
   ],
   "source": [
    "class Pers:\n",
    "    def __init__(self, fname, lname):\n",
    "        self.firstname = fname\n",
    "        self.lastname = lname\n",
    "    def printname(self):\n",
    "        print(self.firstname, self.lastname)\n",
    "\n",
    "x = Pers(\"John\", \"Doe\")\n",
    "x.printname()"
   ]
  },
  {
   "cell_type": "markdown",
   "id": "c02fd8d2-3f86-427c-b865-504b8f065411",
   "metadata": {},
   "source": [
    "# create a child class"
   ]
  },
  {
   "cell_type": "code",
   "execution_count": 194,
   "id": "6fc4b44e-f096-457c-a023-9fa5704ef10b",
   "metadata": {},
   "outputs": [],
   "source": [
    "class STD(Pers):\n",
    "    pass "
   ]
  },
  {
   "cell_type": "code",
   "execution_count": 159,
   "id": "5a37e30c-83e7-4c4b-b17b-07d64e3ffc6e",
   "metadata": {},
   "outputs": [
    {
     "name": "stdout",
     "output_type": "stream",
     "text": [
      "kkk ncnil\n"
     ]
    }
   ],
   "source": [
    "y= STD(\"kkk\",\"ncnil\")\n",
    "y.printname()\n"
   ]
  },
  {
   "cell_type": "code",
   "execution_count": 197,
   "id": "123f0b2c-8881-4e48-8f08-2ad6b93392d7",
   "metadata": {},
   "outputs": [
    {
     "name": "stdout",
     "output_type": "stream",
     "text": [
      "John Doe\n"
     ]
    }
   ],
   "source": [
    "class STD(Pers):\n",
    "    def __init__(self,fname,lname):\n",
    "        Pers.__init__ (self,fname,lname)\n",
    "        x= STD('Hiii','Byy')\n",
    "x.printname()\n",
    "        "
   ]
  },
  {
   "cell_type": "markdown",
   "id": "826ebbf0-3a5d-4f6e-a392-a5c3cd5dd1fa",
   "metadata": {},
   "source": [
    "# Use Super () function:-"
   ]
  },
  {
   "cell_type": "markdown",
   "id": "7b6b3f22-b350-4b7c-bf8a-c2c8242efacf",
   "metadata": {},
   "source": [
    "###### super() is used for child class is inherit by all the method and properties of parent class"
   ]
  },
  {
   "cell_type": "code",
   "execution_count": 211,
   "id": "e7725e0a-cd73-47f8-b996-9b2ae371145c",
   "metadata": {},
   "outputs": [
    {
     "name": "stdout",
     "output_type": "stream",
     "text": [
      "2023\n",
      "Jiii Olll\n"
     ]
    }
   ],
   "source": [
    "#Add a property called graduationyear to the Student class:\n",
    "class Perso:\n",
    "    def __init__(self,fname,lname):\n",
    "        self.firstname = fname\n",
    "        self.lastname = lname\n",
    "    def printname(self):\n",
    "        print(self.firstname,self.lastname)\n",
    "class STDN(Perso):\n",
    "    def __init__(self,fname,lname):\n",
    "        super().__init__(fname,lname)\n",
    "        self.graduationyear = 2023\n",
    "k=STDN(\"Jiii\",\"Olll\")\n",
    "print(k.graduationyear)\n",
    "k.printname()"
   ]
  },
  {
   "cell_type": "code",
   "execution_count": 223,
   "id": "b00860e4-aba2-4ce3-b99d-7a5d5f21f1c0",
   "metadata": {},
   "outputs": [
    {
     "name": "stdout",
     "output_type": "stream",
     "text": [
      "2016\n"
     ]
    }
   ],
   "source": [
    "class Perso:\n",
    "    def __init__(self,fname,lname):\n",
    "        self.firstname = fname\n",
    "        self.lastname = lname\n",
    "    def printname(self):\n",
    "        print(self.firstname,self.lastname)\n",
    "class STDN(Perso):\n",
    "    def __init__(self,fname,lname,year):\n",
    "        super().__init__(fname,lname)\n",
    "        self.graduationyear = year\n",
    "k=STDN(\"Jiii\",\"Olll\",2016)\n",
    "print(k.graduationyear)\n"
   ]
  },
  {
   "cell_type": "markdown",
   "id": "e833b8da-6461-4210-9c58-77588b2ebfe9",
   "metadata": {},
   "source": [
    "# Inheritance:=\n"
   ]
  },
  {
   "cell_type": "markdown",
   "id": "67f06646-80da-4a71-b957-c8d55f6fe0a9",
   "metadata": {},
   "source": [
    "###### Parent class is  called base class\n",
    "###### Child class is alsi called as derived class"
   ]
  },
  {
   "cell_type": "code",
   "execution_count": 234,
   "id": "ab58237a-ee4b-40fa-b8e4-c05b4e889dbe",
   "metadata": {},
   "outputs": [],
   "source": [
    "class Elon:\n",
    "    def __init__(self):\n",
    "        print(\"Profile created\")\n",
    "    def name(self):\n",
    "        print(\"Elon Musk\")\n",
    "    def age(self):\n",
    "        print(\"40\")"
   ]
  },
  {
   "cell_type": "markdown",
   "id": "3a225266-c073-4efa-ada4-9a16585e0374",
   "metadata": {},
   "source": [
    "# Protectd method"
   ]
  },
  {
   "cell_type": "code",
   "execution_count": 1,
   "id": "f0180997-1011-4834-8a51-2653a9700cf4",
   "metadata": {},
   "outputs": [
    {
     "name": "stdout",
     "output_type": "stream",
     "text": [
      "10\n"
     ]
    }
   ],
   "source": [
    "#protectd method \n",
    "class MyCl:\n",
    "    def __init__(self,value):\n",
    "        self._value= value\n",
    "        \n",
    "    def _protected_method(self):\n",
    "        return self._value\n",
    "obj=MyCl(10)\n",
    "print(obj._value)"
   ]
  },
  {
   "cell_type": "code",
   "execution_count": 2,
   "id": "2210bd47-92c3-4a25-a460-08c25d3c2245",
   "metadata": {},
   "outputs": [
    {
     "data": {
      "text/plain": [
       "10"
      ]
     },
     "execution_count": 2,
     "metadata": {},
     "output_type": "execute_result"
    }
   ],
   "source": [
    "obj._protected_method()"
   ]
  },
  {
   "cell_type": "markdown",
   "id": "04fa53a8-e127-468c-ae8a-a2b29792574c",
   "metadata": {},
   "source": [
    "# Polimorphism"
   ]
  },
  {
   "cell_type": "code",
   "execution_count": 8,
   "id": "c8733da3-a241-452b-a771-397b641c7b75",
   "metadata": {},
   "outputs": [],
   "source": [
    "class Elon:\n",
    "    def __init__(self, name):\n",
    "        self.name = name\n",
    "    def type(self):\n",
    "            return \"Entrepreneur\"\n",
    "class Sundar:\n",
    "    def __init__(self, name):\n",
    "        self.name = name\n",
    "    def type(self):\n",
    "        return \"CEO\"\n",
    "        "
   ]
  },
  {
   "cell_type": "code",
   "execution_count": 16,
   "id": "27cf021b-de2d-4c3a-a8a1-02fcd1b7477c",
   "metadata": {},
   "outputs": [
    {
     "name": "stdout",
     "output_type": "stream",
     "text": [
      "Elon Musk is a Entrepreneur\n",
      "Sundar Pichai is a CEO\n"
     ]
    }
   ],
   "source": [
    "# Creating instances of Elon and Sundar\n",
    "person1 = Elon('Elon Musk')\n",
    "person2 = Sundar('Sundar Pichai')\n",
    "# Function to demonstrate polymorphism\n",
    "def print_person_type(person):\n",
    "    print(f\"{person.name} is a {person.type()}\")\n",
    "# Calling the function with different objects\n",
    "print_person_type(person1)\n",
    "print_person_type(person2)"
   ]
  },
  {
   "cell_type": "markdown",
   "id": "5ad6d439-18e1-4fe8-9526-7e69fa2db310",
   "metadata": {},
   "source": [
    "# using static method"
   ]
  },
  {
   "cell_type": "code",
   "execution_count": 23,
   "id": "01d0c562-d90b-4cdf-8205-4cf725da6003",
   "metadata": {},
   "outputs": [
    {
     "name": "stdout",
     "output_type": "stream",
     "text": [
      "3\n"
     ]
    }
   ],
   "source": [
    "class MyClass:\n",
    "    @staticmethod\n",
    "    def my_function(arg1, arg2):\n",
    "        return arg1 + arg2\n",
    "result = MyClass.my_function(1, 2)\n",
    "print(result) "
   ]
  },
  {
   "cell_type": "code",
   "execution_count": 27,
   "id": "1160b913-a850-44c1-8079-a024bd3dfe94",
   "metadata": {},
   "outputs": [
    {
     "name": "stdout",
     "output_type": "stream",
     "text": [
      "7\n"
     ]
    }
   ],
   "source": [
    "class MyClass:\n",
    "    def my_function(arg1, arg2):\n",
    "        return arg1 + arg2\n",
    "# You can call it directly using the class name\n",
    "result = MyClass.my_function(5, 2)\n",
    "print(result) "
   ]
  },
  {
   "cell_type": "markdown",
   "id": "03847332-7f48-4cc5-8aa3-187828b14889",
   "metadata": {},
   "source": [
    "# Using classmethod"
   ]
  },
  {
   "cell_type": "code",
   "execution_count": 32,
   "id": "99e76355-eedd-4e84-ad78-2d4edeb7f237",
   "metadata": {},
   "outputs": [
    {
     "name": "stdout",
     "output_type": "stream",
     "text": [
      "15\n"
     ]
    }
   ],
   "source": [
    "class MyClass:\n",
    "    class_variable = 10\n",
    "    @classmethod\n",
    "    def my_function(cls, arg1):\n",
    "        return cls.class_variable + arg1\n",
    "\n",
    "result = MyClass.my_function(5)\n",
    "print(result) "
   ]
  },
  {
   "cell_type": "markdown",
   "id": "fea35ecd-c0ee-48cd-aa49-6e259a8c57da",
   "metadata": {},
   "source": [
    "# Using Regular Method "
   ]
  },
  {
   "cell_type": "code",
   "execution_count": 35,
   "id": "f36a7f89-b3d6-4687-abff-1f165c19c6f6",
   "metadata": {},
   "outputs": [
    {
     "name": "stdout",
     "output_type": "stream",
     "text": [
      "15\n"
     ]
    }
   ],
   "source": [
    "class MyClass:\n",
    "    def __init__(self, value):\n",
    "        self.value = value\n",
    "    def my_function(self, arg1):\n",
    "        return self.value + arg1\n",
    "instance = MyClass(10)\n",
    "result = instance.my_function(5)\n",
    "print(result) "
   ]
  },
  {
   "cell_type": "markdown",
   "id": "6763fd4a-303b-4e93-bd98-1a05f5a2d12c",
   "metadata": {},
   "source": [
    "# Encapsulation"
   ]
  },
  {
   "cell_type": "markdown",
   "id": "7a32d62d-7eec-4b45-9e8a-41593e26be68",
   "metadata": {},
   "source": [
    "## 1.Public "
   ]
  },
  {
   "cell_type": "code",
   "execution_count": 38,
   "id": "af5611b8-0bfe-432d-8b2e-788cc472f3e1",
   "metadata": {},
   "outputs": [
    {
     "name": "stdout",
     "output_type": "stream",
     "text": [
      "10\n"
     ]
    }
   ],
   "source": [
    "class MyClass:\n",
    "    def __init__(self, value):\n",
    "     self.value = value\n",
    "obj = MyClass(10)\n",
    "print(obj.value) "
   ]
  },
  {
   "cell_type": "markdown",
   "id": "22fea52d-40a7-4337-bfa3-60c9f1b1eb01",
   "metadata": {},
   "source": [
    "## 2.Private method"
   ]
  },
  {
   "cell_type": "code",
   "execution_count": null,
   "id": "14e6dbf6-4a22-4a7e-aa7b-27ffc49524e7",
   "metadata": {},
   "outputs": [],
   "source": [
    "#private method\n",
    "class MyCll:\n",
    "    def __init__(self,value):\n",
    "        self.__value = value\n",
    "    def get_value(self):\n",
    "        return self.__value\n",
    "obj = MyCll(50)\n",
    "print(obj.get_value())"
   ]
  },
  {
   "cell_type": "markdown",
   "id": "11314cc8-2d06-474f-bd45-6b659e67fc3e",
   "metadata": {},
   "source": [
    "# Task"
   ]
  },
  {
   "cell_type": "code",
   "execution_count": null,
   "id": "237aa0e6-8c0b-4580-b560-94c546a30e1b",
   "metadata": {},
   "outputs": [],
   "source": [
    "class Vehicle:\n",
    "    def __init__(self,color):\n",
    "        self.color = color\n",
    "class Car(Vehicle):\n",
    "    def __init__(self,color,model):\n",
    "        super().__init__(color)\n",
    "        self.model = model\n",
    "\n",
    "my_car =Car(\"Red\",\"Toyata\")\n",
    "print(my_car.model)"
   ]
  },
  {
   "cell_type": "markdown",
   "id": "04a0b8f4-b1e6-4702-9dad-350429180cae",
   "metadata": {},
   "source": [
    "### Using  Getter and Setter Method"
   ]
  },
  {
   "cell_type": "code",
   "execution_count": 43,
   "id": "5ffaf37e-9dcb-4858-a221-35b889c67057",
   "metadata": {},
   "outputs": [
    {
     "name": "stdout",
     "output_type": "stream",
     "text": [
      "10\n",
      "20\n"
     ]
    }
   ],
   "source": [
    "class MyClass:\n",
    "    def __init__(self, value):\n",
    "        self.__value = value\n",
    "    def get_value(self):\n",
    "        return self.__value\n",
    "    def set_value(self, value):\n",
    "        self.__value = value\n",
    "obj = MyClass(10)\n",
    "print(obj.get_value()) \n",
    "obj.set_value(20)\n",
    "print(obj.get_value())\n"
   ]
  },
  {
   "cell_type": "code",
   "execution_count": null,
   "id": "cdb4106e-db6b-4fd3-8511-09d020ba577e",
   "metadata": {},
   "outputs": [],
   "source": []
  }
 ],
 "metadata": {
  "kernelspec": {
   "display_name": "Python 3 (ipykernel)",
   "language": "python",
   "name": "python3"
  },
  "language_info": {
   "codemirror_mode": {
    "name": "ipython",
    "version": 3
   },
   "file_extension": ".py",
   "mimetype": "text/x-python",
   "name": "python",
   "nbconvert_exporter": "python",
   "pygments_lexer": "ipython3",
   "version": "3.11.7"
  }
 },
 "nbformat": 4,
 "nbformat_minor": 5
}
