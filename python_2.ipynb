{
 "cells": [
  {
   "cell_type": "code",
   "execution_count": 1,
   "id": "36080c3d-4428-4b58-aabe-10d8eedbdbce",
   "metadata": {},
   "outputs": [
    {
     "name": "stdout",
     "output_type": "stream",
     "text": [
      "sri Jagannath\n",
      "ram\n"
     ]
    }
   ],
   "source": [
    "print(\"sri Jagannath\")\n",
    "print(\"ram\")\n"
   ]
  },
  {
   "cell_type": "markdown",
   "id": "60519224-a3c4-4e6c-871a-13270e02a1e2",
   "metadata": {},
   "source": []
  },
  {
   "cell_type": "markdown",
   "id": "d6e85399-39f3-4564-ac2b-fada97cb4d01",
   "metadata": {},
   "source": [
    "\n"
   ]
  },
  {
   "cell_type": "code",
   "execution_count": 2,
   "id": "0dc7b06c-2545-4e30-be0a-401d8ea0599d",
   "metadata": {},
   "outputs": [
    {
     "data": {
      "text/plain": [
       "'allupati sir is our python Teacher'"
      ]
     },
     "execution_count": 2,
     "metadata": {},
     "output_type": "execute_result"
    }
   ],
   "source": [
    "a=(\"allupati sir is our python Teacher\")\n",
    "a\n"
   ]
  },
  {
   "cell_type": "code",
   "execution_count": 3,
   "id": "b43108c9-4cfc-4a65-972e-022f55b4188c",
   "metadata": {},
   "outputs": [
    {
     "name": "stdout",
     "output_type": "stream",
     "text": [
      "His Teaching style is very unique and intresting\n",
      "He is Very intelligent in comapany\n"
     ]
    }
   ],
   "source": [
    "b='His Teaching style is very unique and intresting'\n",
    "b\n",
    "c=\"He is Very intelligent in comapany\"\n",
    "print(b)\n",
    "print(c)\n"
   ]
  },
  {
   "cell_type": "code",
   "execution_count": 9,
   "id": "54f769f1-7e04-4f79-875a-f1ca0ded7f0d",
   "metadata": {},
   "outputs": [
    {
     "name": "stdout",
     "output_type": "stream",
     "text": [
      "['False', 'None', 'True', 'and', 'as', 'assert', 'async', 'await', 'break', 'class', 'continue', 'def', 'del', 'elif', 'else', 'except', 'finally', 'for', 'from', 'global', 'if', 'import', 'in', 'is', 'lambda', 'nonlocal', 'not', 'or', 'pass', 'raise', 'return', 'try', 'while', 'with', 'yield']\n"
     ]
    }
   ],
   "source": [
    "import keyword\n",
    "print(keyword.kwlist)"
   ]
  },
  {
   "cell_type": "code",
   "execution_count": 10,
   "id": "cae65f52-e414-4332-9f6b-0aa1942c87d0",
   "metadata": {},
   "outputs": [
    {
     "data": {
      "text/plain": [
       "35"
      ]
     },
     "execution_count": 10,
     "metadata": {},
     "output_type": "execute_result"
    }
   ],
   "source": [
    "len(keyword.kwlist)"
   ]
  },
  {
   "cell_type": "code",
   "execution_count": 22,
   "id": "36f6c950-69b7-4ae2-af25-cc8bde902207",
   "metadata": {},
   "outputs": [
    {
     "data": {
      "text/plain": [
       "2494785594192"
      ]
     },
     "execution_count": 22,
     "metadata": {},
     "output_type": "execute_result"
    }
   ],
   "source": [
    "id(b_6)"
   ]
  },
  {
   "cell_type": "code",
   "execution_count": 23,
   "id": "daecc44e-c300-4444-b188-3c30b263f7cd",
   "metadata": {},
   "outputs": [
    {
     "data": {
      "text/plain": [
       "251370"
      ]
     },
     "execution_count": 23,
     "metadata": {},
     "output_type": "execute_result"
    }
   ],
   "source": [
    "a=45\n",
    "b=57\n",
    "c=98\n",
    "mul=a*b*c\n",
    "mul"
   ]
  },
  {
   "cell_type": "code",
   "execution_count": 4,
   "id": "d0bd65a5-a099-4f76-be97-bd065ed93c96",
   "metadata": {},
   "outputs": [
    {
     "name": "stdout",
     "output_type": "stream",
     "text": [
      "Division= 0.35\n"
     ]
    }
   ],
   "source": [
    "a=35\n",
    "b=100\n",
    "div=a/b\n",
    "print('Division=',div)"
   ]
  },
  {
   "cell_type": "code",
   "execution_count": 6,
   "id": "3633074f-0742-475e-beb6-c02ec5fecc94",
   "metadata": {},
   "outputs": [
    {
     "name": "stdout",
     "output_type": "stream",
     "text": [
      "Swapna is a good Student\n"
     ]
    }
   ],
   "source": [
    "print('''Swapna is a good Student''')"
   ]
  },
  {
   "cell_type": "code",
   "execution_count": 26,
   "id": "0c07f22f-b5c8-4170-b363-c425c067d80d",
   "metadata": {},
   "outputs": [
    {
     "data": {
      "text/plain": [
       "5"
      ]
     },
     "execution_count": 26,
     "metadata": {},
     "output_type": "execute_result"
    }
   ],
   "source": [
    "a=b=c=5\n",
    "a"
   ]
  },
  {
   "cell_type": "code",
   "execution_count": 7,
   "id": "bfb3e861-f081-4b72-9997-176e75af850a",
   "metadata": {},
   "outputs": [
    {
     "name": "stdout",
     "output_type": "stream",
     "text": [
      "my name is :suvendu sarangi and i am as a Web Developer in ocac private limited.\n"
     ]
    }
   ],
   "source": [
    "name = 'suvendu sarangi'\n",
    "work=\"Web Developer\"\n",
    "print(\"my name is :{} and i am as a {} in occ private limited.\".format(name,work))"
   ]
  },
  {
   "cell_type": "code",
   "execution_count": 8,
   "id": "7e50887e-33fc-4aec-99af-c7909eafa05a",
   "metadata": {},
   "outputs": [
    {
     "name": "stdout",
     "output_type": "stream",
     "text": [
      "This is my first internship at ocac in python\n"
     ]
    }
   ],
   "source": [
    "print(\"This is my first internship at {} in {}\".format('ocac','python',))"
   ]
  },
  {
   "cell_type": "code",
   "execution_count": 9,
   "id": "fbb818aa-7777-46f4-9f8b-49723e66e486",
   "metadata": {},
   "outputs": [
    {
     "name": "stdin",
     "output_type": "stream",
     "text": [
      "enter the value of a: 10\n",
      "enter the value of b: 5\n"
     ]
    },
    {
     "name": "stdout",
     "output_type": "stream",
     "text": [
      "Add the number 15,substact the number 5,multiply the number 50\n"
     ]
    }
   ],
   "source": [
    "a=int(input('enter the value of a:'))\n",
    "b=int(input('enter the value of b:'))\n",
    "add=a+b\n",
    "sub=a-b\n",
    "mul=a*b\n",
    "print(\"Add the number {0},substact the number {1},multiply the number {2}\".format(add,sub,mul))\n",
    "# print(\"Add: %d,Sub: %d,Mul: %d\"%(add,sub,mul))"
   ]
  },
  {
   "cell_type": "code",
   "execution_count": 10,
   "id": "566267cd-0ded-4ae9-b584-50f1d62fe3ec",
   "metadata": {},
   "outputs": [
    {
     "name": "stdout",
     "output_type": "stream",
     "text": [
      "Add: 15,Sub: 5,Mul: 50\n"
     ]
    }
   ],
   "source": [
    "print(\"Add: %d,Sub: %d,Mul: %d\"%(add,sub,mul))"
   ]
  },
  {
   "cell_type": "code",
   "execution_count": null,
   "id": "55843dfa-30b6-4320-8178-d4754d4105e5",
   "metadata": {},
   "outputs": [],
   "source": []
  }
 ],
 "metadata": {
  "kernelspec": {
   "display_name": "Python 3 (ipykernel)",
   "language": "python",
   "name": "python3"
  },
  "language_info": {
   "codemirror_mode": {
    "name": "ipython",
    "version": 3
   },
   "file_extension": ".py",
   "mimetype": "text/x-python",
   "name": "python",
   "nbconvert_exporter": "python",
   "pygments_lexer": "ipython3",
   "version": "3.11.7"
  }
 },
 "nbformat": 4,
 "nbformat_minor": 5
}
