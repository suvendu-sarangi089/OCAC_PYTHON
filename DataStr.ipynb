{
 "cells": [
  {
   "cell_type": "code",
   "execution_count": 2,
   "id": "83e79d2c-9bce-4481-b3e9-65ce7e00814a",
   "metadata": {},
   "outputs": [
    {
     "data": {
      "text/plain": [
       "range(0, 10)"
      ]
     },
     "execution_count": 2,
     "metadata": {},
     "output_type": "execute_result"
    }
   ],
   "source": [
    "# Range\n",
    "range(10)"
   ]
  },
  {
   "cell_type": "code",
   "execution_count": 4,
   "id": "1f7638c4-0aa9-4d25-8255-3ea0b2949114",
   "metadata": {},
   "outputs": [
    {
     "data": {
      "text/plain": [
       "[0, 1, 2, 3, 4, 5, 6, 7, 8, 9]"
      ]
     },
     "execution_count": 4,
     "metadata": {},
     "output_type": "execute_result"
    }
   ],
   "source": [
    "list(range(10))# n to n-1"
   ]
  },
  {
   "cell_type": "code",
   "execution_count": 6,
   "id": "bf40f33b-b22d-4215-8b7c-87c60a604f68",
   "metadata": {},
   "outputs": [
    {
     "name": "stdout",
     "output_type": "stream",
     "text": [
      "[1, 2, 3, 4, 5]\n"
     ]
    }
   ],
   "source": [
    "print(list(range(1,6)))"
   ]
  },
  {
   "cell_type": "code",
   "execution_count": 8,
   "id": "fe8e168b-7a7b-4690-9239-b24b2595574b",
   "metadata": {},
   "outputs": [
    {
     "data": {
      "text/plain": [
       "[]"
      ]
     },
     "execution_count": 8,
     "metadata": {},
     "output_type": "execute_result"
    }
   ],
   "source": [
    "#Empty list\n",
    "l=list()\n",
    "l"
   ]
  },
  {
   "cell_type": "code",
   "execution_count": 10,
   "id": "8a67a222-e5c1-4a39-89f1-8e6c579ed854",
   "metadata": {},
   "outputs": [
    {
     "data": {
      "text/plain": [
       "[]"
      ]
     },
     "execution_count": 10,
     "metadata": {},
     "output_type": "execute_result"
    }
   ],
   "source": [
    "l=[]\n",
    "l"
   ]
  },
  {
   "cell_type": "code",
   "execution_count": 14,
   "id": "a35dc2de-448b-4326-a09e-d67b76e74459",
   "metadata": {},
   "outputs": [
    {
     "name": "stdout",
     "output_type": "stream",
     "text": [
      "<class 'list'>\n",
      "[1, 2, 3]\n"
     ]
    }
   ],
   "source": [
    "#list creation \n",
    "l=[1,2,3]\n",
    "print(type(l))\n",
    "print(l)"
   ]
  },
  {
   "cell_type": "code",
   "execution_count": 22,
   "id": "a6f066bf-a09f-449c-925c-234f03d481e7",
   "metadata": {},
   "outputs": [
    {
     "name": "stdout",
     "output_type": "stream",
     "text": [
      "[1, 2, [4, 5], 5, 6]\n"
     ]
    },
    {
     "data": {
      "text/plain": [
       "5"
      ]
     },
     "execution_count": 22,
     "metadata": {},
     "output_type": "execute_result"
    }
   ],
   "source": [
    "#nested list\n",
    "l=[1,2,[4,5],5,6]\n",
    "print(l)\n",
    "len(l)"
   ]
  },
  {
   "cell_type": "code",
   "execution_count": 26,
   "id": "cfe12198-424e-49e0-ab65-c20988ee201e",
   "metadata": {},
   "outputs": [
    {
     "name": "stdout",
     "output_type": "stream",
     "text": [
      "20\n",
      "[10, 20, 30, 40, 50, 58]\n",
      "[30, 40, 50]\n"
     ]
    }
   ],
   "source": [
    "#list index\n",
    "#list slicing\n",
    "my_love=[10,20,'Kiii']\n",
    "print(my_love[1])\n",
    "hiii=[10,20,30,40,50,58]\n",
    "print(hiii[:])\n",
    "print(hiii[2:5])"
   ]
  },
  {
   "cell_type": "code",
   "execution_count": 27,
   "id": "ea706ded-c178-4be8-bf7f-9268334cfe56",
   "metadata": {},
   "outputs": [
    {
     "data": {
      "text/plain": [
       "['a', 'b', 'c', 'l']"
      ]
     },
     "execution_count": 27,
     "metadata": {},
     "output_type": "execute_result"
    }
   ],
   "source": [
    "#list attribute in append,extend,insert,remove,clear,pop,delete,reverse,sorted,count,copy,index\n",
    "#append\n",
    "lip=['a','b','c']\n",
    "lip.append('l')\n",
    "lip"
   ]
  },
  {
   "cell_type": "code",
   "execution_count": 29,
   "id": "2c9be432-5676-4fc9-903a-d3945ffa25d2",
   "metadata": {},
   "outputs": [
    {
     "data": {
      "text/plain": [
       "[1, 2, 3, 4, 8, 9]"
      ]
     },
     "execution_count": 29,
     "metadata": {},
     "output_type": "execute_result"
    }
   ],
   "source": [
    "st=[1,2,3,4]\n",
    "st.extend([8,9])\n",
    "st\n"
   ]
  },
  {
   "cell_type": "code",
   "execution_count": 32,
   "id": "d3f36df4-fdf0-4907-8bde-a9c814c7fa30",
   "metadata": {},
   "outputs": [
    {
     "data": {
      "text/plain": [
       "[2, 'one', 'you', 'clap']"
      ]
     },
     "execution_count": 32,
     "metadata": {},
     "output_type": "execute_result"
    }
   ],
   "source": [
    "#insert\n",
    "kl=['one','you','clap']\n",
    "kl.insert(0,2)#index position \n",
    "kl"
   ]
  },
  {
   "cell_type": "code",
   "execution_count": 37,
   "id": "ab8fef95-cd67-4f78-b35a-21d504f99835",
   "metadata": {},
   "outputs": [
    {
     "data": {
      "text/plain": [
       "[10, 50, 40, 76, 34]"
      ]
     },
     "execution_count": 37,
     "metadata": {},
     "output_type": "execute_result"
    }
   ],
   "source": [
    "kl=[10,50,40,60,76,34,]\n",
    "kl.remove(60)#particular number\n",
    "kl"
   ]
  },
  {
   "cell_type": "code",
   "execution_count": 39,
   "id": "bd2b1298-c8f9-4e74-a920-f89376d65e21",
   "metadata": {},
   "outputs": [
    {
     "data": {
      "text/plain": [
       "[]"
      ]
     },
     "execution_count": 39,
     "metadata": {},
     "output_type": "execute_result"
    }
   ],
   "source": [
    "kl=[10,50,40,60,76,34,]\n",
    "kl.clear()#no arguments\n",
    "kl"
   ]
  },
  {
   "cell_type": "code",
   "execution_count": 40,
   "id": "1cbbf0ef-a51b-4341-8d42-eed3852110d4",
   "metadata": {},
   "outputs": [
    {
     "data": {
      "text/plain": [
       "'five'"
      ]
     },
     "execution_count": 40,
     "metadata": {},
     "output_type": "execute_result"
    }
   ],
   "source": [
    "k=['one','two','three','four','five']\n",
    "k.pop(4)\n"
   ]
  },
  {
   "cell_type": "code",
   "execution_count": 41,
   "id": "6c21fa97-a64f-4fc5-a75c-c402d43a322f",
   "metadata": {},
   "outputs": [
    {
     "data": {
      "text/plain": [
       "['two', 'three', 'four', 'five']"
      ]
     },
     "execution_count": 41,
     "metadata": {},
     "output_type": "execute_result"
    }
   ],
   "source": [
    "k=['one','two','three','four','five']\n",
    "del k[0]\n",
    "k"
   ]
  },
  {
   "cell_type": "code",
   "execution_count": null,
   "id": "16a70581-83cd-4117-9aa2-62a5395a2eed",
   "metadata": {},
   "outputs": [],
   "source": []
  }
 ],
 "metadata": {
  "kernelspec": {
   "display_name": "Python 3 (ipykernel)",
   "language": "python",
   "name": "python3"
  },
  "language_info": {
   "codemirror_mode": {
    "name": "ipython",
    "version": 3
   },
   "file_extension": ".py",
   "mimetype": "text/x-python",
   "name": "python",
   "nbconvert_exporter": "python",
   "pygments_lexer": "ipython3",
   "version": "3.11.7"
  }
 },
 "nbformat": 4,
 "nbformat_minor": 5
}
