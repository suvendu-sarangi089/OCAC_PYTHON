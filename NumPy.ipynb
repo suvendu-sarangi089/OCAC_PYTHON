{
 "cells": [
  {
   "cell_type": "code",
   "execution_count": 1,
   "id": "e43ba919-3ded-434e-b078-ca1a2600662a",
   "metadata": {},
   "outputs": [],
   "source": [
    "import numpy as np"
   ]
  },
  {
   "cell_type": "code",
   "execution_count": 2,
   "id": "fd68c500-cecb-4af4-b439-776cba6f74fe",
   "metadata": {},
   "outputs": [],
   "source": [
    "a=[1,2,3,4,5]"
   ]
  },
  {
   "cell_type": "markdown",
   "id": "d8647faa-006d-49e9-825b-829b88b47a7f",
   "metadata": {},
   "source": [
    "## ndarray object"
   ]
  },
  {
   "cell_type": "code",
   "execution_count": 4,
   "id": "50a25b4a-d7bb-4966-b9e6-9976b1df53a0",
   "metadata": {},
   "outputs": [
    {
     "name": "stdout",
     "output_type": "stream",
     "text": [
      "[1, 2, 3, 4, 5]\n"
     ]
    }
   ],
   "source": [
    "print(a)"
   ]
  },
  {
   "cell_type": "code",
   "execution_count": 5,
   "id": "9fff62c9-9f8e-4f49-a65d-75c104aff5ef",
   "metadata": {},
   "outputs": [
    {
     "name": "stdout",
     "output_type": "stream",
     "text": [
      "<class 'list'>\n"
     ]
    }
   ],
   "source": [
    "print(type(a))"
   ]
  },
  {
   "cell_type": "code",
   "execution_count": 6,
   "id": "7e566243-d8c2-425c-9624-a708d84b238a",
   "metadata": {},
   "outputs": [],
   "source": [
    "np_a=np.array(a)"
   ]
  },
  {
   "cell_type": "code",
   "execution_count": 7,
   "id": "15bb0349-e2d8-47a9-90a6-adde8402a591",
   "metadata": {},
   "outputs": [
    {
     "name": "stdout",
     "output_type": "stream",
     "text": [
      "[1 2 3 4 5]\n"
     ]
    }
   ],
   "source": [
    "print(np_a)"
   ]
  },
  {
   "cell_type": "code",
   "execution_count": 8,
   "id": "205c4b84-6dd1-429c-be78-fddf54f2e243",
   "metadata": {},
   "outputs": [
    {
     "name": "stdout",
     "output_type": "stream",
     "text": [
      "<class 'numpy.ndarray'>\n"
     ]
    }
   ],
   "source": [
    "print(type(np_a))"
   ]
  },
  {
   "cell_type": "code",
   "execution_count": 9,
   "id": "97798b50-3d88-4516-8fff-573223b7e4b0",
   "metadata": {},
   "outputs": [
    {
     "name": "stdout",
     "output_type": "stream",
     "text": [
      "4.37 µs ± 220 ns per loop (mean ± std. dev. of 7 runs, 100,000 loops each)\n"
     ]
    }
   ],
   "source": [
    "#python list \n",
    "L= range(100)\n",
    "%timeit [i**2 for i in L]"
   ]
  },
  {
   "cell_type": "code",
   "execution_count": 10,
   "id": "3b9343cb-cfd7-4d62-830d-7d1b926bf4f0",
   "metadata": {},
   "outputs": [
    {
     "name": "stdout",
     "output_type": "stream",
     "text": [
      "1.65 µs ± 558 ns per loop (mean ± std. dev. of 7 runs, 1,000,000 loops each)\n"
     ]
    }
   ],
   "source": [
    "a=np.arange(1000)\n",
    "%timeit a**2"
   ]
  },
  {
   "cell_type": "markdown",
   "id": "944c695a-b5b4-4a5e-8a9d-9f1634402b85",
   "metadata": {},
   "source": [
    "## Creating arrays(Manually crating arrays)\n",
    "# 1-D\n"
   ]
  },
  {
   "cell_type": "code",
   "execution_count": 12,
   "id": "ea60bd70-0243-40e2-ac52-cc75d0101616",
   "metadata": {},
   "outputs": [
    {
     "data": {
      "text/plain": [
       "array([0, 1, 2, 3])"
      ]
     },
     "execution_count": 12,
     "metadata": {},
     "output_type": "execute_result"
    }
   ],
   "source": [
    "a = np.array([0,1,2,3])\n",
    "a"
   ]
  },
  {
   "cell_type": "code",
   "execution_count": 13,
   "id": "7d72afb5-bae1-4683-ba6f-a0dd769a4ce4",
   "metadata": {},
   "outputs": [
    {
     "data": {
      "text/plain": [
       "1"
      ]
     },
     "execution_count": 13,
     "metadata": {},
     "output_type": "execute_result"
    }
   ],
   "source": [
    "#print dimension \n",
    "a.ndim"
   ]
  },
  {
   "cell_type": "code",
   "execution_count": 14,
   "id": "d794c11b-b962-4b7e-84c4-abe9d350e4b6",
   "metadata": {},
   "outputs": [
    {
     "data": {
      "text/plain": [
       "(4,)"
      ]
     },
     "execution_count": 14,
     "metadata": {},
     "output_type": "execute_result"
    }
   ],
   "source": [
    "#Shape\n",
    "a.shape"
   ]
  },
  {
   "cell_type": "code",
   "execution_count": 15,
   "id": "9b1964ec-91a5-41f2-a8b8-7971715450ba",
   "metadata": {},
   "outputs": [
    {
     "data": {
      "text/plain": [
       "array([[0, 1, 2],\n",
       "       [3, 4, 5]])"
      ]
     },
     "execution_count": 15,
     "metadata": {},
     "output_type": "execute_result"
    }
   ],
   "source": [
    "#2-D\n",
    "b= np.array([[0,1,2],[3,4,5]])\n",
    "b"
   ]
  },
  {
   "cell_type": "code",
   "execution_count": 16,
   "id": "24203405-edfb-4773-99af-30dcdd08fcb4",
   "metadata": {},
   "outputs": [
    {
     "data": {
      "text/plain": [
       "2"
      ]
     },
     "execution_count": 16,
     "metadata": {},
     "output_type": "execute_result"
    }
   ],
   "source": [
    "b.ndim"
   ]
  },
  {
   "cell_type": "code",
   "execution_count": 17,
   "id": "9cc36bc9-456f-4262-aeed-323945821c87",
   "metadata": {},
   "outputs": [
    {
     "data": {
      "text/plain": [
       "(2, 3)"
      ]
     },
     "execution_count": 17,
     "metadata": {},
     "output_type": "execute_result"
    }
   ],
   "source": [
    "b.shape"
   ]
  },
  {
   "cell_type": "code",
   "execution_count": 18,
   "id": "fe1c8558-5388-4613-a69a-c942fe851ea5",
   "metadata": {},
   "outputs": [
    {
     "data": {
      "text/plain": [
       "array([[[0, 1],\n",
       "        [2, 3]],\n",
       "\n",
       "       [[4, 5],\n",
       "        [6, 7]]])"
      ]
     },
     "execution_count": 18,
     "metadata": {},
     "output_type": "execute_result"
    }
   ],
   "source": [
    "# 3D\n",
    "c = np.array([[[0,1],[2,3]],[[4,5],[6,7]]])\n",
    "c"
   ]
  },
  {
   "cell_type": "code",
   "execution_count": 19,
   "id": "65283c0f-825f-492c-a7a6-31673f972221",
   "metadata": {},
   "outputs": [
    {
     "data": {
      "text/plain": [
       "3"
      ]
     },
     "execution_count": 19,
     "metadata": {},
     "output_type": "execute_result"
    }
   ],
   "source": [
    "c.ndim"
   ]
  },
  {
   "cell_type": "code",
   "execution_count": 20,
   "id": "90fef053-db41-49f8-8eb1-f79d857d0812",
   "metadata": {},
   "outputs": [
    {
     "data": {
      "text/plain": [
       "(2, 2, 2)"
      ]
     },
     "execution_count": 20,
     "metadata": {},
     "output_type": "execute_result"
    }
   ],
   "source": [
    "c.shape "
   ]
  },
  {
   "cell_type": "markdown",
   "id": "0d00a968-316c-4fe7-9e5b-86aae849c990",
   "metadata": {},
   "source": [
    "# Creating NumPy Arrays From a list"
   ]
  },
  {
   "cell_type": "code",
   "execution_count": 22,
   "id": "b94663af-18b7-4659-9e6c-18921f0a06bb",
   "metadata": {},
   "outputs": [
    {
     "data": {
      "text/plain": [
       "[1, 2, 3]"
      ]
     },
     "execution_count": 22,
     "metadata": {},
     "output_type": "execute_result"
    }
   ],
   "source": [
    "my_list=[1,2,3]\n",
    "my_list"
   ]
  },
  {
   "cell_type": "code",
   "execution_count": 23,
   "id": "414cfb0e-8c15-4bc7-8743-3235db21a834",
   "metadata": {},
   "outputs": [
    {
     "data": {
      "text/plain": [
       "array([1, 2, 3])"
      ]
     },
     "execution_count": 23,
     "metadata": {},
     "output_type": "execute_result"
    }
   ],
   "source": [
    "np.array(my_list)"
   ]
  },
  {
   "cell_type": "code",
   "execution_count": 24,
   "id": "2b62e7b8-45d1-43fc-82bb-a755c76aa8bb",
   "metadata": {},
   "outputs": [
    {
     "data": {
      "text/plain": [
       "[[1, 2, 3], [4, 5, 6], [7, 8, 9]]"
      ]
     },
     "execution_count": 24,
     "metadata": {},
     "output_type": "execute_result"
    }
   ],
   "source": [
    "matrix=[[1,2,3],[4,5,6],[7,8,9]]\n",
    "matrix"
   ]
  },
  {
   "cell_type": "code",
   "execution_count": 25,
   "id": "a5fd42e6-cf80-4677-95b3-761980d57a5d",
   "metadata": {},
   "outputs": [
    {
     "data": {
      "text/plain": [
       "array([[1, 2, 3],\n",
       "       [4, 5, 6],\n",
       "       [7, 8, 9]])"
      ]
     },
     "execution_count": 25,
     "metadata": {},
     "output_type": "execute_result"
    }
   ],
   "source": [
    "np.array(matrix)"
   ]
  },
  {
   "cell_type": "code",
   "execution_count": 26,
   "id": "2976323a-f993-4133-9ec7-c5ac317d655d",
   "metadata": {},
   "outputs": [
    {
     "data": {
      "text/plain": [
       "(3, 3)"
      ]
     },
     "execution_count": 26,
     "metadata": {},
     "output_type": "execute_result"
    }
   ],
   "source": [
    "np.array(matrix).shape"
   ]
  },
  {
   "cell_type": "markdown",
   "id": "c8a359d3-5142-4d16-8e09-c29c17eba9c4",
   "metadata": {},
   "source": [
    "# a range"
   ]
  },
  {
   "cell_type": "code",
   "execution_count": 28,
   "id": "eb0d3753-34e7-43ac-a8c6-6f22dafe6eda",
   "metadata": {},
   "outputs": [
    {
     "data": {
      "text/plain": [
       "array([0, 1, 2, 3, 4, 5, 6, 7, 8, 9])"
      ]
     },
     "execution_count": 28,
     "metadata": {},
     "output_type": "execute_result"
    }
   ],
   "source": [
    "b=np.arange(10)\n",
    "b"
   ]
  },
  {
   "cell_type": "code",
   "execution_count": 29,
   "id": "26e56c16-73b8-4811-a608-bd428962a073",
   "metadata": {},
   "outputs": [
    {
     "data": {
      "text/plain": [
       "array([1, 4, 7])"
      ]
     },
     "execution_count": 29,
     "metadata": {},
     "output_type": "execute_result"
    }
   ],
   "source": [
    "h=np.arange(1,10,3)\n",
    "h"
   ]
  },
  {
   "cell_type": "markdown",
   "id": "0f7b8342-8ac5-43d3-b4b3-83999d96d982",
   "metadata": {},
   "source": [
    "## Linespace"
   ]
  },
  {
   "cell_type": "code",
   "execution_count": 31,
   "id": "bbf2c99b-f3bf-4138-ba1f-989787ad8db8",
   "metadata": {},
   "outputs": [
    {
     "data": {
      "text/plain": [
       "array([0., 1., 2., 3., 4., 5.])"
      ]
     },
     "execution_count": 31,
     "metadata": {},
     "output_type": "execute_result"
    }
   ],
   "source": [
    "a=np.linspace(0,5,6)\n",
    "a"
   ]
  },
  {
   "cell_type": "code",
   "execution_count": 32,
   "id": "ceb82ec2-a252-473c-abb6-65e78fa04190",
   "metadata": {},
   "outputs": [
    {
     "data": {
      "text/plain": [
       "array([ 0.        ,  1.66666667,  3.33333333,  5.        ,  6.66666667,\n",
       "        8.33333333, 10.        ])"
      ]
     },
     "execution_count": 32,
     "metadata": {},
     "output_type": "execute_result"
    }
   ],
   "source": [
    "np.linspace(0,10,7)"
   ]
  },
  {
   "cell_type": "markdown",
   "id": "cf2cc370-dbda-42ca-a1d5-cdde4b1fe9db",
   "metadata": {},
   "source": [
    "## Zeros"
   ]
  },
  {
   "cell_type": "code",
   "execution_count": 34,
   "id": "03f276f5-5ded-4b6f-bfd7-c77b50c2dc48",
   "metadata": {},
   "outputs": [
    {
     "data": {
      "text/plain": [
       "array([[0., 0., 0.],\n",
       "       [0., 0., 0.]])"
      ]
     },
     "execution_count": 34,
     "metadata": {},
     "output_type": "execute_result"
    }
   ],
   "source": [
    "q=np.zeros((2,3))\n",
    "q"
   ]
  },
  {
   "cell_type": "markdown",
   "id": "eb932fc6-e9e8-45e9-a40b-a07b6fb213f3",
   "metadata": {},
   "source": [
    "# ones"
   ]
  },
  {
   "cell_type": "code",
   "execution_count": 36,
   "id": "1a006b25-c56f-4ed4-a6c0-8a0a852d27bb",
   "metadata": {},
   "outputs": [
    {
     "data": {
      "text/plain": [
       "array([[1., 1., 1.],\n",
       "       [1., 1., 1.],\n",
       "       [1., 1., 1.],\n",
       "       [1., 1., 1.]])"
      ]
     },
     "execution_count": 36,
     "metadata": {},
     "output_type": "execute_result"
    }
   ],
   "source": [
    "a=np.ones((4,3))     #in this condition there are 4 arrays and 3 columns.\n",
    "a"
   ]
  },
  {
   "cell_type": "markdown",
   "id": "bdd32deb-c36d-4d84-a9a0-003750a24705",
   "metadata": {},
   "source": [
    "# eye"
   ]
  },
  {
   "cell_type": "code",
   "execution_count": 38,
   "id": "c9e405fc-f6c4-4395-a7fa-6e67b563c00a",
   "metadata": {},
   "outputs": [
    {
     "data": {
      "text/plain": [
       "array([[1., 0., 0.],\n",
       "       [0., 1., 0.],\n",
       "       [0., 0., 1.]])"
      ]
     },
     "execution_count": 38,
     "metadata": {},
     "output_type": "execute_result"
    }
   ],
   "source": [
    "c = np.eye(3)    ## 3*3 matrix if user put 2 then 2*2 matrix will be show\n",
    "c"
   ]
  },
  {
   "cell_type": "code",
   "execution_count": 39,
   "id": "c2b2ba6a-3ac4-49a1-837f-001ef9bfa1e1",
   "metadata": {},
   "outputs": [
    {
     "data": {
      "text/plain": [
       "array([[1., 0.],\n",
       "       [0., 1.],\n",
       "       [0., 0.]])"
      ]
     },
     "execution_count": 39,
     "metadata": {},
     "output_type": "execute_result"
    }
   ],
   "source": [
    "d=np.eye(3,2)    #3 is number of rowsand 2 number of column \n",
    "d"
   ]
  },
  {
   "cell_type": "code",
   "execution_count": 40,
   "id": "462758df-52f6-4b06-ae8e-9e0bad9dfac9",
   "metadata": {},
   "outputs": [
    {
     "data": {
      "text/plain": [
       "array([[7, 0, 0, 0],\n",
       "       [0, 9, 0, 0],\n",
       "       [0, 0, 8, 0],\n",
       "       [0, 0, 0, 5]])"
      ]
     },
     "execution_count": 40,
     "metadata": {},
     "output_type": "execute_result"
    }
   ],
   "source": [
    "a = np.diag([7,9,8,5])\n",
    "a"
   ]
  },
  {
   "cell_type": "code",
   "execution_count": 41,
   "id": "b1fc1eb2-825a-449a-a9ac-4aa80e8762e4",
   "metadata": {},
   "outputs": [
    {
     "data": {
      "text/plain": [
       "array([7, 9, 8, 5])"
      ]
     },
     "execution_count": 41,
     "metadata": {},
     "output_type": "execute_result"
    }
   ],
   "source": [
    "np.diag(a)         # Extract Diagonal"
   ]
  },
  {
   "cell_type": "markdown",
   "id": "ccc97400-cea3-4be8-b1b8-9fa4ba3df7bd",
   "metadata": {},
   "source": [
    "### Random --> Numpy also has lots of ways to create random number arrays :\n"
   ]
  },
  {
   "cell_type": "code",
   "execution_count": 43,
   "id": "28915d1a-877f-4e02-ac98-13abbbb1e42e",
   "metadata": {},
   "outputs": [
    {
     "name": "stdout",
     "output_type": "stream",
     "text": [
      "[75 42 77 69 93]\n"
     ]
    }
   ],
   "source": [
    "ran = np.random.randint(1,121,5)\n",
    "print(ran)"
   ]
  },
  {
   "cell_type": "code",
   "execution_count": 44,
   "id": "0794c6a3-961c-48ce-800b-3312859e3560",
   "metadata": {},
   "outputs": [
    {
     "data": {
      "text/plain": [
       "array([0.54586152, 0.52500283, 0.9232145 , 0.05053279])"
      ]
     },
     "execution_count": 44,
     "metadata": {},
     "output_type": "execute_result"
    }
   ],
   "source": [
    "a = np.random.rand(4)\n",
    "a"
   ]
  },
  {
   "cell_type": "code",
   "execution_count": 45,
   "id": "fe8c1b9c-3c49-4fb9-8a13-6224b9722e5a",
   "metadata": {},
   "outputs": [],
   "source": [
    "# randn -- return a sample(or samples )from the 'standard normal' distribution.***Gausian***"
   ]
  },
  {
   "cell_type": "code",
   "execution_count": 46,
   "id": "e247171f-fdf4-4a8b-a997-1b3b638d0dd4",
   "metadata": {},
   "outputs": [
    {
     "data": {
      "text/plain": [
       "array([ 0.52897644, -1.01717665,  1.07675825,  0.15507863, -0.40740848,\n",
       "        0.63309592,  1.15017462, -0.85948493,  0.15841414,  0.70172306,\n",
       "        1.31921173, -1.01822792, -1.40757041, -1.32774807, -0.15093455,\n",
       "        1.37024057,  0.95581345, -0.28722272, -0.92313706, -0.64249114,\n",
       "       -0.21307425, -0.84662438, -1.07455021, -0.88636425, -2.24119756,\n",
       "       -0.11375307,  0.69184318, -0.75589835, -1.14911206,  0.22059275,\n",
       "       -0.8382538 ,  0.29518786,  2.10980831,  0.70738754, -0.29666207,\n",
       "       -1.01255161,  0.67278495,  0.55477068,  0.46988278, -0.23517478,\n",
       "       -0.14717925,  0.08275124, -0.50242727,  1.0095391 , -0.83251099,\n",
       "        0.10471304,  0.03226679,  1.00916207, -0.85107812, -0.85546534,\n",
       "       -0.27251898,  0.26487625,  1.1771816 , -0.79098488, -0.91562803,\n",
       "       -0.08751646, -0.83137276, -0.74748986, -0.95612646, -0.83329042,\n",
       "       -1.73111295, -1.28809604, -0.95105019, -2.27952289, -0.48554258,\n",
       "       -0.13913393,  0.46145049,  0.468687  ,  0.69765312, -0.6840133 ,\n",
       "        0.43280099,  0.26762978, -0.68856985,  2.49584438,  1.49864648,\n",
       "       -0.55122847,  0.3976875 , -0.36872621, -0.35616915,  1.44887479,\n",
       "       -1.34120558,  0.75833343,  1.27884395, -0.63186239, -0.05142305,\n",
       "       -0.77323195,  0.8552543 ,  0.96559633,  2.27711629,  0.64925912,\n",
       "        0.8641637 ,  0.2311191 , -0.07338619,  0.3044205 , -0.45370709,\n",
       "        0.72334097, -0.65276869,  0.81816469, -1.23798183,  0.21359471])"
      ]
     },
     "execution_count": 46,
     "metadata": {},
     "output_type": "execute_result"
    }
   ],
   "source": [
    "a = np.random.randn(100)\n",
    "a"
   ]
  },
  {
   "cell_type": "markdown",
   "id": "1e380850-0bf9-4218-aae8-e0ab3b6833f5",
   "metadata": {},
   "source": [
    "# Copy Array"
   ]
  },
  {
   "cell_type": "code",
   "execution_count": 48,
   "id": "87f50d82-c893-4551-968d-d10699074e8a",
   "metadata": {},
   "outputs": [
    {
     "name": "stdout",
     "output_type": "stream",
     "text": [
      "[200   2   3   4]\n",
      "[200   2   3   4]\n"
     ]
    }
   ],
   "source": [
    "a1 = np.array([1,2,3,4])\n",
    "b1= a1\n",
    "b1[0]= 200\n",
    "print(a1)\n",
    "print(b1)"
   ]
  },
  {
   "cell_type": "markdown",
   "id": "1bd400da-b6ce-4bbf-8ea0-d390d25797cb",
   "metadata": {},
   "source": [
    "## Reshape array"
   ]
  },
  {
   "cell_type": "code",
   "execution_count": 50,
   "id": "e19174b7-b8d1-42f7-93f3-ef089bf8185e",
   "metadata": {},
   "outputs": [
    {
     "name": "stdout",
     "output_type": "stream",
     "text": [
      "[ 0  1  2  3  4  5  6  7  8  9 10 11 12 13 14 15 16 17 18 19 20 21 22 23\n",
      " 24]\n",
      "(25,)\n"
     ]
    }
   ],
   "source": [
    "ar = np.arange(25)\n",
    "print(ar)\n",
    "print(ar.shape)"
   ]
  },
  {
   "cell_type": "code",
   "execution_count": 51,
   "id": "4a43af79-fc96-48c1-8985-a72827a49170",
   "metadata": {},
   "outputs": [
    {
     "data": {
      "text/plain": [
       "array([[ 0,  1,  2,  3,  4],\n",
       "       [ 5,  6,  7,  8,  9],\n",
       "       [10, 11, 12, 13, 14],\n",
       "       [15, 16, 17, 18, 19],\n",
       "       [20, 21, 22, 23, 24]])"
      ]
     },
     "execution_count": 51,
     "metadata": {},
     "output_type": "execute_result"
    }
   ],
   "source": [
    "a1=ar.reshape(5,5)\n",
    "a1"
   ]
  },
  {
   "cell_type": "code",
   "execution_count": 52,
   "id": "47dc50dd-5ff2-40c5-9117-e28225594c18",
   "metadata": {},
   "outputs": [
    {
     "name": "stdout",
     "output_type": "stream",
     "text": [
      "[[1 3]\n",
      " [4 6]\n",
      " [7 9]]\n",
      "Shape of k:(3, 2)\n"
     ]
    }
   ],
   "source": [
    "import numpy as np\n",
    "k=np.array([[1,3],[4,6],[7,9]])\n",
    "print(k)\n",
    "print(\"Shape of k:{}\".format(k.shape))"
   ]
  },
  {
   "cell_type": "code",
   "execution_count": 53,
   "id": "73aa868e-4289-4d05-9840-c412cbf95cbb",
   "metadata": {},
   "outputs": [
    {
     "name": "stdout",
     "output_type": "stream",
     "text": [
      "[[1 3 4]\n",
      " [6 7 9]]\n",
      "shape of b:(2, 3)\n"
     ]
    }
   ],
   "source": [
    "## reshaping \n",
    "b=k.reshape(2,3)\n",
    "print(b)\n",
    "print(\"shape of b:{}\".format(b.shape))"
   ]
  },
  {
   "cell_type": "markdown",
   "id": "21f6e1a7-c2e5-4db9-bb58-509a9fa33230",
   "metadata": {},
   "source": [
    "# Transpose array"
   ]
  },
  {
   "cell_type": "code",
   "execution_count": 55,
   "id": "d42c86f5-a4d5-4f97-818f-dc50cfb6addd",
   "metadata": {},
   "outputs": [
    {
     "name": "stdout",
     "output_type": "stream",
     "text": [
      "Shape:(3, 3)\n",
      "[[1 2 3]\n",
      " [4 5 6]\n",
      " [7 8 9]]\n"
     ]
    }
   ],
   "source": [
    "ap=np.array([[1,2,3],[4,5,6],[7,8,9]])\n",
    "print(\"Shape:{}\".format(ap.shape))\n",
    "print(ap)"
   ]
  },
  {
   "cell_type": "code",
   "execution_count": 56,
   "id": "10d7a268-8d6b-4bc0-a0ed-91344cdc720a",
   "metadata": {},
   "outputs": [
    {
     "name": "stdout",
     "output_type": "stream",
     "text": [
      "[[1 4 7]\n",
      " [2 5 8]\n",
      " [3 6 9]]\n"
     ]
    }
   ],
   "source": [
    "c=ap.T\n",
    "print(c)"
   ]
  },
  {
   "cell_type": "markdown",
   "id": "e0c1c587-591a-4468-b95d-e139d672d262",
   "metadata": {},
   "source": [
    "# Flattening"
   ]
  },
  {
   "cell_type": "code",
   "execution_count": 58,
   "id": "943beced-7c3f-4c5b-9ac8-26be1540a651",
   "metadata": {},
   "outputs": [
    {
     "data": {
      "text/plain": [
       "array([1, 2, 3, 4, 5, 6])"
      ]
     },
     "execution_count": 58,
     "metadata": {},
     "output_type": "execute_result"
    }
   ],
   "source": [
    "N= np.array([[1,2,3],[4,5,6]])       ##\n",
    "N.ravel()"
   ]
  },
  {
   "cell_type": "code",
   "execution_count": 59,
   "id": "0a0b0fcc-0a6b-4b8c-8d37-fe5a41a0f1be",
   "metadata": {},
   "outputs": [
    {
     "data": {
      "text/plain": [
       "array([1, 4, 7, 2, 5, 8, 3, 6, 9])"
      ]
     },
     "execution_count": 59,
     "metadata": {},
     "output_type": "execute_result"
    }
   ],
   "source": [
    "c.ravel()     ## in this part c is defined and then c value is declare for separed by comma "
   ]
  },
  {
   "cell_type": "markdown",
   "id": "fe2e2eb7-1adb-4443-80b5-affcd17bab5a",
   "metadata": {},
   "source": [
    "# Sorting"
   ]
  },
  {
   "cell_type": "code",
   "execution_count": 61,
   "id": "eb5fb6d3-12a9-41e5-bfde-d6c73b0cb263",
   "metadata": {},
   "outputs": [
    {
     "data": {
      "text/plain": [
       "array([[2, 3, 2],\n",
       "       [8, 8, 6]])"
      ]
     },
     "execution_count": 61,
     "metadata": {},
     "output_type": "execute_result"
    }
   ],
   "source": [
    "a = np.array([[8,3,6],[2,8,2]])\n",
    "b=np.sort(a,axis=0)     ##\n",
    "b"
   ]
  },
  {
   "cell_type": "code",
   "execution_count": 62,
   "id": "80a9fef7-099b-4f2f-83d2-25660cee01e1",
   "metadata": {},
   "outputs": [
    {
     "data": {
      "text/plain": [
       "array([[3, 6, 8],\n",
       "       [2, 2, 8]])"
      ]
     },
     "execution_count": 62,
     "metadata": {},
     "output_type": "execute_result"
    }
   ],
   "source": [
    "a = np.array([[8,3,6],[2,8,2]])    ##\n",
    "b=np.sort(a,axis=1)\n",
    "b"
   ]
  },
  {
   "cell_type": "markdown",
   "id": "3cf2a284-bfeb-443f-bddf-8f33b54bb6a5",
   "metadata": {},
   "source": [
    "# Add/Remove operattions on a numpy"
   ]
  },
  {
   "cell_type": "code",
   "execution_count": 64,
   "id": "ad4dc806-664a-4ff6-9917-ec088e9d66b7",
   "metadata": {},
   "outputs": [
    {
     "name": "stdout",
     "output_type": "stream",
     "text": [
      "Numpy array after addition: [4 8 6 2 4 5]\n"
     ]
    }
   ],
   "source": [
    "h=np.array([4,8,6])               ## Adding value \n",
    "h=np.append(h,[2,4,5])\n",
    "print(\"Numpy array after addition:\",h)"
   ]
  },
  {
   "cell_type": "code",
   "execution_count": 65,
   "id": "f212eb5d-aaf7-4067-9e08-c897c786b4d0",
   "metadata": {},
   "outputs": [
    {
     "name": "stdout",
     "output_type": "stream",
     "text": [
      "Numpy array after delettion of one element [4 8 2 4 5]\n"
     ]
    }
   ],
   "source": [
    "h=np.delete(h,2)\n",
    "print(\"Numpy array after delettion of one element\",h)"
   ]
  },
  {
   "cell_type": "markdown",
   "id": "1ecc1b17-4976-45b1-911b-b54a4f9f8e6e",
   "metadata": {},
   "source": [
    "# Indexing"
   ]
  },
  {
   "cell_type": "raw",
   "id": "d9471a54-27d4-4915-a652-9cd78a2a556a",
   "metadata": {},
   "source": [
    "AO= np.arange(3,10)\n",
    "print(AO)\n",
    "print(AO[4])"
   ]
  },
  {
   "cell_type": "code",
   "execution_count": 67,
   "id": "3e020d33-4116-468f-8349-2b7246552c7c",
   "metadata": {},
   "outputs": [
    {
     "name": "stdout",
     "output_type": "stream",
     "text": [
      "0\n"
     ]
    }
   ],
   "source": [
    "s=np.diag([1,2,5])\n",
    "# print(s)\n",
    "print(s[2,1])"
   ]
  },
  {
   "cell_type": "code",
   "execution_count": 68,
   "id": "bf35cff0-3b17-410b-8d3f-4d73f5d1d700",
   "metadata": {},
   "outputs": [
    {
     "data": {
      "text/plain": [
       "array([[1, 0, 0],\n",
       "       [0, 2, 0],\n",
       "       [0, 4, 5]])"
      ]
     },
     "execution_count": 68,
     "metadata": {},
     "output_type": "execute_result"
    }
   ],
   "source": [
    "s[2,1]=4    ##\n",
    "s\n"
   ]
  },
  {
   "cell_type": "markdown",
   "id": "28971345-33e6-40fb-b5f0-f38dad20b0da",
   "metadata": {},
   "source": [
    "# Slicing "
   ]
  },
  {
   "cell_type": "code",
   "execution_count": 83,
   "id": "5109cc1e-62fb-40ae-b02e-c6b2e9adba47",
   "metadata": {},
   "outputs": [
    {
     "data": {
      "text/plain": [
       "array([ 4,  5,  6,  7,  8,  9, 10, 11, 12, 13, 14, 15, 16, 17, 18])"
      ]
     },
     "execution_count": 83,
     "metadata": {},
     "output_type": "execute_result"
    }
   ],
   "source": [
    "ak=np.arange(4,19)\n",
    "ak"
   ]
  },
  {
   "cell_type": "code",
   "execution_count": 85,
   "id": "d7119f08-9b99-4701-bcdb-338c904cc179",
   "metadata": {},
   "outputs": [
    {
     "data": {
      "text/plain": [
       "array([ 5,  9, 13])"
      ]
     },
     "execution_count": 85,
     "metadata": {},
     "output_type": "execute_result"
    }
   ],
   "source": [
    "ak[1:10:4]\n"
   ]
  },
  {
   "cell_type": "code",
   "execution_count": 87,
   "id": "5821fefe-e593-42e2-8714-f6d815baf7d5",
   "metadata": {},
   "outputs": [
    {
     "data": {
      "text/plain": [
       "array([ 5,  6,  7,  8,  9, 10])"
      ]
     },
     "execution_count": 87,
     "metadata": {},
     "output_type": "execute_result"
    }
   ],
   "source": [
    "ak=np.arange(11)\n",
    "ak[5:]"
   ]
  },
  {
   "cell_type": "code",
   "execution_count": 73,
   "id": "8675f5d5-f566-4784-b3a9-df10c148f82a",
   "metadata": {},
   "outputs": [
    {
     "data": {
      "text/plain": [
       "array([ 0,  1,  2,  3,  4,  5,  6,  7,  8,  9, 10])"
      ]
     },
     "execution_count": 73,
     "metadata": {},
     "output_type": "execute_result"
    }
   ],
   "source": [
    "ak=np.arange(11)\n",
    "ak"
   ]
  },
  {
   "cell_type": "code",
   "execution_count": 74,
   "id": "668a016f-6df3-415b-83ec-74cf5771ee92",
   "metadata": {},
   "outputs": [
    {
     "data": {
      "text/plain": [
       "array([ 0,  1,  2,  3,  4,  5, 10, 10, 10, 10, 10])"
      ]
     },
     "execution_count": 74,
     "metadata": {},
     "output_type": "execute_result"
    }
   ],
   "source": [
    "ak[6:]=10                          ###in 6 index position then start with10\n",
    "ak"
   ]
  },
  {
   "cell_type": "code",
   "execution_count": 90,
   "id": "eddc4e52-3191-4098-abd6-180237ddafbf",
   "metadata": {},
   "outputs": [
    {
     "data": {
      "text/plain": [
       "array([10,  9,  8,  7,  6,  5,  4,  3,  2,  1,  0])"
      ]
     },
     "execution_count": 90,
     "metadata": {},
     "output_type": "execute_result"
    }
   ],
   "source": [
    "ak[::-1]"
   ]
  },
  {
   "cell_type": "markdown",
   "id": "e2cbeb5c-b25e-4f14-9988-9ff0f7300c5a",
   "metadata": {},
   "source": [
    "# Fancy Indexing "
   ]
  },
  {
   "cell_type": "code",
   "execution_count": 118,
   "id": "e5346ab1-1c66-4b2b-a189-ae2b17e70e54",
   "metadata": {},
   "outputs": [
    {
     "data": {
      "text/plain": [
       "array([14, 16, 19, 13, 14])"
      ]
     },
     "execution_count": 118,
     "metadata": {},
     "output_type": "execute_result"
    }
   ],
   "source": [
    "a=np.random.randint(0,20,5)\n",
    "a"
   ]
  },
  {
   "cell_type": "code",
   "execution_count": 120,
   "id": "ceb578a5-5dd7-4af7-ab4b-6fe65b98b9fe",
   "metadata": {},
   "outputs": [
    {
     "data": {
      "text/plain": [
       "array([14, 16, 14])"
      ]
     },
     "execution_count": 120,
     "metadata": {},
     "output_type": "execute_result"
    }
   ],
   "source": [
    "a[a % 2 == 0]\n"
   ]
  },
  {
   "cell_type": "code",
   "execution_count": 122,
   "id": "148730cb-dc0f-40be-a61d-dca43aa2cd62",
   "metadata": {},
   "outputs": [
    {
     "data": {
      "text/plain": [
       "array([-1, -1, 19, 13, -1])"
      ]
     },
     "execution_count": 122,
     "metadata": {},
     "output_type": "execute_result"
    }
   ],
   "source": [
    "a[a % 2 == 0]=-1\n",
    "a"
   ]
  },
  {
   "cell_type": "markdown",
   "id": "a23f908e-09c0-4e45-adaf-d42aef870c43",
   "metadata": {},
   "source": [
    "# Indexing with an array of integer "
   ]
  },
  {
   "cell_type": "code",
   "execution_count": 127,
   "id": "c07f2a61-9fac-4a6d-803b-77251841f627",
   "metadata": {},
   "outputs": [
    {
     "data": {
      "text/plain": [
       "array([  0,  10,  20,  30,  40,  50,  60,  70,  80,  90, 100])"
      ]
     },
     "execution_count": 127,
     "metadata": {},
     "output_type": "execute_result"
    }
   ],
   "source": [
    "a=np.arange(0,101,10)\n",
    "a"
   ]
  },
  {
   "cell_type": "code",
   "execution_count": 131,
   "id": "994e6a51-96bd-41f5-933a-027f647cdddb",
   "metadata": {},
   "outputs": [
    {
     "data": {
      "text/plain": [
       "array([20, 30, 50, 40, 80])"
      ]
     },
     "execution_count": 131,
     "metadata": {},
     "output_type": "execute_result"
    }
   ],
   "source": [
    "a[[2,3,5,4,8]]"
   ]
  },
  {
   "cell_type": "code",
   "execution_count": 135,
   "id": "039d2977-7e88-41f0-8bcc-6e1f7840a71b",
   "metadata": {},
   "outputs": [
    {
     "data": {
      "text/plain": [
       "array([   0,   10,   20,   30,   40,   50,   60, -200,   80, -200,  100])"
      ]
     },
     "execution_count": 135,
     "metadata": {},
     "output_type": "execute_result"
    }
   ],
   "source": [
    "a[[9,7]]=-200\n",
    "a"
   ]
  },
  {
   "cell_type": "markdown",
   "id": "3e2bba7b-a1fe-4bf8-9ad9-514bdd37f562",
   "metadata": {},
   "source": [
    "# Operation "
   ]
  },
  {
   "cell_type": "markdown",
   "id": "abe33399-72fc-48c8-8071-a8afd73d121b",
   "metadata": {},
   "source": [
    "### with scalars"
   ]
  },
  {
   "cell_type": "code",
   "execution_count": 138,
   "id": "f68ef053-6571-4d52-8577-f3db7359686c",
   "metadata": {},
   "outputs": [
    {
     "name": "stdout",
     "output_type": "stream",
     "text": [
      "[1 2 3 4]\n",
      "[2 3 4 5]\n"
     ]
    }
   ],
   "source": [
    "a=np.array([1,2,3,4])\n",
    "print(a)\n",
    "print(a+1)"
   ]
  },
  {
   "cell_type": "code",
   "execution_count": 140,
   "id": "084ada3f-d328-4c2d-97fb-d7f25ba14cd6",
   "metadata": {},
   "outputs": [
    {
     "data": {
      "text/plain": [
       "array([ 1,  4,  9, 16])"
      ]
     },
     "execution_count": 140,
     "metadata": {},
     "output_type": "execute_result"
    }
   ],
   "source": [
    "a**2"
   ]
  },
  {
   "cell_type": "markdown",
   "id": "cf81b971-67c2-4453-87ff-bed6585b10fb",
   "metadata": {},
   "source": [
    "### All Arithematic operators "
   ]
  },
  {
   "cell_type": "code",
   "execution_count": 155,
   "id": "8428ac93-c158-4e76-b59e-33f32db252bc",
   "metadata": {},
   "outputs": [
    {
     "data": {
      "text/plain": [
       "array([2., 2., 2., 2.])"
      ]
     },
     "execution_count": 155,
     "metadata": {},
     "output_type": "execute_result"
    }
   ],
   "source": [
    "n= np.ones(4)+1\n",
    "n"
   ]
  },
  {
   "cell_type": "code",
   "execution_count": 157,
   "id": "bc2cbcfc-0f91-439b-be27-864e24bff5ac",
   "metadata": {},
   "outputs": [
    {
     "data": {
      "text/plain": [
       "array([-1.,  0.,  1.,  2.])"
      ]
     },
     "execution_count": 157,
     "metadata": {},
     "output_type": "execute_result"
    }
   ],
   "source": [
    "a-n"
   ]
  },
  {
   "cell_type": "code",
   "execution_count": 159,
   "id": "3108accb-857f-4c12-87ae-7823e2946130",
   "metadata": {},
   "outputs": [
    {
     "data": {
      "text/plain": [
       "array([2., 4., 6., 8.])"
      ]
     },
     "execution_count": 159,
     "metadata": {},
     "output_type": "execute_result"
    }
   ],
   "source": [
    "a*n"
   ]
  },
  {
   "cell_type": "code",
   "execution_count": 161,
   "id": "f54d41c1-5900-4ab5-8265-3debe6a2ca9a",
   "metadata": {},
   "outputs": [
    {
     "name": "stdout",
     "output_type": "stream",
     "text": [
      "sum of g and h is :\n",
      " [[ 5  6]\n",
      " [ 7  8]\n",
      " [ 9 10]]\n"
     ]
    }
   ],
   "source": [
    "g=np.array([[1,2],[3,4],[5,6]])\n",
    "h=np.array([[4,4],[4,4],[4,4]])\n",
    "print(\"sum of g and h is :\\n\",g+h)"
   ]
  },
  {
   "cell_type": "code",
   "execution_count": 163,
   "id": "38b71cbf-4822-491b-9417-5bedc9b977d2",
   "metadata": {},
   "outputs": [
    {
     "name": "stdout",
     "output_type": "stream",
     "text": [
      "multiplication of g and h is :\n",
      " [[ 4  8]\n",
      " [12 16]\n",
      " [20 24]]\n"
     ]
    }
   ],
   "source": [
    "print(\"multiplication of g and h is :\\n\",g*h)"
   ]
  },
  {
   "cell_type": "code",
   "execution_count": 165,
   "id": "d1acb29e-7ea3-4dec-a804-ca00fa00d17f",
   "metadata": {},
   "outputs": [
    {
     "name": "stdout",
     "output_type": "stream",
     "text": [
      "[[ 1  0  0  0]\n",
      " [ 0  4  0  0]\n",
      " [ 0  0  9  0]\n",
      " [ 0  0  0 16]]\n"
     ]
    }
   ],
   "source": [
    "c=np.diag([1,2,3,4])\n",
    "print(c*c)"
   ]
  },
  {
   "cell_type": "code",
   "execution_count": 167,
   "id": "f0df5818-3e5f-44b0-8963-6213f5aae91f",
   "metadata": {},
   "outputs": [
    {
     "name": "stdout",
     "output_type": "stream",
     "text": [
      "[[16 16  8]\n",
      " [40 40 20]\n",
      " [64 64 32]]\n"
     ]
    }
   ],
   "source": [
    "## Matrix multiplication \n",
    "a= np.array([[1,2,1],[3,4,3],[5,6,5]])\n",
    "b=np.array([[4,4,1],[4,4,2],[4,4,3]])\n",
    "print(np.matmul(a,b))"
   ]
  },
  {
   "cell_type": "markdown",
   "id": "e6b14f18-645b-4200-8b81-b63770c68f2e",
   "metadata": {},
   "source": [
    "### Comparision "
   ]
  },
  {
   "cell_type": "code",
   "execution_count": 170,
   "id": "b81a7bff-600f-48b7-9957-81c8d65a1d90",
   "metadata": {},
   "outputs": [
    {
     "data": {
      "text/plain": [
       "array([False,  True, False,  True])"
      ]
     },
     "execution_count": 170,
     "metadata": {},
     "output_type": "execute_result"
    }
   ],
   "source": [
    "a =np.array([1,2,3,4])\n",
    "b=np.array([5,2,1,4])\n",
    "a==b"
   ]
  },
  {
   "cell_type": "code",
   "execution_count": 172,
   "id": "1e61c72d-1c2b-47d6-ac7f-c5700d0c96dd",
   "metadata": {},
   "outputs": [
    {
     "data": {
      "text/plain": [
       "array([False, False,  True, False])"
      ]
     },
     "execution_count": 172,
     "metadata": {},
     "output_type": "execute_result"
    }
   ],
   "source": [
    "a>b"
   ]
  },
  {
   "cell_type": "code",
   "execution_count": 174,
   "id": "408c2068-2e7c-46ec-bef0-91372a11c8eb",
   "metadata": {},
   "outputs": [
    {
     "data": {
      "text/plain": [
       "array([ True, False, False, False])"
      ]
     },
     "execution_count": 174,
     "metadata": {},
     "output_type": "execute_result"
    }
   ],
   "source": [
    "a<b"
   ]
  },
  {
   "cell_type": "code",
   "execution_count": 192,
   "id": "d0204209-8915-47cd-816a-516c350ff523",
   "metadata": {},
   "outputs": [],
   "source": [
    "a =np.array([1,2,3,4])\n",
    "b=np.array([1,2,3,4])\n",
    "c=np.array([5,6,7,6])"
   ]
  },
  {
   "cell_type": "code",
   "execution_count": 194,
   "id": "b8747480-c263-405a-bf48-d7abc6ce1710",
   "metadata": {},
   "outputs": [
    {
     "data": {
      "text/plain": [
       "True"
      ]
     },
     "execution_count": 194,
     "metadata": {},
     "output_type": "execute_result"
    }
   ],
   "source": [
    "np.array_equal(a,b)"
   ]
  },
  {
   "cell_type": "code",
   "execution_count": 196,
   "id": "92527d52-fd39-41fc-83f6-7bdc6f96cdcb",
   "metadata": {},
   "outputs": [
    {
     "data": {
      "text/plain": [
       "False"
      ]
     },
     "execution_count": 196,
     "metadata": {},
     "output_type": "execute_result"
    }
   ],
   "source": [
    "np.array_equal(a,c)"
   ]
  },
  {
   "cell_type": "markdown",
   "id": "264b2964-50a0-4236-8a5b-5e3a949cd78a",
   "metadata": {},
   "source": [
    "#### Logical Operator"
   ]
  },
  {
   "cell_type": "code",
   "execution_count": 201,
   "id": "cdc7ce57-b834-441a-be3e-778d2255aab2",
   "metadata": {},
   "outputs": [
    {
     "name": "stdout",
     "output_type": "stream",
     "text": [
      "[ True  True  True False]\n",
      "[ True False False False]\n"
     ]
    }
   ],
   "source": [
    "a= np.array ([1,1,0,0])\n",
    "b= np.array ([1,0,1,0])\n",
    "print(np.logical_or(a,b))\n",
    "a= np.array ([1,1,0,0])\n",
    "b= np.array ([1,0,1,0])\n",
    "print(np.logical_and(a,b))"
   ]
  },
  {
   "cell_type": "code",
   "execution_count": 203,
   "id": "0037974c-340d-4d6f-a998-46bda54d3ba1",
   "metadata": {},
   "outputs": [
    {
     "data": {
      "text/plain": [
       "array([ True,  True,  True, False])"
      ]
     },
     "execution_count": 203,
     "metadata": {},
     "output_type": "execute_result"
    }
   ],
   "source": [
    "a= np.array ([1,1,0,0],dtype=int)\n",
    "b= np.array ([1,0,1,0],dtype=int)\n",
    "np.logical_or(a,b)"
   ]
  },
  {
   "cell_type": "code",
   "execution_count": 205,
   "id": "8631fd1e-8bc4-433d-9bf2-17cc26edc0b5",
   "metadata": {},
   "outputs": [
    {
     "data": {
      "text/plain": [
       "array([ 2.45,  7.9 , 12.2 , 12.1 ])"
      ]
     },
     "execution_count": 205,
     "metadata": {},
     "output_type": "execute_result"
    }
   ],
   "source": [
    "a= np.array ([1.25,2.6,3.1,4.5],dtype=float)\n",
    "b= np.array ([1.2,5.3,9.1,7.6],dtype=float)\n",
    "a+b"
   ]
  },
  {
   "cell_type": "markdown",
   "id": "1ba408d9-4495-4973-ac13-c39b198f5099",
   "metadata": {},
   "source": [
    "\n",
    "### Transcendental functions "
   ]
  },
  {
   "cell_type": "code",
   "execution_count": 211,
   "id": "1fd58087-0e97-4711-9023-c0f4d3d331d3",
   "metadata": {},
   "outputs": [
    {
     "data": {
      "text/plain": [
       "array([ 0.        ,  0.84147098,  0.90929743,  0.14112001, -0.7568025 ])"
      ]
     },
     "execution_count": 211,
     "metadata": {},
     "output_type": "execute_result"
    }
   ],
   "source": [
    "a=np.arange(5)\n",
    "np.sin(a)"
   ]
  },
  {
   "cell_type": "code",
   "execution_count": 213,
   "id": "22acf566-c9ce-49b7-a745-c7398539fb9c",
   "metadata": {},
   "outputs": [
    {
     "name": "stderr",
     "output_type": "stream",
     "text": [
      "C:\\Users\\suven\\AppData\\Local\\Temp\\ipykernel_16416\\176755284.py:1: RuntimeWarning: divide by zero encountered in log\n",
      "  np.log(a)\n"
     ]
    },
    {
     "data": {
      "text/plain": [
       "array([      -inf, 0.        , 0.69314718, 1.09861229, 1.38629436])"
      ]
     },
     "execution_count": 213,
     "metadata": {},
     "output_type": "execute_result"
    }
   ],
   "source": [
    "np.log(a)"
   ]
  },
  {
   "cell_type": "code",
   "execution_count": 215,
   "id": "4d475cc8-7a7d-4e02-8dae-ac96daa1ddf8",
   "metadata": {},
   "outputs": [
    {
     "data": {
      "text/plain": [
       "array([ 1.        ,  2.71828183,  7.3890561 , 20.08553692, 54.59815003])"
      ]
     },
     "execution_count": 215,
     "metadata": {},
     "output_type": "execute_result"
    }
   ],
   "source": [
    "np.exp(a)"
   ]
  },
  {
   "cell_type": "markdown",
   "id": "9edf1082-3e58-402c-88ab-b3cd915bbccc",
   "metadata": {},
   "source": [
    "## Basics Reductions"
   ]
  },
  {
   "cell_type": "code",
   "execution_count": 220,
   "id": "861a2362-05e8-43f4-8b9e-08523688e6f2",
   "metadata": {},
   "outputs": [
    {
     "data": {
      "text/plain": [
       "23"
      ]
     },
     "execution_count": 220,
     "metadata": {},
     "output_type": "execute_result"
    }
   ],
   "source": [
    "x=np.array([[1,3,2],[5,4,8]])\n",
    "np.sum(x)"
   ]
  },
  {
   "cell_type": "code",
   "execution_count": 222,
   "id": "d5c8b903-8f12-4f26-ae3f-b6ef5c8dd5fa",
   "metadata": {},
   "outputs": [
    {
     "data": {
      "text/plain": [
       "array([[1, 1],\n",
       "       [2, 2]])"
      ]
     },
     "execution_count": 222,
     "metadata": {},
     "output_type": "execute_result"
    }
   ],
   "source": [
    "x=np.array([[1,1],[2,2]])\n",
    "x"
   ]
  },
  {
   "cell_type": "code",
   "execution_count": 224,
   "id": "bdb3ae98-5c80-43ab-a2de-25db065b5c7f",
   "metadata": {},
   "outputs": [
    {
     "data": {
      "text/plain": [
       "array([2, 4])"
      ]
     },
     "execution_count": 224,
     "metadata": {},
     "output_type": "execute_result"
    }
   ],
   "source": [
    "x.sum(axis=1)"
   ]
  },
  {
   "cell_type": "code",
   "execution_count": 226,
   "id": "7da67d1c-609b-4c20-a125-a96b4f05bef9",
   "metadata": {},
   "outputs": [
    {
     "data": {
      "text/plain": [
       "array([3, 3])"
      ]
     },
     "execution_count": 226,
     "metadata": {},
     "output_type": "execute_result"
    }
   ],
   "source": [
    "x.sum (axis=0)"
   ]
  },
  {
   "cell_type": "code",
   "execution_count": 228,
   "id": "374dee10-865e-4485-95b4-aaf284ca2864",
   "metadata": {},
   "outputs": [
    {
     "data": {
      "text/plain": [
       "array([1, 5, 8, 5, 6, 7, 2, 3, 9])"
      ]
     },
     "execution_count": 228,
     "metadata": {},
     "output_type": "execute_result"
    }
   ],
   "source": [
    "x=np.array([1,5,8,5,6,7,2,3,9])\n",
    "x"
   ]
  },
  {
   "cell_type": "code",
   "execution_count": 230,
   "id": "f96777fc-5ad1-4309-90cc-4dc9ab6844d4",
   "metadata": {},
   "outputs": [
    {
     "data": {
      "text/plain": [
       "0"
      ]
     },
     "execution_count": 230,
     "metadata": {},
     "output_type": "execute_result"
    }
   ],
   "source": [
    "x.argmin()"
   ]
  },
  {
   "cell_type": "code",
   "execution_count": 232,
   "id": "2e17883d-edfa-4495-a7ca-e03689b4f965",
   "metadata": {},
   "outputs": [
    {
     "data": {
      "text/plain": [
       "8"
      ]
     },
     "execution_count": 232,
     "metadata": {},
     "output_type": "execute_result"
    }
   ],
   "source": [
    "x.argmax()"
   ]
  },
  {
   "cell_type": "code",
   "execution_count": 15,
   "id": "7a82d5ca-a187-45ef-9ce1-806a7c2eaffe",
   "metadata": {},
   "outputs": [
    {
     "name": "stdout",
     "output_type": "stream",
     "text": [
      "array is [0 1 2 3 4 5 6 7 8 9]\n",
      "min element is  0\n",
      "max element is  9\n",
      "Sum of element is  45\n",
      "mean of element is  4.5\n",
      "median of  element is  4.5\n",
      "Standard of element is  2.8722813232690143\n"
     ]
    }
   ],
   "source": [
    "import numpy as np\n",
    "normal_array=np.arange(0,10,1)\n",
    "print('array is',format(normal_array))\n",
    "\n",
    "## Min\n",
    "print('min element is ',np.min(normal_array))\n",
    "\n",
    "## Max\n",
    "print('max element is ',np.max(normal_array))\n",
    "\n",
    "## Sum \n",
    "print('Sum of element is ',np.sum(normal_array))\n",
    "\n",
    "## Mean \n",
    "print('mean of element is ',np.mean(normal_array))\n",
    "\n",
    "## Median \n",
    "print('median of  element is ',np.median(normal_array))\n",
    "\n",
    "## Std\n",
    "print('Standard of element is ',np.std(normal_array))"
   ]
  },
  {
   "cell_type": "code",
   "execution_count": null,
   "id": "6969fef0-1dc1-4847-9606-7b8f30674528",
   "metadata": {},
   "outputs": [],
   "source": []
  }
 ],
 "metadata": {
  "kernelspec": {
   "display_name": "Python 3 (ipykernel)",
   "language": "python",
   "name": "python3"
  },
  "language_info": {
   "codemirror_mode": {
    "name": "ipython",
    "version": 3
   },
   "file_extension": ".py",
   "mimetype": "text/x-python",
   "name": "python",
   "nbconvert_exporter": "python",
   "pygments_lexer": "ipython3",
   "version": "3.11.7"
  }
 },
 "nbformat": 4,
 "nbformat_minor": 5
}
