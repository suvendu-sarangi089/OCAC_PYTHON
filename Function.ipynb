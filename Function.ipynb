{
 "cells": [
  {
   "cell_type": "markdown",
   "id": "039e8fa1-9c77-43f4-88a8-c9cdb431a19f",
   "metadata": {},
   "source": [
    "# Python Function"
   ]
  },
  {
   "cell_type": "markdown",
   "id": "5f98e970-0307-4b5c-80c6-aded7300aa5b",
   "metadata": {},
   "source": [
    "# abs()"
   ]
  },
  {
   "cell_type": "code",
   "execution_count": 5,
   "id": "5bac7ae3-a374-416c-8590-e5431e5ff099",
   "metadata": {},
   "outputs": [
    {
     "data": {
      "text/plain": [
       "100"
      ]
     },
     "execution_count": 5,
     "metadata": {},
     "output_type": "execute_result"
    }
   ],
   "source": [
    "num= -100\n",
    "abs(num)"
   ]
  },
  {
   "cell_type": "markdown",
   "id": "28dccedc-40cd-4574-85b5-280dcc309359",
   "metadata": {
    "jp-MarkdownHeadingCollapsed": true
   },
   "source": [
    "# divmod()"
   ]
  },
  {
   "cell_type": "code",
   "execution_count": 1,
   "id": "ad4c3cc8-d533-4929-86f9-3db588a1f1bd",
   "metadata": {},
   "outputs": [
    {
     "data": {
      "text/plain": [
       "(1, 2)"
      ]
     },
     "execution_count": 1,
     "metadata": {},
     "output_type": "execute_result"
    }
   ],
   "source": [
    "divmod(6,4)# print Quotient 1 and remainder"
   ]
  },
  {
   "cell_type": "markdown",
   "id": "4a07d491-f9c4-4800-8cf5-c4ba8d7d4c1f",
   "metadata": {},
   "source": [
    "# Return statement"
   ]
  },
  {
   "cell_type": "code",
   "execution_count": 10,
   "id": "a83a9951-247f-422c-9c3e-e04c6786eb41",
   "metadata": {},
   "outputs": [],
   "source": [
    "def double(num):\n",
    "    '''Whatever the number you enter ... it just double the number '''\n",
    "    return 2*num"
   ]
  },
  {
   "cell_type": "code",
   "execution_count": 12,
   "id": "151c65ee-6af2-4e63-b280-d547b742fae1",
   "metadata": {},
   "outputs": [
    {
     "name": "stdout",
     "output_type": "stream",
     "text": [
      "Whatever the number you enter ... it just double the number \n"
     ]
    }
   ],
   "source": [
    "print(double.__doc__)"
   ]
  },
  {
   "cell_type": "code",
   "execution_count": 14,
   "id": "9c5acb1e-4729-4e59-a0cb-e2b4c8fa33ec",
   "metadata": {},
   "outputs": [
    {
     "data": {
      "text/plain": [
       "20"
      ]
     },
     "execution_count": 14,
     "metadata": {},
     "output_type": "execute_result"
    }
   ],
   "source": [
    "double(10)"
   ]
  },
  {
   "cell_type": "code",
   "execution_count": 17,
   "id": "742b9ce5-3bf7-439d-9041-94bc33ccae21",
   "metadata": {},
   "outputs": [],
   "source": [
    "## Write a program to check a number is even or odd"
   ]
  },
  {
   "cell_type": "code",
   "execution_count": 2,
   "id": "54b9ef96-3211-4525-83ed-6754d64b4f4e",
   "metadata": {},
   "outputs": [],
   "source": [
    "def even_odd():\n",
    "    '''Check the number is odd or even '''\n",
    "    a=int(input(\"Enter the num \"))\n",
    "    if a%2==0:\n",
    "        print(\"The num is even \")\n",
    "    else:\n",
    "        print(\"The num is odd\")"
   ]
  },
  {
   "cell_type": "code",
   "execution_count": 3,
   "id": "9671a605-a0e8-4b7f-898d-c69f6ee30144",
   "metadata": {},
   "outputs": [
    {
     "name": "stdin",
     "output_type": "stream",
     "text": [
      "Enter the num  4\n"
     ]
    },
    {
     "name": "stdout",
     "output_type": "stream",
     "text": [
      "The num is even \n"
     ]
    }
   ],
   "source": [
    "even_odd()"
   ]
  },
  {
   "cell_type": "code",
   "execution_count": 4,
   "id": "d605011f-98f8-49f1-9db0-ab202e8a5d52",
   "metadata": {},
   "outputs": [
    {
     "name": "stdout",
     "output_type": "stream",
     "text": [
      "Check the number is odd or even \n"
     ]
    }
   ],
   "source": [
    "print(even_odd.__doc__)"
   ]
  },
  {
   "cell_type": "code",
   "execution_count": 5,
   "id": "b1395dfe-b2c3-48b9-890a-9f043ee707d5",
   "metadata": {},
   "outputs": [],
   "source": [
    "def even_odd(a):\n",
    "    '''Check the number is odd or even '''\n",
    "    if a%2==0:\n",
    "        print(\"The num is even\")\n",
    "    else:\n",
    "        print(\"The num is odd\")"
   ]
  },
  {
   "cell_type": "code",
   "execution_count": 6,
   "id": "fe09cd58-0b7e-43d8-969c-b3534656a06f",
   "metadata": {},
   "outputs": [
    {
     "name": "stdout",
     "output_type": "stream",
     "text": [
      "The num is even\n"
     ]
    }
   ],
   "source": [
    "even_odd(10)"
   ]
  },
  {
   "cell_type": "code",
   "execution_count": 19,
   "id": "b153de08-2439-4230-af63-41f4bfbb36d1",
   "metadata": {},
   "outputs": [],
   "source": [
    "def print_name(c):\n",
    "    print('hello',c)"
   ]
  },
  {
   "cell_type": "code",
   "execution_count": 21,
   "id": "61fb03ae-f002-4806-8ed9-4d5fdfe52593",
   "metadata": {},
   "outputs": [
    {
     "name": "stdout",
     "output_type": "stream",
     "text": [
      "hello jagannath\n"
     ]
    }
   ],
   "source": [
    "print_name('jagannath')"
   ]
  },
  {
   "cell_type": "code",
   "execution_count": 23,
   "id": "7a9508d1-5021-4920-b6fd-29103d488f68",
   "metadata": {},
   "outputs": [
    {
     "name": "stdout",
     "output_type": "stream",
     "text": [
      "hello 125\n"
     ]
    }
   ],
   "source": [
    "print_name(125)"
   ]
  },
  {
   "cell_type": "code",
   "execution_count": 25,
   "id": "315a2d12-c9e8-416c-9c1e-4b20936c6f00",
   "metadata": {},
   "outputs": [
    {
     "name": "stdout",
     "output_type": "stream",
     "text": [
      "5\n",
      "10\n",
      "15\n",
      "20\n",
      "25\n",
      "30\n",
      "40\n",
      "45\n"
     ]
    }
   ],
   "source": [
    "def num(i):\n",
    "    for num in range(1,i):\n",
    "        if num%5 == 0 and num%7!=0:\n",
    "            print(num)\n",
    "num(50)"
   ]
  },
  {
   "cell_type": "code",
   "execution_count": 33,
   "id": "50c459be-2cc6-4071-b150-2d00c7992e15",
   "metadata": {},
   "outputs": [
    {
     "name": "stdout",
     "output_type": "stream",
     "text": [
      "12 9\n"
     ]
    }
   ],
   "source": [
    "first=[1,2,3,4,5,6]\n",
    "even_sum=0\n",
    "odd_sum=0\n",
    "for i in first:\n",
    "    if i%2==0:\n",
    "        even_sum=even_sum+i\n",
    "    else:\n",
    "        odd_sum=odd_sum+i\n",
    "print(even_sum,odd_sum)"
   ]
  },
  {
   "cell_type": "markdown",
   "id": "c965338f-d991-44d3-8f12-575ac6237f83",
   "metadata": {},
   "source": [
    "# function arguments"
   ]
  },
  {
   "cell_type": "code",
   "execution_count": 38,
   "id": "136cb1ab-5809-48b0-bd22-de1edfb6700d",
   "metadata": {},
   "outputs": [
    {
     "name": "stdout",
     "output_type": "stream",
     "text": [
      "Hello Bikash,Good Afternoon\n"
     ]
    }
   ],
   "source": [
    "def Wish(name,wish):\n",
    "    print(\"Hello {},{}\".format(name,wish))\n",
    "Wish('Bikash','Good Afternoon')"
   ]
  },
  {
   "cell_type": "markdown",
   "id": "cf5119b0-5413-43c4-9f97-8d504ae34d4e",
   "metadata": {},
   "source": [
    "# Different Forms of Argument"
   ]
  },
  {
   "cell_type": "markdown",
   "id": "588c52da-6281-4627-a171-985d540aad46",
   "metadata": {},
   "source": [
    "### 1.Function with no arguments "
   ]
  },
  {
   "cell_type": "code",
   "execution_count": 52,
   "id": "a0b74973-70d5-459e-adcb-f48e87ac3f15",
   "metadata": {},
   "outputs": [],
   "source": [
    "def even():\n",
    "    lb=int(input('enter lower bound number:'))\n",
    "    ub=int(input('enter upper bound number:'))\n",
    "    for i in range (lb,ub+1):\n",
    "        if i%2==0:\n",
    "            print(i)"
   ]
  },
  {
   "cell_type": "code",
   "execution_count": 54,
   "id": "debbde03-fa3d-4a8c-83f6-7e0e757e1ebb",
   "metadata": {},
   "outputs": [
    {
     "name": "stdin",
     "output_type": "stream",
     "text": [
      "enter lower bound number: 11\n",
      "enter upper bound number: 50\n"
     ]
    },
    {
     "name": "stdout",
     "output_type": "stream",
     "text": [
      "12\n",
      "14\n",
      "16\n",
      "18\n",
      "20\n",
      "22\n",
      "24\n",
      "26\n",
      "28\n",
      "30\n",
      "32\n",
      "34\n",
      "36\n",
      "38\n",
      "40\n",
      "42\n",
      "44\n",
      "46\n",
      "48\n",
      "50\n"
     ]
    }
   ],
   "source": [
    "even()"
   ]
  },
  {
   "cell_type": "markdown",
   "id": "9f3e1ef4-034c-4cd7-9ba2-ef6066870824",
   "metadata": {},
   "source": [
    "## 2.Default Arguments "
   ]
  },
  {
   "cell_type": "code",
   "execution_count": 64,
   "id": "5ffe775e-c484-4e08-9704-ead7751f7426",
   "metadata": {},
   "outputs": [
    {
     "name": "stdout",
     "output_type": "stream",
     "text": [
      "hello swopna,good night and sweet dreams\n"
     ]
    }
   ],
   "source": [
    "def greet(name,msg=\"good morning\"):\n",
    "    print(\"hello {},{}\".format(name,msg))\n",
    "greet('swopna','good night and sweet dreams')"
   ]
  },
  {
   "cell_type": "code",
   "execution_count": 66,
   "id": "1a8afb87-7c2f-4172-be64-6f61ae8976be",
   "metadata": {},
   "outputs": [
    {
     "name": "stdout",
     "output_type": "stream",
     "text": [
      "hello radhika,good morning\n"
     ]
    }
   ],
   "source": [
    "greet('radhika')"
   ]
  },
  {
   "cell_type": "code",
   "execution_count": 7,
   "id": "acf21e03-ea8e-439d-b51a-b8860cdecf66",
   "metadata": {},
   "outputs": [],
   "source": [
    "def summation():\n",
    "    '''Check the number is odd or even '''\n",
    "    a=int(input(\"Enter the num \"))\n",
    "    b=int(input(\"Enter the num \"))\n",
    "    s=a+b\n",
    "    print(s)\n",
    "    if s%2==0:\n",
    "        print(\"The num is even \")\n",
    "    else:\n",
    "        print(\"The num is odd\")"
   ]
  },
  {
   "cell_type": "code",
   "execution_count": 9,
   "id": "171ad19b-659e-44f3-b771-22c6e97c8951",
   "metadata": {},
   "outputs": [
    {
     "name": "stdin",
     "output_type": "stream",
     "text": [
      "Enter the num  4\n",
      "Enter the num  5\n"
     ]
    },
    {
     "name": "stdout",
     "output_type": "stream",
     "text": [
      "9\n",
      "The num is odd\n"
     ]
    }
   ],
   "source": [
    "summation()"
   ]
  },
  {
   "cell_type": "code",
   "execution_count": null,
   "id": "55ae9bac-4ca2-4830-8dfc-2a4d753accba",
   "metadata": {},
   "outputs": [],
   "source": [
    "def summation():\n",
    "    a=4\n",
    "    b=5\n",
    "    '''Summation of two number'''\n",
    "    s=a+b\n",
    "    print(s)\n",
    "    if s%2==0:\n",
    "        print(\"The num is even \")\n",
    "    else:\n",
    "        print(\"The num is odd\")\n",
    "    return s\n",
    "summation()"
   ]
  },
  {
   "cell_type": "code",
   "execution_count": null,
   "id": "d37b7b7c-2eca-4140-bcfa-39fd4348d838",
   "metadata": {},
   "outputs": [],
   "source": [
    "print(summation.__doc__)"
   ]
  },
  {
   "cell_type": "code",
   "execution_count": 45,
   "id": "32a84123-b62e-439d-8492-59324630c2e9",
   "metadata": {},
   "outputs": [],
   "source": [
    "def fact():\n",
    "    n=int(input(\"Enter a number :\"))\n",
    "    if n<0:\n",
    "        print(\"No result\")\n",
    "    elif n==0:\n",
    "        print(\"The fact is 1\")\n",
    "    elif n>=1:\n",
    "        fact =1\n",
    "        for i in range (1,n+1):\n",
    "            fact =fact*i\n",
    "    print(\"The result is \",fact)"
   ]
  },
  {
   "cell_type": "code",
   "execution_count": 11,
   "id": "2314e8b2-8fe6-497b-bb70-2468e5440ef6",
   "metadata": {},
   "outputs": [
    {
     "name": "stdin",
     "output_type": "stream",
     "text": [
      "Enter a number : 5\n"
     ]
    },
    {
     "name": "stdout",
     "output_type": "stream",
     "text": [
      "The result is  120\n"
     ]
    }
   ],
   "source": [
    "fact()"
   ]
  },
  {
   "cell_type": "code",
   "execution_count": 15,
   "id": "fa8087d8-ad37-43f9-a854-bf35d592d710",
   "metadata": {},
   "outputs": [],
   "source": [
    "def multiple(a,b):   #a and b in parameter (value)\n",
    "    '''Multiply by two numbers'''\n",
    "    a=int(input(\"Enter a number:\"))\n",
    "    b=int(input(\"Enter a number:\"))\n",
    "    mul =a*b\n",
    "    print(\"The multiplication of {} and {} is {}\".format(a,b,mul))"
   ]
  },
  {
   "cell_type": "code",
   "execution_count": 16,
   "id": "2fa7d5c8-7deb-44c1-ad17-b62b2cfd39e5",
   "metadata": {},
   "outputs": [
    {
     "name": "stdin",
     "output_type": "stream",
     "text": [
      "Enter a number: 5\n",
      "Enter a number: 4\n"
     ]
    },
    {
     "name": "stdout",
     "output_type": "stream",
     "text": [
      "The multiplication of 5 and 4 is 20\n"
     ]
    }
   ],
   "source": [
    "multiple(8,7)   # 8 and 7 are arguments"
   ]
  },
  {
   "cell_type": "code",
   "execution_count": 17,
   "id": "206f3e64-b7fd-4ea5-9178-422c5aa15deb",
   "metadata": {},
   "outputs": [
    {
     "name": "stdout",
     "output_type": "stream",
     "text": [
      "Multiply by two numbers\n"
     ]
    }
   ],
   "source": [
    "print(multiple.__doc__)"
   ]
  },
  {
   "cell_type": "code",
   "execution_count": 18,
   "id": "75e4dbfc-457b-45d0-b543-d331d4c15f61",
   "metadata": {},
   "outputs": [],
   "source": [
    "def mul(c,a=12,b=5):\n",
    "    mu=(a*b)+c\n",
    "    print(\"The multiplication of {} and{} is {}\".format(a,b,mu))"
   ]
  },
  {
   "cell_type": "code",
   "execution_count": 19,
   "id": "e4d9fc2a-e052-4032-833a-5dc4ae018450",
   "metadata": {},
   "outputs": [
    {
     "name": "stdout",
     "output_type": "stream",
     "text": [
      "The multiplication of 10 and4 is 45\n"
     ]
    }
   ],
   "source": [
    "mul(5,10,4)  # in this  operation their is  a and b is change but position is not change "
   ]
  },
  {
   "cell_type": "markdown",
   "id": "7d3c9d7c-b0aa-4cc2-a2fd-74bcdf15f5d7",
   "metadata": {},
   "source": [
    "# 3.Keyword Arguments"
   ]
  },
  {
   "cell_type": "markdown",
   "id": "01a0be99-55c5-4f20-9f6b-c001ba4b1027",
   "metadata": {},
   "source": [
    "Each arguments has keyarguments "
   ]
  },
  {
   "cell_type": "code",
   "execution_count": 29,
   "id": "e31a54d2-7d6e-4a60-8a60-e5a33df62922",
   "metadata": {},
   "outputs": [
    {
     "name": "stdout",
     "output_type": "stream",
     "text": [
      "hello good ,good morning\n"
     ]
    }
   ],
   "source": [
    "def great(**raki):\n",
    "    if raki:\n",
    "        print(\"hello {} ,{}\".format(raki['name'],raki['msg']))\n",
    "great(name='good',msg='good morning')"
   ]
  },
  {
   "cell_type": "markdown",
   "id": "9b55cd1b-27f7-430f-9c7d-d75e6d7013da",
   "metadata": {},
   "source": [
    "# 4.Arbitray Argument\n"
   ]
  },
  {
   "cell_type": "code",
   "execution_count": 42,
   "id": "469b0d20-37cc-413d-985e-5da8c143de8b",
   "metadata": {},
   "outputs": [],
   "source": [
    "def great(*names):\n",
    "    print(names)\n",
    "    for name in names:\n",
    "        print(\"Hello,{}\".format(name))\n",
    "    "
   ]
  },
  {
   "cell_type": "code",
   "execution_count": 44,
   "id": "08e9a6d7-91d7-4dee-a99e-aee92a3b256f",
   "metadata": {},
   "outputs": [
    {
     "name": "stdout",
     "output_type": "stream",
     "text": [
      "('Suvendu', 'Sambad', 'like')\n",
      "Hello,Suvendu\n",
      "Hello,Sambad\n",
      "Hello,like\n"
     ]
    }
   ],
   "source": [
    "great(\"Suvendu\",\"Sambad\",\"like\")"
   ]
  },
  {
   "cell_type": "markdown",
   "id": "c10ecf06-8d11-43ff-915d-904f21b3513f",
   "metadata": {},
   "source": [
    "# Recursive Function Or Recurssion"
   ]
  },
  {
   "cell_type": "code",
   "execution_count": 71,
   "id": "0912bb03-cd1e-47da-96c1-cc5e690da054",
   "metadata": {},
   "outputs": [
    {
     "name": "stdin",
     "output_type": "stream",
     "text": [
      "Enter The number: 4\n",
      "Enter The number: 5\n"
     ]
    },
    {
     "name": "stdout",
     "output_type": "stream",
     "text": [
      "Select the operation\n",
      "1.Addition\n",
      "2.Subtraction\n",
      "3.Multiplication\n",
      "4.Division\n",
      "5.Modulus\n"
     ]
    },
    {
     "name": "stdin",
     "output_type": "stream",
     "text": [
      "Choose your need: 6\n"
     ]
    },
    {
     "name": "stdout",
     "output_type": "stream",
     "text": [
      "Invalid Calculation\n"
     ]
    }
   ],
   "source": [
    "### Calculator in Recurssive\n",
    "def addition(a,b):\n",
    "    return a+b\n",
    "def subtraction(a,b):\n",
    "    return a-b\n",
    "def multiplication(a,b):\n",
    "    return a*b\n",
    "def division(a,b):\n",
    "    return a/b\n",
    "def modu\\lus(a,b):\n",
    "    return a%b\n",
    "a=int(input(\"Enter The number:\"))\n",
    "b=int(input(\"Enter The number:\"))\n",
    "print(\"Select the operation\")\n",
    "print(\"1.Addition\")\n",
    "print(\"2.Subtraction\")\n",
    "print(\"3.Multiplication\")\n",
    "print(\"4.Division\")\n",
    "print(\"5.Modulus\")\n",
    "d=int(input(\"Choose your need:\"))\n",
    "if  d==1:\n",
    "    print(\"The Summation of {} and {} is {}\".format(a,b,addition(a,b)))\n",
    "elif d==2:\n",
    "    print(\"The Subtaction is {} and {} is{} \".format(a,b,subtraction(a,b)))\n",
    "elif d==3:\n",
    "    print(\"The multiplication is {} and {} is {}\".format(a,b,multiplication(a,b)))\n",
    "elif d==4:\n",
    "    print(\"The Division is {} and {} is{}\".format(a,b,division(a,b)))\n",
    "elif d==5:\n",
    "    print(\"The modulus is {} and {} is{}\".format(a,b,modulus(a,b)))\n",
    "else:\n",
    "    print(\"Invalid Calculation\")"
   ]
  },
  {
   "cell_type": "code",
   "execution_count": null,
   "id": "51cef072-6e5f-41a7-bc27-ac999ee93dbe",
   "metadata": {},
   "outputs": [],
   "source": []
  },
  {
   "cell_type": "code",
   "execution_count": null,
   "id": "f091e027-651f-4f24-b2ac-a25fb28f6803",
   "metadata": {},
   "outputs": [],
   "source": []
  }
 ],
 "metadata": {
  "kernelspec": {
   "display_name": "Python 3 (ipykernel)",
   "language": "python",
   "name": "python3"
  },
  "language_info": {
   "codemirror_mode": {
    "name": "ipython",
    "version": 3
   },
   "file_extension": ".py",
   "mimetype": "text/x-python",
   "name": "python",
   "nbconvert_exporter": "python",
   "pygments_lexer": "ipython3",
   "version": "3.11.7"
  }
 },
 "nbformat": 4,
 "nbformat_minor": 5
}
