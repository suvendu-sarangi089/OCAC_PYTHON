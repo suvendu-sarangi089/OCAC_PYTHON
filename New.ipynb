{
 "cells": [
  {
   "cell_type": "code",
   "execution_count": null,
   "id": "f05fc03f-cf70-4b84-b197-edbcde493b9a",
   "metadata": {},
   "outputs": [],
   "source": [
    "x=10+20j\n"
   ]
  },
  {
   "cell_type": "code",
   "execution_count": null,
   "id": "eebbbe0e-e449-4ad7-b44a-9dc849687c5a",
   "metadata": {},
   "outputs": [],
   "source": [
    "type(x)"
   ]
  },
  {
   "cell_type": "code",
   "execution_count": null,
   "id": "5b31c5b3-9c48-4d49-a7a0-534a106e4394",
   "metadata": {},
   "outputs": [],
   "source": [
    "x.real"
   ]
  },
  {
   "cell_type": "code",
   "execution_count": null,
   "id": "392155d6-ed4b-4ecf-bb06-d2e1742e8edc",
   "metadata": {},
   "outputs": [],
   "source": [
    "x.imag"
   ]
  },
  {
   "cell_type": "code",
   "execution_count": null,
   "id": "cb9ab98a-0a19-4d34-84a9-3640d8cc4cc1",
   "metadata": {},
   "outputs": [],
   "source": [
    "y=20j+10"
   ]
  },
  {
   "cell_type": "code",
   "execution_count": null,
   "id": "9f66a8b7-fb0e-411e-8c08-1cb365666589",
   "metadata": {},
   "outputs": [],
   "source": [
    "type(y)"
   ]
  },
  {
   "cell_type": "code",
   "execution_count": null,
   "id": "842d1d48-fc39-4d98-8e02-bc7f9d8248be",
   "metadata": {},
   "outputs": [],
   "source": [
    "x.real"
   ]
  },
  {
   "cell_type": "code",
   "execution_count": 1,
   "id": "2fc8be74-0e2e-4280-a864-d1dc46a6bcb4",
   "metadata": {},
   "outputs": [
    {
     "ename": "NameError",
     "evalue": "name 'x' is not defined",
     "output_type": "error",
     "traceback": [
      "\u001b[1;31m---------------------------------------------------------------------------\u001b[0m",
      "\u001b[1;31mNameError\u001b[0m                                 Traceback (most recent call last)",
      "Cell \u001b[1;32mIn[1], line 1\u001b[0m\n\u001b[1;32m----> 1\u001b[0m x\u001b[38;5;241m.\u001b[39mimag\n",
      "\u001b[1;31mNameError\u001b[0m: name 'x' is not defined"
     ]
    }
   ],
   "source": [
    "x.imag"
   ]
  },
  {
   "cell_type": "code",
   "execution_count": null,
   "id": "e52c3043-6471-420c-8017-e7e072296446",
   "metadata": {},
   "outputs": [],
   "source": [
    "a=10.5\n",
    "print(a)\n",
    "print(type(a))"
   ]
  },
  {
   "cell_type": "code",
   "execution_count": null,
   "id": "b0c54297-779b-4d1c-80d7-7721999dad77",
   "metadata": {},
   "outputs": [],
   "source": [
    "10.5<10.50"
   ]
  },
  {
   "cell_type": "code",
   "execution_count": null,
   "id": "67fdfdb1-64c3-4221-8a85-3f5887453e20",
   "metadata": {},
   "outputs": [],
   "source": [
    "10.5==10.50"
   ]
  },
  {
   "cell_type": "code",
   "execution_count": null,
   "id": "9b889225-15e6-4b36-8fa8-8629e982e458",
   "metadata": {},
   "outputs": [],
   "source": [
    "print(5)\n"
   ]
  },
  {
   "cell_type": "code",
   "execution_count": null,
   "id": "c917e214-f8a3-44fb-96ca-72cd49613038",
   "metadata": {},
   "outputs": [],
   "source": [
    "print(0o15)"
   ]
  },
  {
   "cell_type": "code",
   "execution_count": null,
   "id": "07c366eb-0ee2-4ec8-be1d-9ab763bb9d7c",
   "metadata": {},
   "outputs": [],
   "source": [
    "print(5.0)"
   ]
  },
  {
   "cell_type": "code",
   "execution_count": null,
   "id": "f9a19880-eee6-434f-b336-d38c72383423",
   "metadata": {},
   "outputs": [],
   "source": [
    "print(5.00)"
   ]
  },
  {
   "cell_type": "code",
   "execution_count": null,
   "id": "a2b881c1-e11e-48b1-91ea-f753577a630c",
   "metadata": {},
   "outputs": [],
   "source": [
    "a=5\n",
    "b=2.0\n",
    "print(type(a))\n",
    "print(type(b))\n",
    "a+b\n"
   ]
  },
  {
   "cell_type": "code",
   "execution_count": null,
   "id": "d1f103e9-dce1-42a8-83ec-30a996fdd9e4",
   "metadata": {},
   "outputs": [],
   "source": [
    "b=0\n",
    "type(b)"
   ]
  },
  {
   "cell_type": "code",
   "execution_count": null,
   "id": "de03d971-4277-4e43-b229-c3577a4f95c9",
   "metadata": {},
   "outputs": [],
   "source": [
    "b=3\n",
    "c=False\n",
    "b*c"
   ]
  },
  {
   "cell_type": "code",
   "execution_count": null,
   "id": "3f837c41-c363-4785-87ee-6e52d7876e64",
   "metadata": {},
   "outputs": [],
   "source": [
    "x=200+(-26j)"
   ]
  },
  {
   "cell_type": "code",
   "execution_count": null,
   "id": "b6c1259c-512e-447c-96a4-dc06d7b662b7",
   "metadata": {},
   "outputs": [],
   "source": [
    "x.real"
   ]
  },
  {
   "cell_type": "code",
   "execution_count": null,
   "id": "32c70ca9-ff64-47ef-b383-e7c9d66dfa0d",
   "metadata": {},
   "outputs": [],
   "source": [
    "x.imag"
   ]
  },
  {
   "cell_type": "code",
   "execution_count": null,
   "id": "792f7265-189a-48ed-acf5-9cfa2de697ff",
   "metadata": {},
   "outputs": [],
   "source": [
    "a=\"505.5\"\n",
    "\n",
    "float(a)"
   ]
  },
  {
   "cell_type": "code",
   "execution_count": null,
   "id": "9bb8317a-22b0-4225-8d0c-3f99d589f284",
   "metadata": {},
   "outputs": [],
   "source": [
    "int(float(a))"
   ]
  },
  {
   "cell_type": "code",
   "execution_count": null,
   "id": "e0dcebde-53c8-4da8-a4aa-974b744ef78f",
   "metadata": {},
   "outputs": [],
   "source": [
    "k=input(\"Enter a decimal number\")\n",
    "int(a)"
   ]
  },
  {
   "cell_type": "code",
   "execution_count": null,
   "id": "40950aec-3cd5-471b-a845-334570f1b9b9",
   "metadata": {},
   "outputs": [],
   "source": [
    "int(float(k))"
   ]
  },
  {
   "cell_type": "code",
   "execution_count": null,
   "id": "d661592a-a479-4808-aaba-075272c36421",
   "metadata": {},
   "outputs": [],
   "source": [
    "float(k)"
   ]
  },
  {
   "cell_type": "code",
   "execution_count": null,
   "id": "f059a096-3a90-4faf-af66-cca24356a4b5",
   "metadata": {},
   "outputs": [],
   "source": [
    "a=\"HII am a student\""
   ]
  },
  {
   "cell_type": "code",
   "execution_count": null,
   "id": "a3c46172-904b-425a-8c02-d06950942adf",
   "metadata": {},
   "outputs": [],
   "source": [
    "a[2:1]"
   ]
  },
  {
   "cell_type": "code",
   "execution_count": null,
   "id": "6cd35064-5f23-4269-bcb7-60ede7556444",
   "metadata": {},
   "outputs": [],
   "source": [
    "a[2:4:1]"
   ]
  },
  {
   "cell_type": "code",
   "execution_count": null,
   "id": "ffdc54ee-5faa-4c26-9bde-69c5d5bd81f9",
   "metadata": {},
   "outputs": [],
   "source": [
    "\"good morning\".capitalize()"
   ]
  },
  {
   "cell_type": "code",
   "execution_count": null,
   "id": "f6e90ed0-e40c-4b6c-b09d-730e2575280f",
   "metadata": {},
   "outputs": [],
   "source": [
    "\"good Morning\".capitalize()"
   ]
  },
  {
   "cell_type": "code",
   "execution_count": null,
   "id": "4dc687cb-a40d-4afd-a1cf-3234b1a8d7cd",
   "metadata": {},
   "outputs": [],
   "source": [
    "a=(\"Enter your user gmail\")\n"
   ]
  },
  {
   "cell_type": "code",
   "execution_count": 1,
   "id": "9d33646f-8f81-4053-904a-1b0af3e5d8a6",
   "metadata": {},
   "outputs": [
    {
     "data": {
      "text/plain": [
       "'0b1111'"
      ]
     },
     "execution_count": 1,
     "metadata": {},
     "output_type": "execute_result"
    }
   ],
   "source": [
    ">>> bin(15)"
   ]
  },
  {
   "cell_type": "code",
   "execution_count": 8,
   "id": "13b2cff4-bafc-46b3-bcdc-3a8de008a7ff",
   "metadata": {},
   "outputs": [
    {
     "data": {
      "text/plain": [
       "'0o24'"
      ]
     },
     "execution_count": 8,
     "metadata": {},
     "output_type": "execute_result"
    }
   ],
   "source": [
    ">>> oct(20)"
   ]
  },
  {
   "cell_type": "code",
   "execution_count": 9,
   "id": "391d3050-0834-4ce0-922f-4cc2ed91a661",
   "metadata": {},
   "outputs": [
    {
     "data": {
      "text/plain": [
       "'0x64'"
      ]
     },
     "execution_count": 9,
     "metadata": {},
     "output_type": "execute_result"
    }
   ],
   "source": [
    ">>> hex(100)"
   ]
  },
  {
   "cell_type": "code",
   "execution_count": 7,
   "id": "bb172fc5-574c-40d6-8f93-631608aef62f",
   "metadata": {},
   "outputs": [
    {
     "data": {
      "text/plain": [
       "'0x3f'"
      ]
     },
     "execution_count": 7,
     "metadata": {},
     "output_type": "execute_result"
    }
   ],
   "source": [
    ">>> hex(0B111111)"
   ]
  },
  {
   "cell_type": "code",
   "execution_count": null,
   "id": "16285beb-ef0c-4068-8fac-da6c0ddff061",
   "metadata": {},
   "outputs": [],
   "source": []
  }
 ],
 "metadata": {
  "kernelspec": {
   "display_name": "Python 3 (ipykernel)",
   "language": "python",
   "name": "python3"
  },
  "language_info": {
   "codemirror_mode": {
    "name": "ipython",
    "version": 3
   },
   "file_extension": ".py",
   "mimetype": "text/x-python",
   "name": "python",
   "nbconvert_exporter": "python",
   "pygments_lexer": "ipython3",
   "version": "3.11.7"
  }
 },
 "nbformat": 4,
 "nbformat_minor": 5
}
