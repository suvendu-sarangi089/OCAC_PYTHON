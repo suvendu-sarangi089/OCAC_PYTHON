{
 "cells": [
  {
   "cell_type": "markdown",
   "id": "5d13f59e-6bd9-4761-8df8-128abdb10038",
   "metadata": {},
   "source": [
    "# IF Statement \n"
   ]
  },
  {
   "cell_type": "code",
   "execution_count": 1,
   "id": "3cc88d3d-70aa-4852-b916-cda5b35027d7",
   "metadata": {},
   "outputs": [
    {
     "name": "stdout",
     "output_type": "stream",
     "text": [
      "Hiii\n",
      "Mrng\n"
     ]
    }
   ],
   "source": [
    "if 1<2:\n",
    "    print(\"Hiii\")\n",
    "    print(\"Mrng\")"
   ]
  },
  {
   "cell_type": "code",
   "execution_count": 4,
   "id": "11d060c8-cae5-4d29-afbe-075a5cd08e5d",
   "metadata": {},
   "outputs": [
    {
     "name": "stdin",
     "output_type": "stream",
     "text": [
      "Enter Number: 5\n"
     ]
    },
    {
     "name": "stdout",
     "output_type": "stream",
     "text": [
      "This is true\n"
     ]
    }
   ],
   "source": [
    "Sl=input(\"Enter Number:\")\n",
    "if Sl==\"5\":\n",
    "    print(\"This is true\")\n",
    "    "
   ]
  },
  {
   "cell_type": "markdown",
   "id": "16638794-4284-4e06-bb62-f8dd14347309",
   "metadata": {},
   "source": [
    "# If-else statement"
   ]
  },
  {
   "cell_type": "code",
   "execution_count": 7,
   "id": "4ba80645-d016-40fe-b48d-efdae4dd5f4c",
   "metadata": {},
   "outputs": [
    {
     "name": "stdout",
     "output_type": "stream",
     "text": [
      "Juhar Ho \n"
     ]
    }
   ],
   "source": [
    "if 1>2:\n",
    "    print(\"Kalyan Ho \")\n",
    "else:\n",
    "    print(\"Juhar Ho \")"
   ]
  },
  {
   "cell_type": "code",
   "execution_count": 8,
   "id": "5fc4b55a-0946-4f4d-8f51-de39e2389788",
   "metadata": {},
   "outputs": [
    {
     "name": "stdout",
     "output_type": "stream",
     "text": [
      "First Hoge\n"
     ]
    }
   ],
   "source": [
    "if 1<2:\n",
    "    print(\"First Hoge\")\n",
    "else:\n",
    "    print(\"last hogaya\")"
   ]
  },
  {
   "cell_type": "code",
   "execution_count": 12,
   "id": "7b09b2f0-3f4b-4f98-8277-b00bc4e52612",
   "metadata": {},
   "outputs": [
    {
     "name": "stdin",
     "output_type": "stream",
     "text": [
      "Enter a number: 5\n"
     ]
    },
    {
     "name": "stdout",
     "output_type": "stream",
     "text": [
      "5 is odd number\n"
     ]
    }
   ],
   "source": [
    "# Take a user input to crate a program that is Even or Odd Number \n",
    "k=int(input('Enter a number:'))\n",
    "if (k%2==0):\n",
    "    print(k,\"is even number\")\n",
    "else:\n",
    "    print(k,\"is odd number\")\n",
    "    "
   ]
  },
  {
   "cell_type": "code",
   "execution_count": 22,
   "id": "c49a675c-c1c9-4b1f-ba5a-06678f25aa69",
   "metadata": {},
   "outputs": [
    {
     "name": "stdout",
     "output_type": "stream",
     "text": [
      "hii\n"
     ]
    }
   ],
   "source": [
    "sl1=['one','two','three','four']\n",
    "if 'one' in sl1:\n",
    "    print(\"hii\")\n",
    "else:\n",
    "    print(\"Ai\")"
   ]
  },
  {
   "cell_type": "code",
   "execution_count": 26,
   "id": "08ffe2e0-a19e-4c70-908d-b461e4a593d5",
   "metadata": {},
   "outputs": [
    {
     "name": "stdin",
     "output_type": "stream",
     "text": [
      " 0\n"
     ]
    },
    {
     "name": "stdout",
     "output_type": "stream",
     "text": [
      "0 is positive\n"
     ]
    }
   ],
   "source": [
    "#given number is positibe or negative\n",
    "a= int (input())\n",
    "if (a>=0):\n",
    "    print(a,\"is positive\")\n",
    "else:\n",
    "    print(a,\"a is negative\")"
   ]
  },
  {
   "cell_type": "markdown",
   "id": "e2f68ea4-4555-49f3-a58e-69edb55ad9a5",
   "metadata": {},
   "source": [
    "# if-elif-else statement:"
   ]
  },
  {
   "cell_type": "code",
   "execution_count": 29,
   "id": "2d0f1e53-7fd3-404e-bbb9-79aad8a4deff",
   "metadata": {},
   "outputs": [
    {
     "name": "stdout",
     "output_type": "stream",
     "text": [
      "Grade C\n"
     ]
    }
   ],
   "source": [
    "y=54\n",
    "if y>90:\n",
    "    print(\"Grade A\")\n",
    "elif y>60:\n",
    "    print(\"Grade B\")\n",
    "elif y>40:\n",
    "    print(\"Grade C\")\n",
    "else:\n",
    "    print(\"Grade D\")"
   ]
  },
  {
   "cell_type": "code",
   "execution_count": 34,
   "id": "b29496f7-75e1-45d6-af4a-6c3a6b96c260",
   "metadata": {},
   "outputs": [
    {
     "name": "stdout",
     "output_type": "stream",
     "text": [
      "I am in elif block\n",
      "X is negative\n"
     ]
    }
   ],
   "source": [
    "x=-45.99\n",
    "if ((x>0) or (x==-100)):\n",
    "    print(\"x is positive value or -100\")\n",
    "    print(\"I am  a student\")\n",
    "elif(x<0):\n",
    "    print(\"I am in elif block\")\n",
    "    print(\"X is negative\")\n",
    "else:\n",
    "    print(\"X is Zero \")\n",
    "    "
   ]
  },
  {
   "cell_type": "code",
   "execution_count": 40,
   "id": "68f0cfe8-2297-4947-90c9-63234fe5470b",
   "metadata": {},
   "outputs": [
    {
     "name": "stdin",
     "output_type": "stream",
     "text": [
      "Enter marks: 45\n"
     ]
    },
    {
     "name": "stdout",
     "output_type": "stream",
     "text": [
      "45  You are Failed this exam ,then try again later\n"
     ]
    }
   ],
   "source": [
    "''' findout the grade based on student marks\n",
    "85-100=A grade \n",
    "75-100=B grade\n",
    "65-75=c grade\n",
    "55-65=d grade\n",
    "45-55=e grade \n",
    "0-45=fail '''\n",
    "a = int(float(input(\"Enter marks:\")))\n",
    "if (a>85 and a<=100):\n",
    "    print(a,'You got A grade')\n",
    "elif (a<=85 and a>=75):\n",
    "    print(a,'You got B grade')\n",
    "elif (a<=75 and a>65):\n",
    "    print(a,'You got C grade')\n",
    "elif (a<=65 and a>55):\n",
    "    print(a,'You got D grade')\n",
    "elif (a<=55 and a>45):\n",
    "    print(a,'You got E grade')\n",
    "else:\n",
    "    print(a,\" You are Failed this exam ,then try again later\")"
   ]
  },
  {
   "cell_type": "code",
   "execution_count": 42,
   "id": "ff9bd7e4-f98c-495f-bb69-435c9f1123b5",
   "metadata": {},
   "outputs": [
    {
     "name": "stdin",
     "output_type": "stream",
     "text": [
      "Enter first number: 50\n",
      "Enter aecond number: 20\n"
     ]
    },
    {
     "name": "stdout",
     "output_type": "stream",
     "text": [
      "Biggest Number is : 50\n"
     ]
    }
   ],
   "source": [
    "# write a program to find Biggest af a given 2 number ffrom input console \n",
    "n1=int(input(\"Enter first number:\"))\n",
    "n2=int(input(\"Enter second number:\"))\n",
    "\n",
    "if n1>n2:\n",
    "    print(\"Biggest Number is :\",n1)\n",
    "else:\n",
    "    print(\"Biggest Number is :\",n2)"
   ]
  },
  {
   "cell_type": "code",
   "execution_count": 44,
   "id": "5060e0f7-70aa-43c4-aee1-2788ae1afc99",
   "metadata": {},
   "outputs": [
    {
     "name": "stdin",
     "output_type": "stream",
     "text": [
      "Enter first number: 5\n",
      "Enter second number: 4\n",
      "Enter third number: 10\n"
     ]
    },
    {
     "name": "stdout",
     "output_type": "stream",
     "text": [
      "10 is largest\n"
     ]
    }
   ],
   "source": [
    "# Write a program to find largest of given 3 Number from the input console \n",
    "n1=int(input(\"Enter first number:\"))\n",
    "n2=int(input(\"Enter second number:\"))\n",
    "n3=int(input(\"Enter third number:\"))\n",
    "if n1>n2 and n1>n3:\n",
    "    print(n1,\"is largest\")\n",
    "elif n2>n3:\n",
    "    print(n2,\"is largest\")\n",
    "else:\n",
    "    print(n3,\"is largest\")\n",
    "    "
   ]
  },
  {
   "cell_type": "markdown",
   "id": "39963c04-dd7c-4dae-ab94-908d13c3d84b",
   "metadata": {},
   "source": [
    "# Nested if statement"
   ]
  },
  {
   "cell_type": "code",
   "execution_count": 45,
   "id": "a5dea2c5-4c8a-4376-a9e4-fa08bc379ac8",
   "metadata": {},
   "outputs": [
    {
     "name": "stdout",
     "output_type": "stream",
     "text": [
      "Positive Number\n"
     ]
    }
   ],
   "source": [
    "num = 50\n",
    "if num >=0:\n",
    "    if num ==0:\n",
    "        print(\"Not\")\n",
    "    else:\n",
    "        print(\"Positive Number\")\n",
    "else:\n",
    "    print(\"Negative Number\")\n"
   ]
  },
  {
   "cell_type": "code",
   "execution_count": 56,
   "id": "3675ca1d-817c-4158-95aa-31c0ebcff265",
   "metadata": {},
   "outputs": [
    {
     "name": "stdin",
     "output_type": "stream",
     "text": [
      "Enter your pin: 754224\n",
      "withdraw amount: 20000\n"
     ]
    },
    {
     "name": "stdout",
     "output_type": "stream",
     "text": [
      "20000 Rupees is Successfully Withdraw,transaction completed Thank You visit again...\n"
     ]
    }
   ],
   "source": [
    "#Next program o bank transaction using conditional statement\n",
    "amount =50000\n",
    "pin=754224\n",
    "if (int(input(\"Enter your pin:\"))==754224):\n",
    "    withdraw=int(input(\"withdraw amount:\"))\n",
    "    if(withdraw<=amount):\n",
    "        print(withdraw,\"Rupees is Successfully Withdraw,transaction completed Thank You visit again...\")\n",
    "    else:\n",
    "        print(withdraw,\"There is no sufficient fund in your account.\")\n",
    "else:\n",
    "    print(\"Invalid Pin Number,Please Enter Your valid Pin Number.\")\n",
    "\n",
    "\n",
    "        \n",
    "    \n"
   ]
  },
  {
   "cell_type": "code",
   "execution_count": null,
   "id": "8efdcd9c-240e-4553-aef1-ee2f466b75ce",
   "metadata": {},
   "outputs": [],
   "source": []
  }
 ],
 "metadata": {
  "kernelspec": {
   "display_name": "Python 3 (ipykernel)",
   "language": "python",
   "name": "python3"
  },
  "language_info": {
   "codemirror_mode": {
    "name": "ipython",
    "version": 3
   },
   "file_extension": ".py",
   "mimetype": "text/x-python",
   "name": "python",
   "nbconvert_exporter": "python",
   "pygments_lexer": "ipython3",
   "version": "3.11.7"
  }
 },
 "nbformat": 4,
 "nbformat_minor": 5
}
