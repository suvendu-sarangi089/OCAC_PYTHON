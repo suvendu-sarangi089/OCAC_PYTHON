{
 "cells": [
  {
   "cell_type": "markdown",
   "id": "73074600-a231-4f51-ad85-267ed2887d9c",
   "metadata": {},
   "source": [
    "# For Loop\n"
   ]
  },
  {
   "cell_type": "code",
   "execution_count": 1,
   "id": "7d1d47b0-36db-4366-a16e-068a8571520b",
   "metadata": {
    "scrolled": true
   },
   "outputs": [
    {
     "name": "stdout",
     "output_type": "stream",
     "text": [
      "0\n",
      "1\n",
      "2\n",
      "3\n"
     ]
    }
   ],
   "source": [
    "for i in range(4):\n",
    "    print(i)"
   ]
  },
  {
   "cell_type": "code",
   "execution_count": 24,
   "id": "e5e044b6-102b-4fa2-a34b-89b0ce514915",
   "metadata": {},
   "outputs": [
    {
     "name": "stdout",
     "output_type": "stream",
     "text": [
      "sum: 1\n",
      "sum: 3\n",
      "sum: 6\n",
      "sum: 10\n"
     ]
    }
   ],
   "source": [
    "a=[1,2,3,4]\n",
    "b=0  #initialization\n",
    "for i in a:\n",
    "    b=b+i\n",
    "    print(\"sum:\",b)"
   ]
  },
  {
   "cell_type": "code",
   "execution_count": 4,
   "id": "4b9f6323-abe5-423c-8572-495b892ea013",
   "metadata": {},
   "outputs": [
    {
     "name": "stdout",
     "output_type": "stream",
     "text": [
      "1 2 4 5 8 6 "
     ]
    }
   ],
   "source": [
    "list1=[1,2,4,5,8,6]\n",
    "for i in list1:\n",
    "    print(i,end=\" \")"
   ]
  },
  {
   "cell_type": "code",
   "execution_count": 5,
   "id": "abf4724d-1b89-439b-bb75-a69bfdc12fdc",
   "metadata": {},
   "outputs": [
    {
     "name": "stdout",
     "output_type": "stream",
     "text": [
      "0 Hiii\n",
      "1 Hiii\n",
      "2 Hiii\n",
      "3 Hiii\n",
      "4 Hiii\n",
      "5 Hiii\n",
      "6 Hiii\n",
      "7 Hiii\n",
      "8 Hiii\n",
      "9 Hiii\n"
     ]
    }
   ],
   "source": [
    "for x in range(10):\n",
    "    print(x,\"Hiii\")"
   ]
  },
  {
   "cell_type": "code",
   "execution_count": 7,
   "id": "8062236e-a412-44b3-87a3-fb000891ac15",
   "metadata": {},
   "outputs": [
    {
     "name": "stdout",
     "output_type": "stream",
     "text": [
      "1 2 3 4 5 6 7 8 9 10 "
     ]
    }
   ],
   "source": [
    "for i in range(1,11):\n",
    "    print(i,end=\" \")"
   ]
  },
  {
   "cell_type": "code",
   "execution_count": 8,
   "id": "c5dad002-93b9-449c-9bea-af96b9c76341",
   "metadata": {},
   "outputs": [
    {
     "name": "stdout",
     "output_type": "stream",
     "text": [
      "12 14 16 18 20 22 24 26 28 30 32 34 36 38 40 42 44 46 48 50 52 54 56 58 "
     ]
    }
   ],
   "source": [
    "for i in range (12,60,2):\n",
    "    print(i,end=\" \")"
   ]
  },
  {
   "cell_type": "code",
   "execution_count": 12,
   "id": "19f04f05-3f2e-4c7e-a813-12aa044e07d7",
   "metadata": {},
   "outputs": [
    {
     "name": "stdout",
     "output_type": "stream",
     "text": [
      "Sum 10\n"
     ]
    }
   ],
   "source": [
    "# to print sum of whole numbers\n",
    "a=[1,2,3,4]\n",
    "sum1 = 0\n",
    "for i in a:\n",
    "    sum1=sum1+i\n",
    "print(\"Sum\",sum1)"
   ]
  },
  {
   "cell_type": "code",
   "execution_count": 13,
   "id": "8795417a-0143-4366-90c3-64dae74148db",
   "metadata": {},
   "outputs": [
    {
     "name": "stdout",
     "output_type": "stream",
     "text": [
      "hii pop\n"
     ]
    }
   ],
   "source": [
    "gen=['pop','tiid','ndmk','mkdd']\n",
    "for i in range(1):\n",
    "    print(\"hii\",gen[i])"
   ]
  },
  {
   "cell_type": "code",
   "execution_count": 18,
   "id": "204cf9c3-4670-41b2-b930-9145510dd566",
   "metadata": {},
   "outputs": [
    {
     "name": "stdin",
     "output_type": "stream",
     "text": [
      "Enter the number: 10\n",
      "Enter the number: 50\n"
     ]
    },
    {
     "name": "stdout",
     "output_type": "stream",
     "text": [
      "10 12 14 16 18 20 22 24 26 28 30 32 34 36 38 40 42 44 46 48 50 "
     ]
    }
   ],
   "source": [
    "#write a program to print the even number between 10 to 50\n",
    "lb=int(input('Enter the number:'))\n",
    "ub=int(input('Enter the number:'))\n",
    "for i in range(lb,ub+1):\n",
    "    if i%2==0:\n",
    "        print(i,end=\" \")"
   ]
  },
  {
   "cell_type": "code",
   "execution_count": 26,
   "id": "962ff008-45be-4cfe-9a52-0b71c0097ae2",
   "metadata": {},
   "outputs": [
    {
     "name": "stdin",
     "output_type": "stream",
     "text": [
      "Enter the num: 5\n"
     ]
    },
    {
     "name": "stdout",
     "output_type": "stream",
     "text": [
      "* * * * * "
     ]
    }
   ],
   "source": [
    "n=int(input('Enter the num:'))\n",
    "for i in range(n):\n",
    "      print('*',end=\" \")"
   ]
  },
  {
   "cell_type": "code",
   "execution_count": 2,
   "id": "7785ea7a-87f4-4fdb-ac5b-e4123047af5e",
   "metadata": {},
   "outputs": [
    {
     "name": "stdin",
     "output_type": "stream",
     "text": [
      " 6\n"
     ]
    },
    {
     "name": "stdout",
     "output_type": "stream",
     "text": [
      "\n",
      "*\n",
      "**\n",
      "***\n",
      "****\n",
      "*****\n"
     ]
    }
   ],
   "source": [
    "n=int(input())\n",
    "for i in range(n):\n",
    "    print(\"*\"*i)"
   ]
  },
  {
   "cell_type": "code",
   "execution_count": 1,
   "id": "478818ec-74f7-426d-ab38-487063f0c013",
   "metadata": {},
   "outputs": [
    {
     "name": "stdin",
     "output_type": "stream",
     "text": [
      "Enter the number:- 6\n"
     ]
    },
    {
     "name": "stdout",
     "output_type": "stream",
     "text": [
      "******\n",
      "*****\n",
      "****\n",
      "***\n",
      "**\n",
      "*\n"
     ]
    }
   ],
   "source": [
    "n=int(input('Enter the number:-'))\n",
    "for i in range (n, 0, -1):\n",
    "    for j in range(i):\n",
    "        print(\"*\",end=\"\")\n",
    "    print()"
   ]
  },
  {
   "cell_type": "code",
   "execution_count": 4,
   "id": "76af2e0c-5c1f-4df1-99d1-38542a43c907",
   "metadata": {},
   "outputs": [
    {
     "data": {
      "text/plain": [
       "[5, 6, 7, 8, 9, 10]"
      ]
     },
     "execution_count": 4,
     "metadata": {},
     "output_type": "execute_result"
    }
   ],
   "source": [
    "a=5\n",
    "b=10\n",
    "list(range(a,b+1))"
   ]
  },
  {
   "cell_type": "code",
   "execution_count": 20,
   "id": "ee4b3c35-c146-4ec6-bba1-6fc28dbbc7f0",
   "metadata": {},
   "outputs": [
    {
     "name": "stdin",
     "output_type": "stream",
     "text": [
      "Enter first number: 10\n",
      "Enter second number: 30\n"
     ]
    },
    {
     "name": "stdout",
     "output_type": "stream",
     "text": [
      "10,12,14,16,18,20,22,24,26,28,30,"
     ]
    }
   ],
   "source": [
    "n1=int(input(\"Enter first number:\"))\n",
    "n2=int(input(\"Enter second number:\"))\n",
    "for i in range(n1,n2+1):\n",
    "    if i%2==0:\n",
    "        print(i,end=',')\n",
    "#  else :\n",
    "      #  print(i,end=',')"
   ]
  },
  {
   "cell_type": "code",
   "execution_count": 8,
   "id": "2a4bdea8-9ea2-45a4-b1dc-81e47ad52a5f",
   "metadata": {},
   "outputs": [
    {
     "name": "stdin",
     "output_type": "stream",
     "text": [
      "Enter first number: 4\n"
     ]
    },
    {
     "name": "stdout",
     "output_type": "stream",
     "text": [
      "$ ,$ ,$ ,$ ,$ ,$ ,$ ,$ ,$ ,$ ,$ ,$ ,$ ,$ ,$ ,$ ,$ ,$ ,$ ,$ ,"
     ]
    }
   ],
   "source": [
    "n1=int(input(\"Enter first number:\"))\n",
    "for i in range(n1):# if user put the num 4 then range in 0 to 3\n",
    "    for j in range(n1+1,):#3+1\n",
    "        print(\"$\",end=\" ,\")\n",
    "        "
   ]
  },
  {
   "cell_type": "markdown",
   "id": "4fe7ccfc-7c56-403d-b140-37f5717a3fce",
   "metadata": {},
   "source": [
    "# List Comprehension\n"
   ]
  },
  {
   "cell_type": "code",
   "execution_count": 11,
   "id": "ba909ddc-b51f-4a42-89af-0ff58d81f883",
   "metadata": {},
   "outputs": [
    {
     "name": "stdout",
     "output_type": "stream",
     "text": [
      "[0, 1, 4, 9, 16, 25, 36, 49, 64, 81]\n"
     ]
    }
   ],
   "source": [
    "# does not use list comphresion \n",
    "squ=[]\n",
    "for i in range(10):\n",
    "    squ.append(i**2)\n",
    "print(squ)"
   ]
  },
  {
   "cell_type": "code",
   "execution_count": 13,
   "id": "2935550c-96ec-4b1e-86fe-b1cadc3e5dd8",
   "metadata": {},
   "outputs": [
    {
     "name": "stdout",
     "output_type": "stream",
     "text": [
      "[0, 1, 4, 9, 16, 25, 36, 49, 64, 81]\n"
     ]
    }
   ],
   "source": [
    "#using  list comphresion \n",
    "squr=[i**2 for i in range(10)]\n",
    "print(squr)"
   ]
  },
  {
   "cell_type": "code",
   "execution_count": 28,
   "id": "31278436-ba9c-4e5d-bb8e-fcddb7ec98eb",
   "metadata": {},
   "outputs": [
    {
     "data": {
      "text/plain": [
       "[7, 5, 8]"
      ]
     },
     "execution_count": 28,
     "metadata": {},
     "output_type": "execute_result"
    }
   ],
   "source": [
    "movies=['hhojooj','nismd','kokokokk']\n",
    "[len(i) for i in movies]"
   ]
  },
  {
   "cell_type": "code",
   "execution_count": 15,
   "id": "7409995e-6e9e-46ff-a0e6-d479ba92dbbe",
   "metadata": {},
   "outputs": [
    {
     "data": {
      "text/plain": [
       "[2, 3, 4, 7, 4, 8, 9]"
      ]
     },
     "execution_count": 15,
     "metadata": {},
     "output_type": "execute_result"
    }
   ],
   "source": [
    "list3 =[-2,-3,-4,-7,4,8,9]\n",
    "abn=[abs(x) for x in list3]\n",
    "abn"
   ]
  },
  {
   "cell_type": "code",
   "execution_count": 18,
   "id": "9ebd572e-7721-41e4-a465-3b069198704e",
   "metadata": {},
   "outputs": [
    {
     "data": {
      "text/plain": [
       "[1, 4, 9, 16, 25, 36]"
      ]
     },
     "execution_count": 18,
     "metadata": {},
     "output_type": "execute_result"
    }
   ],
   "source": [
    "lis=[-1,2,3,4,5,6]\n",
    "both =[]\n",
    "for x in lis:\n",
    "    if x<2:\n",
    "        both.append(abs(x))\n",
    "    else:\n",
    "        both.append(x**2)\n",
    "both"
   ]
  },
  {
   "cell_type": "code",
   "execution_count": 19,
   "id": "f02ac359-19be-404e-b66b-2ea5b9870b64",
   "metadata": {},
   "outputs": [
    {
     "data": {
      "text/plain": [
       "[1, 8, 27, 64, 125, 216]"
      ]
     },
     "execution_count": 19,
     "metadata": {},
     "output_type": "execute_result"
    }
   ],
   "source": [
    "[abs(x) if x<0 else x**3 for x in lis]"
   ]
  },
  {
   "cell_type": "markdown",
   "id": "3a3f65c1-2496-4a9a-a3a1-35066477b514",
   "metadata": {},
   "source": [
    "# Set Comprehension"
   ]
  },
  {
   "cell_type": "code",
   "execution_count": 26,
   "id": "d5c25bb1-c474-4287-a0d2-24cd29e15ad9",
   "metadata": {},
   "outputs": [
    {
     "data": {
      "text/plain": [
       "{2, 4, 5, 6}"
      ]
     },
     "execution_count": 26,
     "metadata": {},
     "output_type": "execute_result"
    }
   ],
   "source": [
    "#without\n",
    "movies=['swapna','12','2018','kalu','maya','atama','2016']\n",
    "a =set()\n",
    "for i in movies:\n",
    "    a.add(len(i))\n",
    "a"
   ]
  },
  {
   "cell_type": "code",
   "execution_count": 27,
   "id": "d7905913-9f39-4a2c-a322-170355fb2ca8",
   "metadata": {},
   "outputs": [
    {
     "data": {
      "text/plain": [
       "{2, 4, 5, 6}"
      ]
     },
     "execution_count": 27,
     "metadata": {},
     "output_type": "execute_result"
    }
   ],
   "source": [
    "#with in \n",
    "movies=['swapna','12','2018','kalu','maya','atama','2016']\n",
    "{len(i) for i in movies}"
   ]
  },
  {
   "cell_type": "markdown",
   "id": "fb44c6ac-e2f2-4d9e-af69-9aece89167da",
   "metadata": {},
   "source": [
    "# Enumerate\n"
   ]
  },
  {
   "cell_type": "code",
   "execution_count": 28,
   "id": "12a3799f-7dc1-4be2-a4c4-f6ac7f24cfef",
   "metadata": {},
   "outputs": [],
   "source": [
    "#Enumurate is as well as dictionary and it contain in keys and key values"
   ]
  },
  {
   "cell_type": "code",
   "execution_count": 33,
   "id": "804b0443-0d04-45be-8e87-5548dd737522",
   "metadata": {},
   "outputs": [
    {
     "data": {
      "text/plain": [
       "{0: 'swapna', 1: 'kalu', 2: 'maya', 3: 'atama'}"
      ]
     },
     "execution_count": 33,
     "metadata": {},
     "output_type": "execute_result"
    }
   ],
   "source": [
    "movies={'swapna':10,'kalu':5,'maya':7,'atama':4}# to use this function in index number of ductionary  and\n",
    "{movie:rating for movie,rating in enumerate(movies)}"
   ]
  },
  {
   "cell_type": "markdown",
   "id": "f05257f7-f14d-4933-9a1e-88f3b0382290",
   "metadata": {},
   "source": [
    "# Break Statement in Python"
   ]
  },
  {
   "cell_type": "code",
   "execution_count": 44,
   "id": "048554c4-7c02-4b4c-94b9-4b9857a53ec7",
   "metadata": {},
   "outputs": [
    {
     "name": "stdout",
     "output_type": "stream",
     "text": [
      "1\n",
      "2\n",
      "3\n"
     ]
    }
   ],
   "source": [
    "numbers=[1,2,3,4]\n",
    "for num in numbers:\n",
    "    if num == 4:\n",
    "     # print(num)\n",
    "      break\n",
    "    print(num)"
   ]
  },
  {
   "cell_type": "markdown",
   "id": "585b2639-e1d1-4ba1-a50d-051e3fe21b81",
   "metadata": {},
   "source": [
    "## Continue Statement In Python"
   ]
  },
  {
   "cell_type": "code",
   "execution_count": 34,
   "id": "45e58887-f88c-4ded-8560-c9191b3ba913",
   "metadata": {},
   "outputs": [
    {
     "name": "stdout",
     "output_type": "stream",
     "text": [
      "1\n",
      "2\n",
      "3\n",
      "5\n",
      "6\n",
      "7\n"
     ]
    }
   ],
   "source": [
    "numbers=[1,2,3,4,5,6,7]\n",
    "for num in numbers:\n",
    "    if num == 4:\n",
    "     continue\n",
    "    print(num)   "
   ]
  },
  {
   "cell_type": "code",
   "execution_count": 46,
   "id": "ce0821f2-40d0-4c44-a403-0c1dfc46127b",
   "metadata": {},
   "outputs": [
    {
     "name": "stdout",
     "output_type": "stream",
     "text": [
      "1\n",
      "2\n",
      "3\n",
      "5\n"
     ]
    }
   ],
   "source": [
    "numbers=[1,2,3,4,5,]\n",
    "for num in numbers:\n",
    "    if num == 4:\n",
    "        continue#break\n",
    "    print(num)"
   ]
  },
  {
   "cell_type": "code",
   "execution_count": 89,
   "id": "7e020358-cbb7-45a2-bbc5-08b95606297f",
   "metadata": {},
   "outputs": [],
   "source": [
    "for num in numbers:\n",
    "    if num == 4:\n",
    "     continue#break\n",
    "     print(num)"
   ]
  },
  {
   "cell_type": "code",
   "execution_count": 94,
   "id": "84af733d-b77b-47d6-a833-b42f0af16a0a",
   "metadata": {},
   "outputs": [
    {
     "name": "stdout",
     "output_type": "stream",
     "text": [
      "6\n"
     ]
    }
   ],
   "source": [
    "for num in numbers:\n",
    "    if num == 4:\n",
    "     #break \n",
    "     continue\n",
    "print(num) "
   ]
  },
  {
   "cell_type": "code",
   "execution_count": 3,
   "id": "18e602bb-68a7-4a96-9414-34fc03df1376",
   "metadata": {},
   "outputs": [
    {
     "name": "stdout",
     "output_type": "stream",
     "text": [
      "5 10 15 20 25 30 40 45 50 55 60 65 75 80 85 90 95 100 "
     ]
    }
   ],
   "source": [
    "for num in range (1,101):\n",
    "    if num %5==0 and num%7!=0:\n",
    "        print(num,end=\" \")"
   ]
  },
  {
   "cell_type": "code",
   "execution_count": 5,
   "id": "4df88258-cf93-437a-8e01-6ea7a6b46ba3",
   "metadata": {},
   "outputs": [
    {
     "name": "stdin",
     "output_type": "stream",
     "text": [
      "Enter the number: 4\n"
     ]
    },
    {
     "name": "stdout",
     "output_type": "stream",
     "text": [
      "4 * 1 = 4\n",
      "4 * 2 = 8\n",
      "4 * 3 = 12\n",
      "4 * 4 = 16\n",
      "4 * 5 = 20\n",
      "4 * 6 = 24\n",
      "4 * 7 = 28\n",
      "4 * 8 = 32\n",
      "4 * 9 = 36\n",
      "4 * 10 = 40\n"
     ]
    }
   ],
   "source": [
    "# Mathematical Tables \n",
    "a=int (input(\"Enter the number:\"))\n",
    "for i in range(1,11):\n",
    "    print(a,\"*\",i,'=',a*i)"
   ]
  },
  {
   "cell_type": "markdown",
   "id": "0c889693-4895-4157-9ea2-406762b2789c",
   "metadata": {},
   "source": [
    "# For loop with else\n"
   ]
  },
  {
   "cell_type": "code",
   "execution_count": 48,
   "id": "cff75516-91bf-4ad5-b20a-919cced39d0a",
   "metadata": {},
   "outputs": [
    {
     "name": "stdout",
     "output_type": "stream",
     "text": [
      "1\n",
      "2\n",
      "3\n",
      "7\n",
      "5\n",
      "9\n",
      "No item in the list\n"
     ]
    }
   ],
   "source": [
    "num =[1,2,3,7,5,9]\n",
    "for i in num:\n",
    "    print(i)\n",
    "else:\n",
    "    print(\"No item in the list\")"
   ]
  },
  {
   "cell_type": "code",
   "execution_count": 49,
   "id": "f030ed4a-432a-4be9-b369-243c65970091",
   "metadata": {},
   "outputs": [
    {
     "name": "stdout",
     "output_type": "stream",
     "text": [
      "2\n",
      "4\n",
      "6\n"
     ]
    }
   ],
   "source": [
    "numb=[1,2,3,4,5,6]\n",
    "for i in numb:\n",
    "    if i % 2==0:\n",
    "        print(i)"
   ]
  },
  {
   "cell_type": "code",
   "execution_count": 50,
   "id": "31139f67-2160-46eb-a0b6-681a8c882152",
   "metadata": {},
   "outputs": [
    {
     "name": "stdout",
     "output_type": "stream",
     "text": [
      "2\n"
     ]
    }
   ],
   "source": [
    "numb=[1,2,3,4,5,6]\n",
    "for i in numb:\n",
    "    if i % 2==0:\n",
    "        print(i)\n",
    "        break"
   ]
  },
  {
   "cell_type": "markdown",
   "id": "9acefb13-4dde-4741-844d-72439a5c7eab",
   "metadata": {},
   "source": [
    "# While Loop"
   ]
  },
  {
   "cell_type": "markdown",
   "id": "31add8bd-dd14-4f42-915a-f5b5f923e73a",
   "metadata": {},
   "source": [
    "Syntax in while loop \n"
   ]
  },
  {
   "cell_type": "code",
   "execution_count": 52,
   "id": "35fe4d7b-2c7f-4e7e-85dd-15d3d6f79944",
   "metadata": {},
   "outputs": [],
   "source": [
    "#while test_expression:\n",
    "   # Body of while \n"
   ]
  },
  {
   "cell_type": "code",
   "execution_count": 53,
   "id": "773de939-5fc9-4d3c-85d7-77f14091b14c",
   "metadata": {},
   "outputs": [
    {
     "name": "stdout",
     "output_type": "stream",
     "text": [
      "1\n",
      "2\n",
      "3\n",
      "4\n",
      "5\n",
      "6\n"
     ]
    }
   ],
   "source": [
    "x =0\n",
    "while x<6:\n",
    "    x=x+1\n",
    "    print(x)"
   ]
  },
  {
   "cell_type": "code",
   "execution_count": 54,
   "id": "8325ec1c-0eab-49f7-b00f-45f9f197fc61",
   "metadata": {},
   "outputs": [
    {
     "name": "stdout",
     "output_type": "stream",
     "text": [
      "x is 0\n",
      "x is 1\n",
      "x is 2\n",
      "x is 3\n",
      "x is 4\n",
      "x is 5\n"
     ]
    }
   ],
   "source": [
    "x =0\n",
    "while x<6:\n",
    "    print(\"x is\",x)\n",
    "    x=x+1"
   ]
  },
  {
   "cell_type": "code",
   "execution_count": 1,
   "id": "c59dd06a-22d3-4d2b-b4ba-d3ab8c9198da",
   "metadata": {},
   "outputs": [
    {
     "name": "stdout",
     "output_type": "stream",
     "text": [
      "x is 8\n",
      "x is 7\n",
      "x is 6\n",
      "x is 5\n",
      "x is 4\n",
      "x is 3\n",
      "x is 2\n"
     ]
    }
   ],
   "source": [
    "x=8\n",
    "while x>1:\n",
    "    print(\"x is {}\".format(x))\n",
    "    x-=1"
   ]
  },
  {
   "cell_type": "code",
   "execution_count": 5,
   "id": "9cbf19cc-7d6d-4cd0-9070-7d1295ae2b0f",
   "metadata": {},
   "outputs": [
    {
     "name": "stdout",
     "output_type": "stream",
     "text": [
      "1020\n"
     ]
    }
   ],
   "source": [
    "i =100\n",
    "s=20\n",
    "while i<=400:\n",
    "    s=s+i\n",
    "    i+=100\n",
    "print(s)"
   ]
  },
  {
   "cell_type": "code",
   "execution_count": 8,
   "id": "49ff6105-72ee-4762-aa71-5a91f77742bd",
   "metadata": {},
   "outputs": [
    {
     "name": "stdout",
     "output_type": "stream",
     "text": [
      "0\n",
      "8\n"
     ]
    }
   ],
   "source": [
    "x =0\n",
    "print(x)\n",
    "while x<8:\n",
    "    x=x+1\n",
    "print(x)"
   ]
  },
  {
   "cell_type": "code",
   "execution_count": 10,
   "id": "94a5ac6e-7178-4db4-8200-3a9a9f728f62",
   "metadata": {},
   "outputs": [
    {
     "name": "stdout",
     "output_type": "stream",
     "text": [
      "0 1 2 3 4 5 6 7 8 9 10 11 12 13 14 15 16 17 18 19 20 21 22 23 24 25 26 27 28 29 30 31 32 33 34 35 36 37 38 39 40 41 42 43 44 45 46 47 48 49 50 51 52 53 54 55 56 57 58 59 60 61 62 63 64 65 66 67 68 69 70 71 72 73 74 75 76 77 78 79 80 81 82 83 84 85 86 87 88 89 90 91 92 93 94 95 96 97 98 99 100 "
     ]
    }
   ],
   "source": [
    "#program to print 0 to 100 (inclusive) while numbers\n",
    "i=0\n",
    "while (i<=100):\n",
    "    print(i,end=' ')\n",
    "    i+=1"
   ]
  },
  {
   "cell_type": "code",
   "execution_count": 11,
   "id": "f73f00e3-239a-461b-9048-7f0785ea9f19",
   "metadata": {},
   "outputs": [
    {
     "name": "stdin",
     "output_type": "stream",
     "text": [
      "Enter n: 5\n"
     ]
    },
    {
     "name": "stdout",
     "output_type": "stream",
     "text": [
      "The sum is  15\n"
     ]
    }
   ],
   "source": [
    "# PROGRAM to 'n' add natural number --> sum =1+2+3+...+n\n",
    "n=int(input(\"Enter n:\"))\n",
    "sum=0\n",
    "i=1\n",
    "while i<=n:\n",
    "    sum=sum+i\n",
    "    i=i+1\n",
    "print(\"The sum is \",sum)"
   ]
  },
  {
   "cell_type": "markdown",
   "id": "9dfe5409-4ca2-4686-a988-5db3d38b6140",
   "metadata": {},
   "source": [
    "## While Loop with else "
   ]
  },
  {
   "cell_type": "code",
   "execution_count": 5,
   "id": "998b8527-cc86-4bae-aded-a3cc69308d2e",
   "metadata": {},
   "outputs": [
    {
     "name": "stdout",
     "output_type": "stream",
     "text": [
      "x is 8 \n",
      "x is 7 \n",
      "x is 6 \n",
      "x is 5 \n",
      "x is 4 \n",
      "x is 3 \n",
      "x is 2 \n",
      "x is no longer greater than 1\n"
     ]
    }
   ],
   "source": [
    "x=8\n",
    "while x>1:\n",
    "    print (\"x is {} \".format(x))\n",
    "    x-=1\n",
    "    if x == 9:\n",
    "        break\n",
    "else:\n",
    "    print('x is no longer greater than 1')"
   ]
  },
  {
   "cell_type": "code",
   "execution_count": 7,
   "id": "8382459d-688f-4d50-a8e8-8d2055a576ae",
   "metadata": {},
   "outputs": [
    {
     "name": "stdout",
     "output_type": "stream",
     "text": [
      "1\n",
      "2\n",
      "3\n",
      "4\n",
      "5\n",
      "no item left in the list\n"
     ]
    }
   ],
   "source": [
    "num = [1,2,3,4,5]\n",
    "index =0\n",
    "while index < len (num):\n",
    "    print(num[index])\n",
    "    index +=1\n",
    "else:\n",
    "    print(\"no item left in the list\")"
   ]
  },
  {
   "cell_type": "markdown",
   "id": "cb3ee73d-2133-42da-9bdd-e54e42aeade4",
   "metadata": {},
   "source": [
    "## Factorial"
   ]
  },
  {
   "cell_type": "code",
   "execution_count": 13,
   "id": "e54898eb-9fe4-43c1-bfb5-628f1852d7dc",
   "metadata": {},
   "outputs": [
    {
     "name": "stdin",
     "output_type": "stream",
     "text": [
      "Enter the number 5\n"
     ]
    },
    {
     "name": "stdout",
     "output_type": "stream",
     "text": [
      "The factorial of 5 is 120\n"
     ]
    }
   ],
   "source": [
    "number = int(input(\"Enter the number\"))\n",
    "result = 1\n",
    "\n",
    "for i in range( 1,number + 1):\n",
    "    result *= i\n",
    "print(\"The factorial of {} is {}\".format(number,result))"
   ]
  },
  {
   "cell_type": "code",
   "execution_count": 15,
   "id": "cace0968-e9ac-44e1-8104-08ec23d29c5b",
   "metadata": {},
   "outputs": [
    {
     "name": "stdin",
     "output_type": "stream",
     "text": [
      " 5\n"
     ]
    },
    {
     "name": "stdout",
     "output_type": "stream",
     "text": [
      "after 1 iteratiom the factorial value is : 1\n",
      "after 2 iteratiom the factorial value is : 2\n",
      "after 3 iteratiom the factorial value is : 6\n",
      "after 4 iteratiom the factorial value is : 24\n",
      "after 5 iteratiom the factorial value is : 120\n"
     ]
    }
   ],
   "source": [
    "# Wtrite a program which can compute the function of the given number.\n",
    "a = int(input())\n",
    "fact = 1\n",
    "for i in range (1,a+1):\n",
    "    fact = fact*i\n",
    "    print('after',i,'iteratiom the factorial value is :',fact)"
   ]
  },
  {
   "cell_type": "code",
   "execution_count": null,
   "id": "e16a779a-6a2c-4e7c-ad69-f599e27ac1cb",
   "metadata": {},
   "outputs": [],
   "source": []
  }
 ],
 "metadata": {
  "kernelspec": {
   "display_name": "Python 3 (ipykernel)",
   "language": "python",
   "name": "python3"
  },
  "language_info": {
   "codemirror_mode": {
    "name": "ipython",
    "version": 3
   },
   "file_extension": ".py",
   "mimetype": "text/x-python",
   "name": "python",
   "nbconvert_exporter": "python",
   "pygments_lexer": "ipython3",
   "version": "3.11.7"
  }
 },
 "nbformat": 4,
 "nbformat_minor": 5
}
