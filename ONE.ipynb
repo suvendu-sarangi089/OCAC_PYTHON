{
 "cells": [
  {
   "cell_type": "code",
   "execution_count": 1,
   "id": "ba93b770-bb06-45f0-9ecd-1a849c7c0aae",
   "metadata": {},
   "outputs": [
    {
     "name": "stdout",
     "output_type": "stream",
     "text": [
      "Hello World\n"
     ]
    }
   ],
   "source": [
    "print(\"Hello World\")"
   ]
  },
  {
   "cell_type": "code",
   "execution_count": 4,
   "id": "0c9c3719-4f66-42fc-9264-dbe7a2fa2246",
   "metadata": {},
   "outputs": [
    {
     "data": {
      "text/plain": [
       "'C:\\\\Users\\\\suven\\\\PYTHON 1'"
      ]
     },
     "execution_count": 4,
     "metadata": {},
     "output_type": "execute_result"
    }
   ],
   "source": [
    "pwd #PRESENT WORKING DIRECTORY"
   ]
  },
  {
   "cell_type": "code",
   "execution_count": null,
   "id": "a23bee2f-f646-4602-a4cb-dfa37ac63b6c",
   "metadata": {},
   "outputs": [],
   "source": []
  },
  {
   "cell_type": "markdown",
   "id": "d1f27ae6-3d34-4926-a264-8747c12bd67e",
   "metadata": {},
   "source": [
    "print(\"Hiii Mama\")"
   ]
  },
  {
   "cell_type": "code",
   "execution_count": 3,
   "id": "f22f7ef6-5a91-4fbd-a995-4a497bc2d177",
   "metadata": {},
   "outputs": [
    {
     "data": {
      "text/plain": [
       "15"
      ]
     },
     "execution_count": 3,
     "metadata": {},
     "output_type": "execute_result"
    }
   ],
   "source": [
    "a=6\n",
    "b=9\n",
    "a+b"
   ]
  },
  {
   "cell_type": "code",
   "execution_count": 8,
   "id": "6f94d9f7-2c10-4d93-841c-b99459067f5d",
   "metadata": {},
   "outputs": [
    {
     "name": "stdout",
     "output_type": "stream",
     "text": [
      "the value is  15\n",
      "15\n"
     ]
    }
   ],
   "source": [
    "a=5\n",
    "b=10\n",
    "u=a+b\n",
    "u\n",
    "v=print(\"the value is \",a+b)\n",
    "u\n",
    "v=print(u)"
   ]
  },
  {
   "cell_type": "code",
   "execution_count": 11,
   "id": "3a22e58c-181f-4894-b2d6-f239a99de125",
   "metadata": {},
   "outputs": [],
   "source": [
    "w=type(a)\n"
   ]
  },
  {
   "cell_type": "code",
   "execution_count": 12,
   "id": "30438ef8-e2c1-46d5-b7b8-31599dd4da0b",
   "metadata": {},
   "outputs": [
    {
     "name": "stdout",
     "output_type": "stream",
     "text": [
      "<class 'int'>\n"
     ]
    }
   ],
   "source": [
    "print(w)"
   ]
  },
  {
   "cell_type": "code",
   "execution_count": 13,
   "id": "565547e9-2ee8-4c37-af6e-70097901ed0a",
   "metadata": {},
   "outputs": [
    {
     "name": "stdout",
     "output_type": "stream",
     "text": [
      "['False', 'None', 'True', 'and', 'as', 'assert', 'async', 'await', 'break', 'class', 'continue', 'def', 'del', 'elif', 'else', 'except', 'finally', 'for', 'from', 'global', 'if', 'import', 'in', 'is', 'lambda', 'nonlocal', 'not', 'or', 'pass', 'raise', 'return', 'try', 'while', 'with', 'yield']\n"
     ]
    }
   ],
   "source": [
    "import keyword\n",
    "keywords=keyword.kwlist\n",
    "print(keywords)"
   ]
  },
  {
   "cell_type": "code",
   "execution_count": 14,
   "id": "3c6212f7-1007-4fe3-9893-1860af9aaffb",
   "metadata": {},
   "outputs": [
    {
     "data": {
      "text/plain": [
       "35"
      ]
     },
     "execution_count": 14,
     "metadata": {},
     "output_type": "execute_result"
    }
   ],
   "source": [
    "len(keywords)"
   ]
  },
  {
   "cell_type": "code",
   "execution_count": 18,
   "id": "ffc92cae-9112-45d4-baf2-9b8f9477167b",
   "metadata": {},
   "outputs": [
    {
     "name": "stdin",
     "output_type": "stream",
     "text": [
      "Enter your name : Jagan \n",
      "Enter your Employee ID- 1245\n"
     ]
    },
    {
     "name": "stdout",
     "output_type": "stream",
     "text": [
      "my organisation name is  Jagan \n"
     ]
    }
   ],
   "source": [
    "b=input(\"Enter your name :\")\n",
    "c=input(\"Enter your Employee ID-\")\n",
    "print(\"my organisation name is \",b)"
   ]
  },
  {
   "cell_type": "code",
   "execution_count": 19,
   "id": "7396fb94-84df-4810-af42-eaf9b2528a41",
   "metadata": {},
   "outputs": [
    {
     "name": "stdout",
     "output_type": "stream",
     "text": [
      "Jagan  My organisation name 1245\n"
     ]
    }
   ],
   "source": [
    "print(b,\"My organisation name\",c)"
   ]
  },
  {
   "cell_type": "code",
   "execution_count": 29,
   "id": "2228b6a1-e961-46ea-b9b0-adde6425be39",
   "metadata": {},
   "outputs": [
    {
     "name": "stdout",
     "output_type": "stream",
     "text": [
      "I am from 1245 and my Employee ID Jagan \n"
     ]
    }
   ],
   "source": [
    "print(\"I am from {} and my Employee ID {}\".format(c,b))"
   ]
  },
  {
   "cell_type": "markdown",
   "id": "270bda09-eaae-48f4-bf9f-8dfb229e3c56",
   "metadata": {},
   "source": [
    "a,b,c=10,54,45\n",
    "print(a,b,c)"
   ]
  },
  {
   "cell_type": "code",
   "execution_count": 30,
   "id": "6acd0501-8701-40be-99aa-4f97901523bd",
   "metadata": {},
   "outputs": [
    {
     "name": "stdout",
     "output_type": "stream",
     "text": [
      "1 2 3\n"
     ]
    }
   ],
   "source": [
    "a=1\n",
    "b=2\n",
    "c=3\n",
    "print(a,b,c)"
   ]
  },
  {
   "cell_type": "code",
   "execution_count": 32,
   "id": "249f5260-1d54-47e6-ba99-114d3091fddf",
   "metadata": {},
   "outputs": [
    {
     "name": "stdout",
     "output_type": "stream",
     "text": [
      "Hello sankha good night sankha\n"
     ]
    }
   ],
   "source": [
    "print(\"Hello {name} {greeting} {name}\".format(name=\"sankha\",greeting=\"good night\"))"
   ]
  }
 ],
 "metadata": {
  "kernelspec": {
   "display_name": "Python 3 (ipykernel)",
   "language": "python",
   "name": "python3"
  },
  "language_info": {
   "codemirror_mode": {
    "name": "ipython",
    "version": 3
   },
   "file_extension": ".py",
   "mimetype": "text/x-python",
   "name": "python",
   "nbconvert_exporter": "python",
   "pygments_lexer": "ipython3",
   "version": "3.11.7"
  }
 },
 "nbformat": 4,
 "nbformat_minor": 5
}
