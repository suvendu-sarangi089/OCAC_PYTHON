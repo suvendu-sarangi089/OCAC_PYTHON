{
 "cells": [
  {
   "cell_type": "code",
   "execution_count": 1,
   "id": "2b290d0b-fc79-4913-bb3e-bf74c0b11924",
   "metadata": {},
   "outputs": [
    {
     "data": {
      "text/plain": [
       "'Today'"
      ]
     },
     "execution_count": 1,
     "metadata": {},
     "output_type": "execute_result"
    }
   ],
   "source": [
    "A=\"Today is tuesday\"#slice method use\n",
    "A[0:5]"
   ]
  },
  {
   "cell_type": "code",
   "execution_count": 2,
   "id": "9797f281-3299-411b-b7db-206d05e29d8f",
   "metadata": {},
   "outputs": [
    {
     "data": {
      "text/plain": [
       "'is'"
      ]
     },
     "execution_count": 2,
     "metadata": {},
     "output_type": "execute_result"
    }
   ],
   "source": [
    "A[6:8]"
   ]
  },
  {
   "cell_type": "code",
   "execution_count": 3,
   "id": "7d6e4310-d2e2-4573-8e9d-d31da3d25b60",
   "metadata": {},
   "outputs": [
    {
     "data": {
      "text/plain": [
       "''"
      ]
     },
     "execution_count": 3,
     "metadata": {},
     "output_type": "execute_result"
    }
   ],
   "source": [
    "A[-1:-8]"
   ]
  },
  {
   "cell_type": "code",
   "execution_count": 4,
   "id": "d4682dd0-f8df-496d-b5d0-35e10b3cee97",
   "metadata": {},
   "outputs": [
    {
     "data": {
      "text/plain": [
       "' tuesda'"
      ]
     },
     "execution_count": 4,
     "metadata": {},
     "output_type": "execute_result"
    }
   ],
   "source": [
    "A[-8:-1]"
   ]
  },
  {
   "cell_type": "code",
   "execution_count": 14,
   "id": "d9168686-3499-4027-9e56-a835fe62eff9",
   "metadata": {},
   "outputs": [
    {
     "data": {
      "text/plain": [
       "' tuesday'"
      ]
     },
     "execution_count": 14,
     "metadata": {},
     "output_type": "execute_result"
    }
   ],
   "source": [
    "A[-8: :1]"
   ]
  },
  {
   "cell_type": "code",
   "execution_count": 6,
   "id": "27676a80-2a81-4148-b7c9-0fb8054675b8",
   "metadata": {},
   "outputs": [
    {
     "data": {
      "text/plain": [
       "'yadseut si yadoT'"
      ]
     },
     "execution_count": 6,
     "metadata": {},
     "output_type": "execute_result"
    }
   ],
   "source": [
    "A[ : :-1]"
   ]
  },
  {
   "cell_type": "code",
   "execution_count": 8,
   "id": "af86b1b2-0294-47ec-9341-523b800a650c",
   "metadata": {},
   "outputs": [
    {
     "data": {
      "text/plain": [
       "'yadseut si yado'"
      ]
     },
     "execution_count": 8,
     "metadata": {},
     "output_type": "execute_result"
    }
   ],
   "source": [
    "A[15:0:-1]"
   ]
  },
  {
   "cell_type": "code",
   "execution_count": 9,
   "id": "a01d1e69-2268-486a-b08c-bf9395d641d9",
   "metadata": {},
   "outputs": [
    {
     "data": {
      "text/plain": [
       "'yadseut si yadoT'"
      ]
     },
     "execution_count": 9,
     "metadata": {},
     "output_type": "execute_result"
    }
   ],
   "source": [
    "A[15: :-1]"
   ]
  },
  {
   "cell_type": "code",
   "execution_count": 11,
   "id": "141fd585-8c1f-41d1-995a-7442d8fcb9f8",
   "metadata": {},
   "outputs": [
    {
     "data": {
      "text/plain": [
       "'adseut si yadoT'"
      ]
     },
     "execution_count": 11,
     "metadata": {},
     "output_type": "execute_result"
    }
   ],
   "source": [
    "A[-2: :-1]"
   ]
  },
  {
   "cell_type": "code",
   "execution_count": 7,
   "id": "345ba6ee-700d-4a03-8296-88f95a7294d6",
   "metadata": {},
   "outputs": [
    {
     "data": {
      "text/plain": [
       "'ob1010'"
      ]
     },
     "execution_count": 7,
     "metadata": {},
     "output_type": "execute_result"
    }
   ],
   "source": [
    "c='ob1010'\n",
    "c\n"
   ]
  },
  {
   "cell_type": "code",
   "execution_count": 8,
   "id": "7b6e0c76-30bd-42d8-a063-ad374ea24dd8",
   "metadata": {},
   "outputs": [
    {
     "data": {
      "text/plain": [
       "True"
      ]
     },
     "execution_count": 8,
     "metadata": {},
     "output_type": "execute_result"
    }
   ],
   "source": [
    "bool(2)"
   ]
  },
  {
   "cell_type": "code",
   "execution_count": 9,
   "id": "f9ed9108-d04e-4f80-986e-91a3058e56e8",
   "metadata": {},
   "outputs": [
    {
     "data": {
      "text/plain": [
       "False"
      ]
     },
     "execution_count": 9,
     "metadata": {},
     "output_type": "execute_result"
    }
   ],
   "source": [
    "bool(0)"
   ]
  },
  {
   "cell_type": "code",
   "execution_count": 10,
   "id": "b57df529-4a6f-486d-a3d6-e267e8cfa1ef",
   "metadata": {},
   "outputs": [
    {
     "data": {
      "text/plain": [
       "True"
      ]
     },
     "execution_count": 10,
     "metadata": {},
     "output_type": "execute_result"
    }
   ],
   "source": [
    "bool(-1)"
   ]
  },
  {
   "cell_type": "code",
   "execution_count": 11,
   "id": "b8fea4a6-0f10-4bd7-9b18-b6ef7e911c8d",
   "metadata": {},
   "outputs": [
    {
     "data": {
      "text/plain": [
       "'0b1010'"
      ]
     },
     "execution_count": 11,
     "metadata": {},
     "output_type": "execute_result"
    }
   ],
   "source": [
    "bin(10)"
   ]
  },
  {
   "cell_type": "code",
   "execution_count": 16,
   "id": "09b80b3d-2d72-4927-aaa5-e273ea3c56d1",
   "metadata": {},
   "outputs": [
    {
     "data": {
      "text/plain": [
       "'0b1111110010'"
      ]
     },
     "execution_count": 16,
     "metadata": {},
     "output_type": "execute_result"
    }
   ],
   "source": [
    "bin(1010)"
   ]
  },
  {
   "cell_type": "code",
   "execution_count": null,
   "id": "9a679747-bee0-44c4-9b83-70979dad5bfd",
   "metadata": {},
   "outputs": [],
   "source": []
  },
  {
   "cell_type": "code",
   "execution_count": null,
   "id": "c1a1d1b2-af3d-4b5b-bba5-2ea8d5b18a99",
   "metadata": {},
   "outputs": [],
   "source": []
  }
 ],
 "metadata": {
  "kernelspec": {
   "display_name": "Python 3 (ipykernel)",
   "language": "python",
   "name": "python3"
  },
  "language_info": {
   "codemirror_mode": {
    "name": "ipython",
    "version": 3
   },
   "file_extension": ".py",
   "mimetype": "text/x-python",
   "name": "python",
   "nbconvert_exporter": "python",
   "pygments_lexer": "ipython3",
   "version": "3.11.7"
  }
 },
 "nbformat": 4,
 "nbformat_minor": 5
}
