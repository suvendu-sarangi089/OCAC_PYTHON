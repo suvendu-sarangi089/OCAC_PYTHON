{
  "nbformat": 4,
  "nbformat_minor": 0,
  "metadata": {
    "colab": {
      "provenance": [],
      "include_colab_link": true
    },
    "kernelspec": {
      "name": "python3",
      "display_name": "Python 3"
    },
    "language_info": {
      "name": "python"
    }
  },
  "cells": [
    {
      "cell_type": "markdown",
      "metadata": {
        "id": "view-in-github",
        "colab_type": "text"
      },
      "source": [
        "<a href=\"https://colab.research.google.com/github/suvendu-sarangi089/OCAC_PYTHON/blob/main/Assignment_3_.ipynb\" target=\"_parent\"><img src=\"https://colab.research.google.com/assets/colab-badge.svg\" alt=\"Open In Colab\"/></a>"
      ]
    },
    {
      "cell_type": "code",
      "execution_count": null,
      "metadata": {
        "id": "NbOPGQwRP_5g"
      },
      "outputs": [],
      "source": [
        "1. check Maximum number of a list of numbers in Python\n",
        "2. Python Program for factorial of a number\n",
        "3. Python Program for simple interest\n",
        "4. Python Program for compound interest\n",
        "5. Python Program to check Armstrong Number\n",
        "6. Python Program for Program to find area of a circle\n",
        "7. Python program to print all Prime numbers in an Interval\n",
        "8. Python program to check whether a number is Prime or not\n",
        "9. Python Program for n-th Fibonacci number\n",
        "10. Python Program for How to check if a given number is Fibonacci number?\n",
        "11. Python Program for n\\’th multiple of a number in Fibonacci Series\n",
        "12. Python Program for Sum of squares of first n natural numbers\n",
        "13. Python Program for cube sum of first n natural numbers"
      ]
    },
    {
      "cell_type": "code",
      "source": [
        "#1. check Maximum number of a list of numbers in Python\n",
        "numbers = [36, 55, 87, 75, 28, -10,-20, 42, 10, 12]\n",
        "max_number = max(numbers)\n",
        "print(\"The maximum number is:\", max_number)"
      ],
      "metadata": {
        "colab": {
          "base_uri": "https://localhost:8080/"
        },
        "id": "m_X2rCCdBOzo",
        "outputId": "7bbe9667-99c6-4845-ca5e-8f88c099bcbd"
      },
      "execution_count": null,
      "outputs": [
        {
          "output_type": "stream",
          "name": "stdout",
          "text": [
            "The maximum number is: 87\n"
          ]
        }
      ]
    },
    {
      "cell_type": "code",
      "source": [
        "#2. Python Program for factorial of a number\n",
        "number = int(input(\"Enter a number:\"))\n",
        "result = 1\n",
        "\n",
        "for i in range( 1,number + 1):\n",
        "    result *= i\n",
        "print(\"The factorial of {} is {}\".format(number,result))"
      ],
      "metadata": {
        "colab": {
          "base_uri": "https://localhost:8080/"
        },
        "id": "GxAZ9he6DBUk",
        "outputId": "dc8dae8b-2cf1-4173-b415-3950edb727f9"
      },
      "execution_count": null,
      "outputs": [
        {
          "output_type": "stream",
          "name": "stdout",
          "text": [
            "Enter a number:5\n",
            "The factorial of 5 is 120\n"
          ]
        }
      ]
    },
    {
      "cell_type": "code",
      "source": [
        "#3. Python Program for simple interest\n",
        "p=float(input(\"Enter your Principle of amount:\"))\n",
        "r=float(input(\"Enter your rate of interest:\"))\n",
        "t=float(input(\"Time duration of compund interest:\"))\n",
        "def compound():\n",
        "    amount=(p * t * r)/100\n",
        "    return amount\n",
        "print(\"principle={},rate={},time={},the compound amount is={}\".format(p,r,t,compound()))"
      ],
      "metadata": {
        "id": "warsjZrcK8Ju",
        "colab": {
          "base_uri": "https://localhost:8080/"
        },
        "outputId": "90d54b15-fe29-4840-d8c0-46856b834166"
      },
      "execution_count": null,
      "outputs": [
        {
          "output_type": "stream",
          "name": "stdout",
          "text": [
            "Enter your Principle of amount:10000\n",
            "Enter your rate of interest:5\n",
            "Time duration of compund interest:5\n",
            "principle=10000.0,rate=5.0,time=5.0,the compound amount is=2500.0\n"
          ]
        }
      ]
    },
    {
      "cell_type": "code",
      "source": [
        "#4. Python Program for compound interest\n",
        "p=float(input(\"Enter your Principle of amount:\"))\n",
        "r=float(input(\"Enter your rate of interest:\"))\n",
        "t=float(input(\"Time duration of compund interest:\"))\n",
        "\n",
        "def compound_interest():\n",
        "  Amount =p * (pow((1 + r / 100), t))\n",
        "  CI = Amount - p\n",
        "  #print(\"Compound interest is\", CI)\n",
        "#compound_interest()\n",
        "  return CI\n",
        "print(\"principle={},rate={},time={},the compound amount is={}\".format(p,r,t,compound_interest()))"
      ],
      "metadata": {
        "id": "okJeazKaKlKP",
        "colab": {
          "base_uri": "https://localhost:8080/"
        },
        "outputId": "5efc0c12-6f19-496d-a867-2f99b905e1ae"
      },
      "execution_count": null,
      "outputs": [
        {
          "output_type": "stream",
          "name": "stdout",
          "text": [
            "Enter your Principle of amount:10000\n",
            "Enter your rate of interest:10.25\n",
            "Time duration of compund interest:5\n",
            "principle=10000.0,rate=10.25,time=5.0,the compound amount is=6288.946267774416\n"
          ]
        }
      ]
    },
    {
      "cell_type": "code",
      "source": [
        "#5. Python Program to check Armstrong Number\n",
        "def is_armstrong_number(n):\n",
        "    sum = 0\n",
        "    temp = n\n",
        "    while n > 0:\n",
        "        r = n % 10\n",
        "        sum += r ** 3\n",
        "        n //= 10\n",
        "    return temp == sum\n",
        "def main():\n",
        "    n = int(input(\"Enter the n: \"))\n",
        "    if is_armstrong_number(n):\n",
        "        print(\"It is an Armstrong Number.\")\n",
        "    else:\n",
        "        print(\"It is not an Armstrong Number.\")\n",
        "if __name__ == \"__main__\":\n",
        "    main()\n"
      ],
      "metadata": {
        "id": "woB687EfOQQo",
        "colab": {
          "base_uri": "https://localhost:8080/"
        },
        "outputId": "fb3e26cf-d79d-4a22-ef4a-6f818ec88ff9"
      },
      "execution_count": null,
      "outputs": [
        {
          "output_type": "stream",
          "name": "stdout",
          "text": [
            "Enter the n: 407\n",
            "It is an Armstrong Number.\n"
          ]
        }
      ]
    },
    {
      "cell_type": "code",
      "source": [
        "#6.Python Program for Program to find area of a circle\n",
        "import math\n",
        "radius = float(input(\"Enter the radius of the circle: \"))\n",
        "area =0\n",
        "def area_of_circle():\n",
        "    area = math.pi * radius ** 2\n",
        "    return area\n",
        "\n",
        "print(\"The area of the circle with radius {} is{}\".format(radius,area_of_circle()))"
      ],
      "metadata": {
        "id": "JDgZo0bLTkcs",
        "colab": {
          "base_uri": "https://localhost:8080/"
        },
        "outputId": "c0caaf69-a10e-42a5-fb23-84f919f777d5"
      },
      "execution_count": null,
      "outputs": [
        {
          "output_type": "stream",
          "name": "stdout",
          "text": [
            "Enter the radius of the circle: 10\n",
            "The area of the circle with radius 10.0 is314.1592653589793\n"
          ]
        }
      ]
    },
    {
      "cell_type": "code",
      "source": [
        "# 7. Python program to print all Prime numbers in an Interval\n",
        "lower = int(input(\"Enter lower range: \"))\n",
        "upper = int(input(\"Enter upper range: \"))\n",
        "\n",
        "print(\"Prime numbers between\", lower, \"and\", upper, \"are:\")\n",
        "\n",
        "for num in range(lower, upper + 1):\n",
        "    if num > 1:\n",
        "        for i in range(2, num):\n",
        "            if (num % i) == 0:\n",
        "                break\n",
        "        else:\n",
        "            print(num)\n"
      ],
      "metadata": {
        "colab": {
          "base_uri": "https://localhost:8080/"
        },
        "id": "rY2sryHcq3Fy",
        "outputId": "b6863b5f-a8a2-42db-83cf-5a3ba04da7f0"
      },
      "execution_count": null,
      "outputs": [
        {
          "output_type": "stream",
          "name": "stdout",
          "text": [
            "Enter lower range: 1\n",
            "Enter upper range: 50\n",
            "Prime numbers between 1 and 50 are:\n",
            "2\n",
            "3\n",
            "5\n",
            "7\n",
            "11\n",
            "13\n",
            "17\n",
            "19\n",
            "23\n",
            "29\n",
            "31\n",
            "37\n",
            "41\n",
            "43\n",
            "47\n"
          ]
        }
      ]
    },
    {
      "cell_type": "code",
      "source": [
        "#8. Python program to check whether a number is Prime or not\n",
        "number = int(input(\"Enter a number: \"))\n",
        "if number > 1:\n",
        "    for i in range(2, number):\n",
        "        if (number % i) == 0:\n",
        "            print(number, \"is not a prime number\")\n",
        "            break\n",
        "    else:\n",
        "        print(number, \"is a prime number\")\n"
      ],
      "metadata": {
        "colab": {
          "base_uri": "https://localhost:8080/"
        },
        "id": "Yco0l7ikpdqA",
        "outputId": "a58e0ec6-e4c8-473e-b923-ac52783dc097"
      },
      "execution_count": null,
      "outputs": [
        {
          "output_type": "stream",
          "name": "stdout",
          "text": [
            "Enter a number: 5\n",
            "5 is a prime number\n"
          ]
        }
      ]
    },
    {
      "cell_type": "code",
      "source": [
        "#9. Python Program for n-th Fibonacci number\n",
        "def Fibonacci(n):\n",
        "    if n<= 0:\n",
        "        print(\"Incorrect input\")\n",
        "    elif n == 1:\n",
        "        return 0\n",
        "    elif n == 2:\n",
        "        return 1\n",
        "    else:\n",
        "        return Fibonacci(n-1)+Fibonacci(n-2)\n",
        "print(Fibonacci(21))\n"
      ],
      "metadata": {
        "colab": {
          "base_uri": "https://localhost:8080/"
        },
        "id": "YeMu7gjUpoY4",
        "outputId": "2a5da4b1-a391-4885-fdc7-bff3848e0dcf"
      },
      "execution_count": null,
      "outputs": [
        {
          "output_type": "stream",
          "name": "stdout",
          "text": [
            "6765\n"
          ]
        }
      ]
    },
    {
      "cell_type": "code",
      "source": [
        "#10. Python Program for How to check if a given number is Fibonacci number?\n",
        "import math\n",
        "\n",
        "def is_perfect_square(x):\n",
        "    s = int(math.sqrt(x))\n",
        "    return s * s == x\n",
        "\n",
        "def is_fibonacci(n):\n",
        "    if n < 0:\n",
        "        return False\n",
        "    return is_perfect_square(5 * n * n + 4) or is_perfect_square(5 * n * n - 4)\n",
        "n = int(input('Enter the number:-'))\n",
        "print(f\"{n} is a Fibonacci number: {is_fibonacci(n)}\")\n"
      ],
      "metadata": {
        "colab": {
          "base_uri": "https://localhost:8080/"
        },
        "id": "OkMfjWPhqwFn",
        "outputId": "0fb7328a-58d7-4816-c803-e9371a50ad11"
      },
      "execution_count": null,
      "outputs": [
        {
          "output_type": "stream",
          "name": "stdout",
          "text": [
            "Enter the number:-5\n",
            "5 is a Fibonacci number: True\n"
          ]
        }
      ]
    },
    {
      "cell_type": "code",
      "source": [
        "#11. Python Program for n\\’th multiple of a number in Fibonacci Series\n",
        "def find_nth_multiple_of_fibonacci(n, m):\n",
        "    if n <= 0 or m <= 0:\n",
        "        return \"Invalid input\"\n",
        "\n",
        "    count = 0\n",
        "    a, b = 0, 1\n",
        "\n",
        "    while count < n:\n",
        "        if a % m == 0:\n",
        "            count += 1\n",
        "            if count == n:\n",
        "                return a\n",
        "        a, b = b, a + b\n",
        "\n",
        "# Example usage\n",
        "n = 3  # To find the 3rd multiple\n",
        "m = 5  # In Fibonacci series that is a multiple of 5\n",
        "result = find_nth_multiple_of_fibonacci(n, m)\n",
        "print(f\"The {n}-th multiple of {m} in the Fibonacci series is {result}\")\n"
      ],
      "metadata": {
        "colab": {
          "base_uri": "https://localhost:8080/"
        },
        "id": "7lUBFfoEs8ec",
        "outputId": "2573e7a6-587d-49d4-f1a8-edd84e89bb1d"
      },
      "execution_count": null,
      "outputs": [
        {
          "output_type": "stream",
          "name": "stdout",
          "text": [
            "The 3-th multiple of 5 in the Fibonacci series is 55\n"
          ]
        }
      ]
    },
    {
      "cell_type": "code",
      "source": [
        "#12. Python Program for Sum of squares of first n natural numbers\n",
        "def sum(n):\n",
        "    total = 0\n",
        "    for i in range(1, n + 1):\n",
        "        total += i * i\n",
        "    return total\n",
        "\n",
        "# Example usage\n",
        "n = int(input(\"Enter a positive integer n: \"))\n",
        "result = sum(n)\n",
        "print(f\"The sum of the squares of the first {n} natural numbers is: {result}\")\n",
        "\n"
      ],
      "metadata": {
        "id": "fxvmMXUutSSV",
        "colab": {
          "base_uri": "https://localhost:8080/"
        },
        "outputId": "b9ab6f38-85e6-4ad8-b61d-397217260919"
      },
      "execution_count": 7,
      "outputs": [
        {
          "output_type": "stream",
          "name": "stdout",
          "text": [
            "Enter a positive integer n: 4\n",
            "The sum of the squares of the first 4 natural numbers is: 30\n"
          ]
        }
      ]
    },
    {
      "cell_type": "code",
      "source": [
        "#13. Python Program for cube sum of first n natural numbers\n",
        "def cube_sum(n):\n",
        "    total = 0\n",
        "    for i in range(1, n + 1):\n",
        "        total += i * i * i\n",
        "    return total\n",
        "\n",
        "# Example usage\n",
        "n = int(input(\"Enter a positive integer n: \"))\n",
        "result = cube_sum(n)\n",
        "print(f\"The sum of the cubes of the first {n} natural numbers is: {result}\")\n"
      ],
      "metadata": {
        "colab": {
          "base_uri": "https://localhost:8080/"
        },
        "id": "c4L1sMWCQP4i",
        "outputId": "f859ebd3-1fa3-4441-da6c-27485e9b80d6"
      },
      "execution_count": 10,
      "outputs": [
        {
          "output_type": "stream",
          "name": "stdout",
          "text": [
            "Enter a positive integer n: 4\n",
            "The sum of the cubes of the first 4 natural numbers is: 100\n"
          ]
        }
      ]
    },
    {
      "cell_type": "code",
      "source": [],
      "metadata": {
        "id": "egNLSaSPRsJP"
      },
      "execution_count": null,
      "outputs": []
    }
  ]
}